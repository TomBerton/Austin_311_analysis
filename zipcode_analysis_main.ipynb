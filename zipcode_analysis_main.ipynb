{
 "cells": [
  {
   "cell_type": "code",
   "execution_count": 1,
   "metadata": {
    "collapsed": true
   },
   "outputs": [],
   "source": [
    "#import Dependencies\n",
    "import os\n",
    "import pandas as pd\n",
    "import matplotlib.pyplot as plt\n",
    "from matplotlib import cm\n",
    "import numpy as np\n",
    "from scipy.stats import linregress"
   ]
  },
  {
   "cell_type": "code",
   "execution_count": 2,
   "metadata": {},
   "outputs": [
    {
     "data": {
      "text/html": [
       "<div>\n",
       "<style>\n",
       "    .dataframe thead tr:only-child th {\n",
       "        text-align: right;\n",
       "    }\n",
       "\n",
       "    .dataframe thead th {\n",
       "        text-align: left;\n",
       "    }\n",
       "\n",
       "    .dataframe tbody tr th {\n",
       "        vertical-align: top;\n",
       "    }\n",
       "</style>\n",
       "<table border=\"1\" class=\"dataframe\">\n",
       "  <thead>\n",
       "    <tr style=\"text-align: right;\">\n",
       "      <th></th>\n",
       "      <th>zip_code</th>\n",
       "      <th>complaint_count</th>\n",
       "      <th>crime_reports</th>\n",
       "      <th>median_household_income($)</th>\n",
       "      <th>population_below_poverty_level(%)</th>\n",
       "      <th>unemployment(%)</th>\n",
       "      <th>total_population</th>\n",
       "      <th>male(%)</th>\n",
       "      <th>female(%)</th>\n",
       "      <th>renters(%)</th>\n",
       "    </tr>\n",
       "  </thead>\n",
       "  <tbody>\n",
       "    <tr>\n",
       "      <th>0</th>\n",
       "      <td>78745</td>\n",
       "      <td>31381</td>\n",
       "      <td>2108.0</td>\n",
       "      <td>49243.0</td>\n",
       "      <td>16.0</td>\n",
       "      <td>7.0</td>\n",
       "      <td>55614.0</td>\n",
       "      <td>50.010789</td>\n",
       "      <td>49.989211</td>\n",
       "      <td>54.0</td>\n",
       "    </tr>\n",
       "    <tr>\n",
       "      <th>1</th>\n",
       "      <td>78704</td>\n",
       "      <td>29674</td>\n",
       "      <td>2380.0</td>\n",
       "      <td>50248.0</td>\n",
       "      <td>21.0</td>\n",
       "      <td>7.0</td>\n",
       "      <td>42117.0</td>\n",
       "      <td>50.480803</td>\n",
       "      <td>49.519197</td>\n",
       "      <td>65.0</td>\n",
       "    </tr>\n",
       "    <tr>\n",
       "      <th>2</th>\n",
       "      <td>78702</td>\n",
       "      <td>25203</td>\n",
       "      <td>1497.0</td>\n",
       "      <td>34734.0</td>\n",
       "      <td>33.0</td>\n",
       "      <td>11.0</td>\n",
       "      <td>21334.0</td>\n",
       "      <td>51.031218</td>\n",
       "      <td>48.968782</td>\n",
       "      <td>54.0</td>\n",
       "    </tr>\n",
       "    <tr>\n",
       "      <th>3</th>\n",
       "      <td>78744</td>\n",
       "      <td>22108</td>\n",
       "      <td>1807.0</td>\n",
       "      <td>41056.0</td>\n",
       "      <td>26.0</td>\n",
       "      <td>9.0</td>\n",
       "      <td>42820.0</td>\n",
       "      <td>50.586175</td>\n",
       "      <td>49.413825</td>\n",
       "      <td>54.0</td>\n",
       "    </tr>\n",
       "    <tr>\n",
       "      <th>4</th>\n",
       "      <td>78758</td>\n",
       "      <td>21741</td>\n",
       "      <td>2281.0</td>\n",
       "      <td>41792.0</td>\n",
       "      <td>24.0</td>\n",
       "      <td>10.0</td>\n",
       "      <td>44072.0</td>\n",
       "      <td>52.219096</td>\n",
       "      <td>47.780904</td>\n",
       "      <td>71.0</td>\n",
       "    </tr>\n",
       "  </tbody>\n",
       "</table>\n",
       "</div>"
      ],
      "text/plain": [
       "   zip_code  complaint_count  crime_reports  median_household_income($)  \\\n",
       "0     78745            31381         2108.0                     49243.0   \n",
       "1     78704            29674         2380.0                     50248.0   \n",
       "2     78702            25203         1497.0                     34734.0   \n",
       "3     78744            22108         1807.0                     41056.0   \n",
       "4     78758            21741         2281.0                     41792.0   \n",
       "\n",
       "   population_below_poverty_level(%)  unemployment(%)  total_population  \\\n",
       "0                               16.0              7.0           55614.0   \n",
       "1                               21.0              7.0           42117.0   \n",
       "2                               33.0             11.0           21334.0   \n",
       "3                               26.0              9.0           42820.0   \n",
       "4                               24.0             10.0           44072.0   \n",
       "\n",
       "     male(%)  female(%)  renters(%)  \n",
       "0  50.010789  49.989211        54.0  \n",
       "1  50.480803  49.519197        65.0  \n",
       "2  51.031218  48.968782        54.0  \n",
       "3  50.586175  49.413825        54.0  \n",
       "4  52.219096  47.780904        71.0  "
      ]
     },
     "execution_count": 2,
     "metadata": {},
     "output_type": "execute_result"
    }
   ],
   "source": [
    "#Read data from csv file created by zipcode_build_df.ipynb notebook\n",
    "#This will be the source for all analysis in this notebook\n",
    "zipcode_main_df = pd.read_csv('data/zip_code_data_combined.csv')\n",
    "del zipcode_main_df[\"Unnamed: 0\"]\n",
    "zipcode_main_df.head()"
   ]
  },
  {
   "cell_type": "code",
   "execution_count": 3,
   "metadata": {},
   "outputs": [
    {
     "data": {
      "image/png": "[encoded data removed]",
      "text/plain": [
       "<matplotlib.figure.Figure at 0x10e43ef28>"
      ]
     },
     "metadata": {},
     "output_type": "display_data"
    }
   ],
   "source": [
    "#plot complaint count by zipcode\n",
    "\n",
    "# Create the ticks for bar chart's x axis\n",
    "plt.figure(figsize=(15,6))\n",
    "x_axis = np.arange(len(zipcode_main_df[\"zip_code\"]))\n",
    "tick_locations = [value + 0.4 for value in x_axis]\n",
    "plt.xticks(tick_locations, zipcode_main_df[\"zip_code\"], rotation=\"vertical\")\n",
    "\n",
    "plt.bar(x_axis, zipcode_main_df[\"complaint_count\"], alpha=0.5, align=\"edge\", color = \"green\", edgecolor = \"y\")\n",
    "\n",
    "plt.xlabel(\"Zipcode\")\n",
    "plt.ylabel(\"Complaint Count\")\n",
    "plt.title(\"Complaint count by zipcode\")\n",
    "\n",
    "fig1 = plt.gcf()\n",
    "plt.show()\n",
    "fig1.savefig('images/Complaint_zip.png', dpi=200)"
   ]
  },
  {
   "cell_type": "markdown",
   "metadata": {},
   "source": [
    "The top-3 zipcodes based on complaint counts are\n",
    "1. 78745 (Sunset Valley)\n",
    "2. 78704 (Zilker/Barton hills)\n",
    "3. 78702 (Central-East Austin)"
   ]
  },
  {
   "cell_type": "markdown",
   "metadata": {},
   "source": [
    "### Population Analysis\n",
    "Zip-codes with larger population will have more number of complaints."
   ]
  },
  {
   "cell_type": "code",
   "execution_count": 4,
   "metadata": {},
   "outputs": [
    {
     "data": {
      "image/png": "[encoded data removed]",
      "text/plain": [
       "<matplotlib.figure.Figure at 0x10e43e128>"
      ]
     },
     "metadata": {},
     "output_type": "display_data"
    }
   ],
   "source": [
    "#complaint count vs population\n",
    "plt.scatter (zipcode_main_df[\"total_population\"], zipcode_main_df[\"complaint_count\"], color = \"green\", edgecolor = \"g\")\n",
    "                               \n",
    "plt.xlabel(\"Population\")\n",
    "plt.ylabel(\"Complaint count\")\n",
    "plt.title(\"Complaint count by population\")\n",
    "\n",
    "fig1 = plt.gcf()\n",
    "plt.show()\n",
    "fig1.savefig('images/Complaint_population.png', dpi=200)"
   ]
  },
  {
   "cell_type": "markdown",
   "metadata": {},
   "source": [
    "In order to remove the effect of population on complaint count, it is useful to calculate & plot per-capita complaints by zipcode"
   ]
  },
  {
   "cell_type": "code",
   "execution_count": 5,
   "metadata": {},
   "outputs": [
    {
     "data": {
      "text/html": [
       "<div>\n",
       "<style>\n",
       "    .dataframe thead tr:only-child th {\n",
       "        text-align: right;\n",
       "    }\n",
       "\n",
       "    .dataframe thead th {\n",
       "        text-align: left;\n",
       "    }\n",
       "\n",
       "    .dataframe tbody tr th {\n",
       "        vertical-align: top;\n",
       "    }\n",
       "</style>\n",
       "<table border=\"1\" class=\"dataframe\">\n",
       "  <thead>\n",
       "    <tr style=\"text-align: right;\">\n",
       "      <th></th>\n",
       "      <th>zip_code</th>\n",
       "      <th>complaint_count</th>\n",
       "      <th>crime_reports</th>\n",
       "      <th>median_household_income($)</th>\n",
       "      <th>population_below_poverty_level(%)</th>\n",
       "      <th>unemployment(%)</th>\n",
       "      <th>total_population</th>\n",
       "      <th>male(%)</th>\n",
       "      <th>female(%)</th>\n",
       "      <th>renters(%)</th>\n",
       "      <th>per_capita_complaint</th>\n",
       "    </tr>\n",
       "  </thead>\n",
       "  <tbody>\n",
       "    <tr>\n",
       "      <th>0</th>\n",
       "      <td>78745</td>\n",
       "      <td>31381</td>\n",
       "      <td>2108.0</td>\n",
       "      <td>49243.0</td>\n",
       "      <td>16.0</td>\n",
       "      <td>7.0</td>\n",
       "      <td>55614.0</td>\n",
       "      <td>50.010789</td>\n",
       "      <td>49.989211</td>\n",
       "      <td>54.0</td>\n",
       "      <td>0.564264</td>\n",
       "    </tr>\n",
       "    <tr>\n",
       "      <th>1</th>\n",
       "      <td>78704</td>\n",
       "      <td>29674</td>\n",
       "      <td>2380.0</td>\n",
       "      <td>50248.0</td>\n",
       "      <td>21.0</td>\n",
       "      <td>7.0</td>\n",
       "      <td>42117.0</td>\n",
       "      <td>50.480803</td>\n",
       "      <td>49.519197</td>\n",
       "      <td>65.0</td>\n",
       "      <td>0.704561</td>\n",
       "    </tr>\n",
       "    <tr>\n",
       "      <th>2</th>\n",
       "      <td>78702</td>\n",
       "      <td>25203</td>\n",
       "      <td>1497.0</td>\n",
       "      <td>34734.0</td>\n",
       "      <td>33.0</td>\n",
       "      <td>11.0</td>\n",
       "      <td>21334.0</td>\n",
       "      <td>51.031218</td>\n",
       "      <td>48.968782</td>\n",
       "      <td>54.0</td>\n",
       "      <td>1.181354</td>\n",
       "    </tr>\n",
       "    <tr>\n",
       "      <th>3</th>\n",
       "      <td>78744</td>\n",
       "      <td>22108</td>\n",
       "      <td>1807.0</td>\n",
       "      <td>41056.0</td>\n",
       "      <td>26.0</td>\n",
       "      <td>9.0</td>\n",
       "      <td>42820.0</td>\n",
       "      <td>50.586175</td>\n",
       "      <td>49.413825</td>\n",
       "      <td>54.0</td>\n",
       "      <td>0.516301</td>\n",
       "    </tr>\n",
       "    <tr>\n",
       "      <th>4</th>\n",
       "      <td>78758</td>\n",
       "      <td>21741</td>\n",
       "      <td>2281.0</td>\n",
       "      <td>41792.0</td>\n",
       "      <td>24.0</td>\n",
       "      <td>10.0</td>\n",
       "      <td>44072.0</td>\n",
       "      <td>52.219096</td>\n",
       "      <td>47.780904</td>\n",
       "      <td>71.0</td>\n",
       "      <td>0.493306</td>\n",
       "    </tr>\n",
       "  </tbody>\n",
       "</table>\n",
       "</div>"
      ],
      "text/plain": [
       "   zip_code  complaint_count  crime_reports  median_household_income($)  \\\n",
       "0     78745            31381         2108.0                     49243.0   \n",
       "1     78704            29674         2380.0                     50248.0   \n",
       "2     78702            25203         1497.0                     34734.0   \n",
       "3     78744            22108         1807.0                     41056.0   \n",
       "4     78758            21741         2281.0                     41792.0   \n",
       "\n",
       "   population_below_poverty_level(%)  unemployment(%)  total_population  \\\n",
       "0                               16.0              7.0           55614.0   \n",
       "1                               21.0              7.0           42117.0   \n",
       "2                               33.0             11.0           21334.0   \n",
       "3                               26.0              9.0           42820.0   \n",
       "4                               24.0             10.0           44072.0   \n",
       "\n",
       "     male(%)  female(%)  renters(%)  per_capita_complaint  \n",
       "0  50.010789  49.989211        54.0              0.564264  \n",
       "1  50.480803  49.519197        65.0              0.704561  \n",
       "2  51.031218  48.968782        54.0              1.181354  \n",
       "3  50.586175  49.413825        54.0              0.516301  \n",
       "4  52.219096  47.780904        71.0              0.493306  "
      ]
     },
     "execution_count": 5,
     "metadata": {},
     "output_type": "execute_result"
    }
   ],
   "source": [
    "#calculate per-capita complaint count by zipcode\n",
    "zipcode_main_df[\"per_capita_complaint\"] = zipcode_main_df[\"complaint_count\"]/zipcode_main_df[\"total_population\"]\n",
    "zipcode_main_df.head()"
   ]
  },
  {
   "cell_type": "code",
   "execution_count": 6,
   "metadata": {},
   "outputs": [
    {
     "data": {
      "image/png": "[encoded data removed]",
      "text/plain": [
       "<matplotlib.figure.Figure at 0x112b44198>"
      ]
     },
     "metadata": {},
     "output_type": "display_data"
    }
   ],
   "source": [
    "#plot per-capita complaint count by zipcode\n",
    "\n",
    "# Create the ticks for bar chart's x axis\n",
    "plt.figure(figsize=(15,6))\n",
    "x_axis = np.arange(len(zipcode_main_df[\"zip_code\"]))\n",
    "tick_locations = [value + 0.4 for value in x_axis]\n",
    "plt.xticks(tick_locations, zipcode_main_df[\"zip_code\"], rotation=\"vertical\")\n",
    "\n",
    "plt.bar(x_axis, zipcode_main_df[\"per_capita_complaint\"], alpha=0.5, align=\"edge\", color = \"green\", edgecolor = \"y\")\n",
    "\n",
    "plt.xlabel(\"Zipcode\")\n",
    "plt.ylabel(\"Per-capita Complaint Count\")\n",
    "plt.title(\"Per-capita Complaint count by zipcode\")\n",
    "\n",
    "fig1 = plt.gcf()\n",
    "plt.show()\n",
    "fig1.savefig('images/Per-capita_complaint_zip.png', dpi=200)"
   ]
  },
  {
   "cell_type": "markdown",
   "metadata": {},
   "source": [
    "The top-3 zipcodes based on per-capita complaint counts are\n",
    "1. 78701 (Downtown)\n",
    "2. 78702 (Central-East Austin)\n",
    "3. 78742 "
   ]
  },
  {
   "cell_type": "code",
   "execution_count": 7,
   "metadata": {
    "collapsed": true
   },
   "outputs": [],
   "source": [
    "# Create data-frame for zipcodes with populations between 20K-30K\n",
    "# This will be used later for analysis of zip-codes with similar population\n",
    "zipcode_20k_to_30k = zipcode_main_df[zipcode_main_df[\"total_population\"].between(20000, 30000, inclusive=True)]"
   ]
  },
  {
   "cell_type": "markdown",
   "metadata": {},
   "source": [
    "### Household income analysis\n",
    "Analyse the complaint count per zip-code based on Median household income"
   ]
  },
  {
   "cell_type": "code",
   "execution_count": 8,
   "metadata": {},
   "outputs": [
    {
     "data": {
      "image/png": "[encoded data removed]",
      "text/plain": [
       "<matplotlib.figure.Figure at 0x112b2f4e0>"
      ]
     },
     "metadata": {},
     "output_type": "display_data"
    }
   ],
   "source": [
    "#complaint count vs income\n",
    "plt.scatter (zipcode_main_df[\"median_household_income($)\"], zipcode_main_df[\"complaint_count\"],color = \"green\", edgecolor = \"g\")\n",
    "plt.xlabel(\"Median household income($)\")\n",
    "plt.ylabel(\"Complaint count\")\n",
    "plt.title(\"Complaint count by Median household income\")\n",
    "\n",
    "fig1 = plt.gcf()\n",
    "plt.show()\n",
    "fig1.savefig('images/Complaint_median_income.png', dpi=200)"
   ]
  },
  {
   "cell_type": "markdown",
   "metadata": {},
   "source": [
    "Scatter plot does not seem to be a good way to represent the relationship between complaint counts & median household income.\n",
    "A better way is to create 5 income categories & represent complaint count by a bar chart"
   ]
  },
  {
   "cell_type": "code",
   "execution_count": 9,
   "metadata": {},
   "outputs": [
    {
     "data": {
      "text/html": [
       "<div>\n",
       "<style>\n",
       "    .dataframe thead tr:only-child th {\n",
       "        text-align: right;\n",
       "    }\n",
       "\n",
       "    .dataframe thead th {\n",
       "        text-align: left;\n",
       "    }\n",
       "\n",
       "    .dataframe tbody tr th {\n",
       "        vertical-align: top;\n",
       "    }\n",
       "</style>\n",
       "<table border=\"1\" class=\"dataframe\">\n",
       "  <thead>\n",
       "    <tr style=\"text-align: right;\">\n",
       "      <th></th>\n",
       "      <th>median_household_income_bins</th>\n",
       "      <th>complaint_count</th>\n",
       "    </tr>\n",
       "  </thead>\n",
       "  <tbody>\n",
       "    <tr>\n",
       "      <th>0</th>\n",
       "      <td>&lt;20K</td>\n",
       "      <td>12989.000000</td>\n",
       "    </tr>\n",
       "    <tr>\n",
       "      <th>1</th>\n",
       "      <td>20K-40K</td>\n",
       "      <td>13090.250000</td>\n",
       "    </tr>\n",
       "    <tr>\n",
       "      <th>2</th>\n",
       "      <td>40K-60K</td>\n",
       "      <td>14705.000000</td>\n",
       "    </tr>\n",
       "    <tr>\n",
       "      <th>3</th>\n",
       "      <td>60K-80K</td>\n",
       "      <td>10025.500000</td>\n",
       "    </tr>\n",
       "    <tr>\n",
       "      <th>4</th>\n",
       "      <td>&gt;80K</td>\n",
       "      <td>6510.142857</td>\n",
       "    </tr>\n",
       "  </tbody>\n",
       "</table>\n",
       "</div>"
      ],
      "text/plain": [
       "  median_household_income_bins  complaint_count\n",
       "0                         <20K     12989.000000\n",
       "1                      20K-40K     13090.250000\n",
       "2                      40K-60K     14705.000000\n",
       "3                      60K-80K     10025.500000\n",
       "4                         >80K      6510.142857"
      ]
     },
     "execution_count": 9,
     "metadata": {},
     "output_type": "execute_result"
    }
   ],
   "source": [
    "#bin by household income\n",
    "#define bins & label. Use pd.cut to bin on school_sumry_df dataframe\n",
    "bins = [0, 20000, 40000, 60000, 80000, 180000]\n",
    "bin_labels = [\" <20K\",\"20K-40K\",\"40K-60K\",\"60K-80K\", \">80K\",]\n",
    "zipcode_main_df[\"median_household_income_bins\"] = pd.cut(zipcode_main_df[\"median_household_income($)\"], \n",
    "                                                         bins, right = False, labels = bin_labels)\n",
    "\n",
    "income_bar = pd.DataFrame(zipcode_main_df.groupby(\"median_household_income_bins\")[\"complaint_count\"].mean())\n",
    "income_bar = income_bar.reset_index()\n",
    "income_bar"
   ]
  },
  {
   "cell_type": "code",
   "execution_count": 10,
   "metadata": {},
   "outputs": [
    {
     "data": {
      "image/png": "[encoded data removed]",
      "text/plain": [
       "<matplotlib.figure.Figure at 0x113044320>"
      ]
     },
     "metadata": {},
     "output_type": "display_data"
    }
   ],
   "source": [
    "# Create the ticks for our bar chart's x axis\n",
    "#plt.figure(figsize=(20,3))\n",
    "x_axis = np.arange(len(income_bar[\"median_household_income_bins\"]))\n",
    "tick_locations = [value + 0.4 for value in x_axis]\n",
    "plt.xticks(tick_locations, income_bar[\"median_household_income_bins\"])\n",
    "\n",
    "plt.bar(x_axis, income_bar[\"complaint_count\"], alpha=0.5, align=\"edge\",color = \"green\", edgecolor = \"r\")\n",
    "\n",
    "plt.xlabel(\"Median household income\")\n",
    "plt.ylabel(\"Complaint Count\")\n",
    "plt.title(\"Complaint count by Median household income\")\n",
    "\n",
    "fig1 = plt.gcf()\n",
    "plt.show()\n",
    "fig1.savefig('images/Complaint_median_income_bins.png', dpi=200)"
   ]
  },
  {
   "cell_type": "markdown",
   "metadata": {},
   "source": [
    "### Poverty line"
   ]
  },
  {
   "cell_type": "code",
   "execution_count": 11,
   "metadata": {},
   "outputs": [
    {
     "data": {
      "image/png": "[encoded data removed]",
      "text/plain": [
       "<matplotlib.figure.Figure at 0x1131c1f98>"
      ]
     },
     "metadata": {},
     "output_type": "display_data"
    }
   ],
   "source": [
    "#complaint count vs population below poverty line\n",
    "plt.scatter (zipcode_main_df[\"population_below_poverty_level(%)\"], zipcode_main_df[\"complaint_count\"],color = \"green\", edgecolor = \"r\")\n",
    "plt.xlabel(\"Population below poverty level(%)\")\n",
    "plt.ylabel(\"Complaint count\")\n",
    "plt.title(\"Complaint count by population below poverty level\")\n",
    "\n",
    "fig1 = plt.gcf()\n",
    "plt.show()\n",
    "fig1.savefig('images/Complaint_poverty.png', dpi=200)"
   ]
  },
  {
   "cell_type": "markdown",
   "metadata": {},
   "source": [
    "### Crime\n",
    "This analysis is based on a 2016 Annual Crime report data. There were zipcode mentioned for each reported crime. I grouped the crime reports by zip-code to get total crime reports per zip-code. I then used this data to see if neighbourhoods that are pro-active in reporting problems have lower crime rates"
   ]
  },
  {
   "cell_type": "code",
   "execution_count": 12,
   "metadata": {},
   "outputs": [
    {
     "data": {
      "image/png": "[encoded data removed]",
      "text/plain": [
       "<matplotlib.figure.Figure at 0x113fbf5f8>"
      ]
     },
     "metadata": {},
     "output_type": "display_data"
    }
   ],
   "source": [
    "#complaint count vs crime rate\n",
    "plt.scatter (zipcode_main_df[\"crime_reports\"], zipcode_main_df[\"complaint_count\"], color = \"green\", edgecolor = \"r\")\n",
    "plt.xlabel(\"Crime rate\")\n",
    "plt.ylabel(\"Complaint count\")\n",
    "plt.title(\"Complaint count vs Crime rate\")\n",
    "\n",
    "fig1 = plt.gcf()\n",
    "plt.show()\n",
    "fig1.savefig('images/Complaint_crime.png', dpi=200)"
   ]
  },
  {
   "cell_type": "code",
   "execution_count": 13,
   "metadata": {
    "collapsed": true
   },
   "outputs": [],
   "source": [
    "#Regression analysis(best fit)\n",
    "crime = zipcode_main_df.loc[:,\"crime_reports\"]\n",
    "complaint = zipcode_main_df.loc[:,\"complaint_count\"]\n",
    "\n",
    "#use mask to remove NaN\n",
    "mask = ~np.isnan(crime) & ~np.isnan(complaint)\n",
    "slope, intercept, r_value, p_value,_ = linregress(crime[mask], complaint[mask])\n",
    "fit = slope * crime[mask] + intercept"
   ]
  },
  {
   "cell_type": "code",
   "execution_count": 22,
   "metadata": {},
   "outputs": [
    {
     "name": "stdout",
     "output_type": "stream",
     "text": [
      "0.77110 0.0001720\n"
     ]
    }
   ],
   "source": [
    "print('{0:.5f}'.format(r_value**2), '{0:.7f}'.format(p_value))"
   ]
  },
  {
   "cell_type": "code",
   "execution_count": 23,
   "metadata": {},
   "outputs": [
    {
     "data": {
      "image/png": "[encoded data removed]",
      "text/plain": [
       "<matplotlib.figure.Figure at 0x113fa4208>"
      ]
     },
     "metadata": {},
     "output_type": "display_data"
    }
   ],
   "source": [
    "#plot crime reports vs complaint count\n",
    "plt.scatter(crime[mask], complaint[mask], color='green', edgecolor='r')\n",
    "plt.plot(crime[mask], fit, color='blue', linestyle='dashed')\n",
    "plt.xlabel(\"Crime rate\")\n",
    "plt.ylabel(\"Complaint count\")\n",
    "plt.title(\"Complaint count vs Crime rate\")\n",
    "plt.legend((f'R-squared = ','{0:.5f}'.format(r_value**2)),loc='upper left', frameon=False)\n",
    "fig1 = plt.gcf()\n",
    "plt.show()\n",
    "fig1.savefig('images/Complaint_crime_regression.png', dpi=200)"
   ]
  },
  {
   "cell_type": "markdown",
   "metadata": {},
   "source": [
    "It looks like being involved & vocal about their surroundings isn't helping. There is a fairly linear relationship between crime rate & complaint count. In order to discount the effect of population, I looked at only zipcodes with population between 20-30K"
   ]
  },
  {
   "cell_type": "code",
   "execution_count": 24,
   "metadata": {
    "collapsed": true
   },
   "outputs": [],
   "source": [
    "#Regression analysis(best fit) when only looking at zip-code with population 20K-30K\n",
    "crime = zipcode_20k_to_30k.loc[:,\"crime_reports\"]\n",
    "complaint = zipcode_20k_to_30k.loc[:,\"complaint_count\"]\n",
    "\n",
    "#use mask to remove NaN\n",
    "mask = ~np.isnan(crime) & ~np.isnan(complaint)\n",
    "slope, intercept, r_value, p_value,_ = linregress(crime[mask], complaint[mask])\n",
    "fit = slope * crime[mask] + intercept"
   ]
  },
  {
   "cell_type": "code",
   "execution_count": 25,
   "metadata": {},
   "outputs": [
    {
     "name": "stdout",
     "output_type": "stream",
     "text": [
      "0.00017 0.77110\n"
     ]
    }
   ],
   "source": [
    "print('{0:.5f}'.format(p_value), '{0:.5f}'.format(r_value**2))"
   ]
  },
  {
   "cell_type": "code",
   "execution_count": 18,
   "metadata": {},
   "outputs": [
    {
     "data": {
      "image/png": "[encoded data removed]",
      "text/plain": [
       "<matplotlib.figure.Figure at 0x11311d668>"
      ]
     },
     "metadata": {},
     "output_type": "display_data"
    }
   ],
   "source": [
    "#plot crime reports vs complaint count for zip-codes with population 20K-30K\n",
    "plt.scatter(crime[mask], complaint[mask], color='green', edgecolor='r')\n",
    "plt.plot(crime[mask], fit, color='blue', linestyle='dashed')\n",
    "plt.xlabel(\"Crime rate\")\n",
    "plt.ylabel(\"Complaint count\")\n",
    "plt.title(\"Complaint count vs Crime rate for population between 20K-30K\")\n",
    "plt.legend((f'p-value = ','{0:.5f}'.format(p_value)),loc='lower right', frameon=False)\n",
    "fig1 = plt.gcf()\n",
    "plt.show()\n",
    "fig1.savefig('images/Complaint_20K_30K.png', dpi=200)"
   ]
  },
  {
   "cell_type": "markdown",
   "metadata": {},
   "source": [
    "The linear relation still holds even when considering zipcode with similar population.The higher 311 complaint numbers seems to be an indication of systemic problems in the neighbourhood. Higher crime rate might be one of the results of it."
   ]
  },
  {
   "cell_type": "markdown",
   "metadata": {
    "collapsed": true
   },
   "source": [
    "### Renters and Home-owners\n",
    "I obtained the percentage of renters in zip-code from city-data.com to see how renters compare with home-owners in caring about their neighbourhood."
   ]
  },
  {
   "cell_type": "code",
   "execution_count": 19,
   "metadata": {},
   "outputs": [
    {
     "data": {
      "text/html": [
       "<div>\n",
       "<style>\n",
       "    .dataframe thead tr:only-child th {\n",
       "        text-align: right;\n",
       "    }\n",
       "\n",
       "    .dataframe thead th {\n",
       "        text-align: left;\n",
       "    }\n",
       "\n",
       "    .dataframe tbody tr th {\n",
       "        vertical-align: top;\n",
       "    }\n",
       "</style>\n",
       "<table border=\"1\" class=\"dataframe\">\n",
       "  <thead>\n",
       "    <tr style=\"text-align: right;\">\n",
       "      <th></th>\n",
       "      <th>zip_code</th>\n",
       "      <th>complaint_count</th>\n",
       "      <th>crime_reports</th>\n",
       "      <th>median_household_income($)</th>\n",
       "      <th>population_below_poverty_level(%)</th>\n",
       "      <th>unemployment(%)</th>\n",
       "      <th>total_population</th>\n",
       "      <th>male(%)</th>\n",
       "      <th>female(%)</th>\n",
       "      <th>renters(%)</th>\n",
       "      <th>per_capita_complaint</th>\n",
       "      <th>median_household_income_bins</th>\n",
       "      <th>Majority</th>\n",
       "    </tr>\n",
       "  </thead>\n",
       "  <tbody>\n",
       "    <tr>\n",
       "      <th>0</th>\n",
       "      <td>78745</td>\n",
       "      <td>31381</td>\n",
       "      <td>2108.0</td>\n",
       "      <td>49243.0</td>\n",
       "      <td>16.0</td>\n",
       "      <td>7.0</td>\n",
       "      <td>55614.0</td>\n",
       "      <td>50.010789</td>\n",
       "      <td>49.989211</td>\n",
       "      <td>54.0</td>\n",
       "      <td>0.564264</td>\n",
       "      <td>40K-60K</td>\n",
       "      <td>Renters</td>\n",
       "    </tr>\n",
       "    <tr>\n",
       "      <th>1</th>\n",
       "      <td>78704</td>\n",
       "      <td>29674</td>\n",
       "      <td>2380.0</td>\n",
       "      <td>50248.0</td>\n",
       "      <td>21.0</td>\n",
       "      <td>7.0</td>\n",
       "      <td>42117.0</td>\n",
       "      <td>50.480803</td>\n",
       "      <td>49.519197</td>\n",
       "      <td>65.0</td>\n",
       "      <td>0.704561</td>\n",
       "      <td>40K-60K</td>\n",
       "      <td>Renters</td>\n",
       "    </tr>\n",
       "    <tr>\n",
       "      <th>2</th>\n",
       "      <td>78702</td>\n",
       "      <td>25203</td>\n",
       "      <td>1497.0</td>\n",
       "      <td>34734.0</td>\n",
       "      <td>33.0</td>\n",
       "      <td>11.0</td>\n",
       "      <td>21334.0</td>\n",
       "      <td>51.031218</td>\n",
       "      <td>48.968782</td>\n",
       "      <td>54.0</td>\n",
       "      <td>1.181354</td>\n",
       "      <td>20K-40K</td>\n",
       "      <td>Renters</td>\n",
       "    </tr>\n",
       "    <tr>\n",
       "      <th>3</th>\n",
       "      <td>78744</td>\n",
       "      <td>22108</td>\n",
       "      <td>1807.0</td>\n",
       "      <td>41056.0</td>\n",
       "      <td>26.0</td>\n",
       "      <td>9.0</td>\n",
       "      <td>42820.0</td>\n",
       "      <td>50.586175</td>\n",
       "      <td>49.413825</td>\n",
       "      <td>54.0</td>\n",
       "      <td>0.516301</td>\n",
       "      <td>40K-60K</td>\n",
       "      <td>Renters</td>\n",
       "    </tr>\n",
       "    <tr>\n",
       "      <th>4</th>\n",
       "      <td>78758</td>\n",
       "      <td>21741</td>\n",
       "      <td>2281.0</td>\n",
       "      <td>41792.0</td>\n",
       "      <td>24.0</td>\n",
       "      <td>10.0</td>\n",
       "      <td>44072.0</td>\n",
       "      <td>52.219096</td>\n",
       "      <td>47.780904</td>\n",
       "      <td>71.0</td>\n",
       "      <td>0.493306</td>\n",
       "      <td>40K-60K</td>\n",
       "      <td>Renters</td>\n",
       "    </tr>\n",
       "  </tbody>\n",
       "</table>\n",
       "</div>"
      ],
      "text/plain": [
       "   zip_code  complaint_count  crime_reports  median_household_income($)  \\\n",
       "0     78745            31381         2108.0                     49243.0   \n",
       "1     78704            29674         2380.0                     50248.0   \n",
       "2     78702            25203         1497.0                     34734.0   \n",
       "3     78744            22108         1807.0                     41056.0   \n",
       "4     78758            21741         2281.0                     41792.0   \n",
       "\n",
       "   population_below_poverty_level(%)  unemployment(%)  total_population  \\\n",
       "0                               16.0              7.0           55614.0   \n",
       "1                               21.0              7.0           42117.0   \n",
       "2                               33.0             11.0           21334.0   \n",
       "3                               26.0              9.0           42820.0   \n",
       "4                               24.0             10.0           44072.0   \n",
       "\n",
       "     male(%)  female(%)  renters(%)  per_capita_complaint  \\\n",
       "0  50.010789  49.989211        54.0              0.564264   \n",
       "1  50.480803  49.519197        65.0              0.704561   \n",
       "2  51.031218  48.968782        54.0              1.181354   \n",
       "3  50.586175  49.413825        54.0              0.516301   \n",
       "4  52.219096  47.780904        71.0              0.493306   \n",
       "\n",
       "  median_household_income_bins Majority  \n",
       "0                      40K-60K  Renters  \n",
       "1                      40K-60K  Renters  \n",
       "2                      20K-40K  Renters  \n",
       "3                      40K-60K  Renters  \n",
       "4                      40K-60K  Renters  "
      ]
     },
     "execution_count": 19,
     "metadata": {},
     "output_type": "execute_result"
    }
   ],
   "source": [
    "#bin by renters & home-owners\n",
    "#define bins & label. Use pd.cut to bin on school_sumry_df dataframe\n",
    "bins = [0, 50, 100]\n",
    "bin_labels = [\"Home owners\",\"Renters\"]\n",
    "zipcode_main_df[\"Majority\"] = pd.cut(zipcode_main_df[\"renters(%)\"], bins, right = False, labels = bin_labels)\n",
    "zipcode_main_df.head()"
   ]
  },
  {
   "cell_type": "code",
   "execution_count": 20,
   "metadata": {},
   "outputs": [
    {
     "data": {
      "text/html": [
       "<div>\n",
       "<style>\n",
       "    .dataframe thead tr:only-child th {\n",
       "        text-align: right;\n",
       "    }\n",
       "\n",
       "    .dataframe thead th {\n",
       "        text-align: left;\n",
       "    }\n",
       "\n",
       "    .dataframe tbody tr th {\n",
       "        vertical-align: top;\n",
       "    }\n",
       "</style>\n",
       "<table border=\"1\" class=\"dataframe\">\n",
       "  <thead>\n",
       "    <tr style=\"text-align: right;\">\n",
       "      <th></th>\n",
       "      <th>Majority</th>\n",
       "      <th>complaint_count</th>\n",
       "    </tr>\n",
       "  </thead>\n",
       "  <tbody>\n",
       "    <tr>\n",
       "      <th>0</th>\n",
       "      <td>Home owners</td>\n",
       "      <td>4019.911765</td>\n",
       "    </tr>\n",
       "    <tr>\n",
       "      <th>1</th>\n",
       "      <td>Renters</td>\n",
       "      <td>14287.500000</td>\n",
       "    </tr>\n",
       "  </tbody>\n",
       "</table>\n",
       "</div>"
      ],
      "text/plain": [
       "      Majority  complaint_count\n",
       "0  Home owners      4019.911765\n",
       "1      Renters     14287.500000"
      ]
     },
     "execution_count": 20,
     "metadata": {},
     "output_type": "execute_result"
    }
   ],
   "source": [
    "majority_bar = pd.DataFrame(zipcode_main_df.groupby(\"Majority\")[\"complaint_count\"].mean())\n",
    "majority_bar = majority_bar.reset_index()\n",
    "majority_bar"
   ]
  },
  {
   "cell_type": "code",
   "execution_count": 21,
   "metadata": {},
   "outputs": [
    {
     "data": {
      "image/png": "[encoded data removed]",
      "text/plain": [
       "<matplotlib.figure.Figure at 0x114485828>"
      ]
     },
     "metadata": {},
     "output_type": "display_data"
    }
   ],
   "source": [
    "# Create the ticks for our bar chart's x axis\n",
    "\n",
    "x_axis = np.arange(len(majority_bar[\"Majority\"]))\n",
    "tick_locations = [value + 0.4 for value in x_axis]\n",
    "plt.xticks(tick_locations, majority_bar[\"Majority\"])\n",
    "\n",
    "plt.bar(x_axis, majority_bar[\"complaint_count\"], alpha=0.5, align=\"edge\", color = \"green\", edgecolor = \"r\")\n",
    "\n",
    "plt.xlabel(\"Majority in zipcode\")\n",
    "plt.ylabel(\"Complaint Count\")\n",
    "plt.title(\"Complaint count by Renters or Home-owner majority\")\n",
    "\n",
    "plt.show()"
   ]
  },
  {
   "cell_type": "code",
   "execution_count": null,
   "metadata": {
    "collapsed": true
   },
   "outputs": [],
   "source": []
  }
 ],
 "metadata": {
  "kernelspec": {
   "display_name": "Python 3",
   "language": "python",
   "name": "python3"
  },
  "language_info": {
   "codemirror_mode": {
    "name": "ipython",
    "version": 3
   },
   "file_extension": ".py",
   "mimetype": "text/x-python",
   "name": "python",
   "nbconvert_exporter": "python",
   "pygments_lexer": "ipython3",
   "version": "3.6.1"
  }
 },
 "nbformat": 4,
 "nbformat_minor": 2
}
