{
 "cells": [
  {
   "cell_type": "markdown",
   "metadata": {},
   "source": [
    "## Austin 311 Data Cleanup\n",
    "-----\n",
    "- A .csv file of Austin 311 calls was retrieved from the City of Austin data website. https://data.austintexas.gov/\n",
    "- Donna Dietrich did the data cleaning and Tom assisted with the formatting of the df. \n",
    "- All members agreed on which columns to keep for the analysis.  "
   ]
  },
  {
   "cell_type": "code",
   "execution_count": 1,
   "metadata": {
    "collapsed": true
   },
   "outputs": [],
   "source": [
    "import pandas as pd\n",
    "import numpy as np\n",
    "from datetime import datetime\n",
    "import os"
   ]
  },
  {
   "cell_type": "markdown",
   "metadata": {},
   "source": [
    "### The \"austin_311_service_request.csv\" file imported, read and the necessary columns were kept. "
   ]
  },
  {
   "cell_type": "code",
   "execution_count": 2,
   "metadata": {},
   "outputs": [
    {
     "data": {
      "text/html": [
       "<div>\n",
       "<style>\n",
       "    .dataframe thead tr:only-child th {\n",
       "        text-align: right;\n",
       "    }\n",
       "\n",
       "    .dataframe thead th {\n",
       "        text-align: left;\n",
       "    }\n",
       "\n",
       "    .dataframe tbody tr th {\n",
       "        vertical-align: top;\n",
       "    }\n",
       "</style>\n",
       "<table border=\"1\" class=\"dataframe\">\n",
       "  <thead>\n",
       "    <tr style=\"text-align: right;\">\n",
       "      <th></th>\n",
       "      <th>city</th>\n",
       "      <th>close_date</th>\n",
       "      <th>complaint_description</th>\n",
       "      <th>complaint_type</th>\n",
       "      <th>council_district_code</th>\n",
       "      <th>county</th>\n",
       "      <th>created_date</th>\n",
       "      <th>incident_address</th>\n",
       "      <th>incident_zip</th>\n",
       "      <th>last_update_date</th>\n",
       "      <th>...</th>\n",
       "      <th>map_tile</th>\n",
       "      <th>owning_department</th>\n",
       "      <th>source</th>\n",
       "      <th>state_plane_x_coordinate</th>\n",
       "      <th>state_plane_y_coordinate</th>\n",
       "      <th>status</th>\n",
       "      <th>status_change_date</th>\n",
       "      <th>street_name</th>\n",
       "      <th>street_number</th>\n",
       "      <th>unique_key</th>\n",
       "    </tr>\n",
       "  </thead>\n",
       "  <tbody>\n",
       "    <tr>\n",
       "      <th>0</th>\n",
       "      <td>AUSTIN</td>\n",
       "      <td>2015-01-20 10:41:48</td>\n",
       "      <td>Loose Dog</td>\n",
       "      <td>ACLONAG</td>\n",
       "      <td>3.0</td>\n",
       "      <td>TRAVIS</td>\n",
       "      <td>2015-01-20 10:41:48</td>\n",
       "      <td>1305 CORIANDER DR AUSTIN TX</td>\n",
       "      <td>78741.0</td>\n",
       "      <td>2015-01-27 12:51:06</td>\n",
       "      <td>...</td>\n",
       "      <td>ML18</td>\n",
       "      <td>Animal Services Office</td>\n",
       "      <td>Phone</td>\n",
       "      <td>3131141.68710771</td>\n",
       "      <td>1.005532e+07</td>\n",
       "      <td>Duplicate (closed)</td>\n",
       "      <td>2015-01-20 10:41:48</td>\n",
       "      <td>CORIANDER</td>\n",
       "      <td>1305.0</td>\n",
       "      <td>15-00012439</td>\n",
       "    </tr>\n",
       "    <tr>\n",
       "      <th>1</th>\n",
       "      <td>AUSTIN</td>\n",
       "      <td>2016-06-01 10:58:13</td>\n",
       "      <td>Loose Dog</td>\n",
       "      <td>ACLONAG</td>\n",
       "      <td>7.0</td>\n",
       "      <td>TRAVIS</td>\n",
       "      <td>2016-05-22 10:00:49</td>\n",
       "      <td>3104 STONEWAY DR AUSTIN TX 78757</td>\n",
       "      <td>78757.0</td>\n",
       "      <td>2016-06-01 09:58:30</td>\n",
       "      <td>...</td>\n",
       "      <td>MJ29</td>\n",
       "      <td>Animal Services Office</td>\n",
       "      <td>Phone</td>\n",
       "      <td>3112134.24930453</td>\n",
       "      <td>1.010083e+07</td>\n",
       "      <td>Closed</td>\n",
       "      <td>2016-06-01 10:58:13</td>\n",
       "      <td>STONEWAY</td>\n",
       "      <td>3104.0</td>\n",
       "      <td>16-00123310</td>\n",
       "    </tr>\n",
       "    <tr>\n",
       "      <th>2</th>\n",
       "      <td>AUSTIN</td>\n",
       "      <td>2014-01-06 19:30:00</td>\n",
       "      <td>Loose Animal (not dog)</td>\n",
       "      <td>ACLOANIM</td>\n",
       "      <td>2.0</td>\n",
       "      <td>TRAVIS</td>\n",
       "      <td>2014-01-06 18:04:00</td>\n",
       "      <td>4100 SMITH SCHOOL RD AUSTIN TX</td>\n",
       "      <td>78744.0</td>\n",
       "      <td>2014-01-06 18:32:00</td>\n",
       "      <td>...</td>\n",
       "      <td>MK16</td>\n",
       "      <td>Animal Services Office</td>\n",
       "      <td>Phone</td>\n",
       "      <td>3124825.4024878</td>\n",
       "      <td>1.004597e+07</td>\n",
       "      <td>Closed</td>\n",
       "      <td>2014-01-06 19:30:00</td>\n",
       "      <td>SMITH SCHOOL</td>\n",
       "      <td>4100.0</td>\n",
       "      <td>14-00003554</td>\n",
       "    </tr>\n",
       "    <tr>\n",
       "      <th>3</th>\n",
       "      <td>AUSTIN</td>\n",
       "      <td>2014-11-19 10:46:48</td>\n",
       "      <td>Austin Code - Request Code Officer</td>\n",
       "      <td>CODECOMP</td>\n",
       "      <td>7.0</td>\n",
       "      <td>TRAVIS</td>\n",
       "      <td>2014-11-15 15:43:41</td>\n",
       "      <td>12710 PALFREY DR AUSTIN TX 78727</td>\n",
       "      <td>78727.0</td>\n",
       "      <td>2014-11-19 10:46:48</td>\n",
       "      <td>...</td>\n",
       "      <td>ML35</td>\n",
       "      <td>Austin Code Department</td>\n",
       "      <td>Web</td>\n",
       "      <td>3124206.25</td>\n",
       "      <td>1.012812e+07</td>\n",
       "      <td>Closed</td>\n",
       "      <td>2014-11-19 10:46:48</td>\n",
       "      <td>PALFREY</td>\n",
       "      <td>12710.0</td>\n",
       "      <td>14-00247505</td>\n",
       "    </tr>\n",
       "    <tr>\n",
       "      <th>4</th>\n",
       "      <td>AUSTIN</td>\n",
       "      <td>2014-08-25 21:21:00</td>\n",
       "      <td>Animal - Proper Care</td>\n",
       "      <td>ACPROPER</td>\n",
       "      <td>1.0</td>\n",
       "      <td>TRAVIS</td>\n",
       "      <td>2014-07-28 17:33:00</td>\n",
       "      <td>6703 TULANE DR AUSTIN TX</td>\n",
       "      <td>78723.0</td>\n",
       "      <td>2014-08-25 20:23:00</td>\n",
       "      <td>...</td>\n",
       "      <td>MM26</td>\n",
       "      <td>Animal Services Office</td>\n",
       "      <td>Phone</td>\n",
       "      <td>3137129.998</td>\n",
       "      <td>1.008721e+07</td>\n",
       "      <td>Closed</td>\n",
       "      <td>2014-08-25 21:21:00</td>\n",
       "      <td>TULANE</td>\n",
       "      <td>6703.0</td>\n",
       "      <td>14-00156342</td>\n",
       "    </tr>\n",
       "  </tbody>\n",
       "</table>\n",
       "<p>5 rows × 24 columns</p>\n",
       "</div>"
      ],
      "text/plain": [
       "     city           close_date               complaint_description  \\\n",
       "0  AUSTIN  2015-01-20 10:41:48                           Loose Dog   \n",
       "1  AUSTIN  2016-06-01 10:58:13                           Loose Dog   \n",
       "2  AUSTIN  2014-01-06 19:30:00              Loose Animal (not dog)   \n",
       "3  AUSTIN  2014-11-19 10:46:48  Austin Code - Request Code Officer   \n",
       "4  AUSTIN  2014-08-25 21:21:00                Animal - Proper Care   \n",
       "\n",
       "  complaint_type  council_district_code  county         created_date  \\\n",
       "0        ACLONAG                    3.0  TRAVIS  2015-01-20 10:41:48   \n",
       "1        ACLONAG                    7.0  TRAVIS  2016-05-22 10:00:49   \n",
       "2       ACLOANIM                    2.0  TRAVIS  2014-01-06 18:04:00   \n",
       "3       CODECOMP                    7.0  TRAVIS  2014-11-15 15:43:41   \n",
       "4       ACPROPER                    1.0  TRAVIS  2014-07-28 17:33:00   \n",
       "\n",
       "                   incident_address  incident_zip     last_update_date  \\\n",
       "0       1305 CORIANDER DR AUSTIN TX       78741.0  2015-01-27 12:51:06   \n",
       "1  3104 STONEWAY DR AUSTIN TX 78757       78757.0  2016-06-01 09:58:30   \n",
       "2    4100 SMITH SCHOOL RD AUSTIN TX       78744.0  2014-01-06 18:32:00   \n",
       "3  12710 PALFREY DR AUSTIN TX 78727       78727.0  2014-11-19 10:46:48   \n",
       "4          6703 TULANE DR AUSTIN TX       78723.0  2014-08-25 20:23:00   \n",
       "\n",
       "      ...       map_tile       owning_department  source  \\\n",
       "0     ...           ML18  Animal Services Office   Phone   \n",
       "1     ...           MJ29  Animal Services Office   Phone   \n",
       "2     ...           MK16  Animal Services Office   Phone   \n",
       "3     ...           ML35  Austin Code Department     Web   \n",
       "4     ...           MM26  Animal Services Office   Phone   \n",
       "\n",
       "  state_plane_x_coordinate state_plane_y_coordinate              status  \\\n",
       "0         3131141.68710771             1.005532e+07  Duplicate (closed)   \n",
       "1         3112134.24930453             1.010083e+07              Closed   \n",
       "2          3124825.4024878             1.004597e+07              Closed   \n",
       "3               3124206.25             1.012812e+07              Closed   \n",
       "4              3137129.998             1.008721e+07              Closed   \n",
       "\n",
       "    status_change_date   street_name  street_number   unique_key  \n",
       "0  2015-01-20 10:41:48     CORIANDER         1305.0  15-00012439  \n",
       "1  2016-06-01 10:58:13      STONEWAY         3104.0  16-00123310  \n",
       "2  2014-01-06 19:30:00  SMITH SCHOOL         4100.0  14-00003554  \n",
       "3  2014-11-19 10:46:48       PALFREY        12710.0  14-00247505  \n",
       "4  2014-08-25 21:21:00        TULANE         6703.0  14-00156342  \n",
       "\n",
       "[5 rows x 24 columns]"
      ]
     },
     "execution_count": 2,
     "metadata": {},
     "output_type": "execute_result"
    }
   ],
   "source": [
    "#Read the csv file that was downloaded from the City of Austin: \"https://data.austintexas.gov/\"\n",
    "austin_311_df = pd.read_csv('data/austin_311_service_requests.csv',low_memory=False)\n",
    "austin_311_df.head()"
   ]
  },
  {
   "cell_type": "code",
   "execution_count": 3,
   "metadata": {},
   "outputs": [
    {
     "data": {
      "text/plain": [
       "(463540, 24)"
      ]
     },
     "execution_count": 3,
     "metadata": {},
     "output_type": "execute_result"
    }
   ],
   "source": [
    "austin_311_df.shape"
   ]
  },
  {
   "cell_type": "code",
   "execution_count": 5,
   "metadata": {},
   "outputs": [
    {
     "data": {
      "text/plain": [
       "Index(['city', 'close_date', 'complaint_description', 'complaint_type',\n",
       "       'council_district_code', 'county', 'created_date', 'incident_address',\n",
       "       'incident_zip', 'last_update_date', 'latitude', 'location', 'longitude',\n",
       "       'map_page', 'map_tile', 'owning_department', 'source',\n",
       "       'state_plane_x_coordinate', 'state_plane_y_coordinate', 'status',\n",
       "       'status_change_date', 'street_name', 'street_number', 'unique_key'],\n",
       "      dtype='object')"
      ]
     },
     "execution_count": 5,
     "metadata": {},
     "output_type": "execute_result"
    }
   ],
   "source": [
    "austin_311_df.columns"
   ]
  },
  {
   "cell_type": "code",
   "execution_count": 6,
   "metadata": {},
   "outputs": [
    {
     "data": {
      "text/html": [
       "<div>\n",
       "<style>\n",
       "    .dataframe thead tr:only-child th {\n",
       "        text-align: right;\n",
       "    }\n",
       "\n",
       "    .dataframe thead th {\n",
       "        text-align: left;\n",
       "    }\n",
       "\n",
       "    .dataframe tbody tr th {\n",
       "        vertical-align: top;\n",
       "    }\n",
       "</style>\n",
       "<table border=\"1\" class=\"dataframe\">\n",
       "  <thead>\n",
       "    <tr style=\"text-align: right;\">\n",
       "      <th></th>\n",
       "      <th>City</th>\n",
       "      <th>County</th>\n",
       "      <th>Incident Zip</th>\n",
       "      <th>Date</th>\n",
       "      <th>Department</th>\n",
       "      <th>Complaint Description</th>\n",
       "      <th>Type of Complaint</th>\n",
       "      <th>Lat</th>\n",
       "      <th>Lon</th>\n",
       "    </tr>\n",
       "  </thead>\n",
       "  <tbody>\n",
       "    <tr>\n",
       "      <th>0</th>\n",
       "      <td>AUSTIN</td>\n",
       "      <td>TRAVIS</td>\n",
       "      <td>78741.0</td>\n",
       "      <td>2015-01-20 10:41:48</td>\n",
       "      <td>Animal Services Office</td>\n",
       "      <td>Loose Dog</td>\n",
       "      <td>ACLONAG</td>\n",
       "      <td>30.224549</td>\n",
       "      <td>-97.690675</td>\n",
       "    </tr>\n",
       "    <tr>\n",
       "      <th>1</th>\n",
       "      <td>AUSTIN</td>\n",
       "      <td>TRAVIS</td>\n",
       "      <td>78757.0</td>\n",
       "      <td>2016-05-22 10:00:49</td>\n",
       "      <td>Animal Services Office</td>\n",
       "      <td>Loose Dog</td>\n",
       "      <td>ACLONAG</td>\n",
       "      <td>30.350881</td>\n",
       "      <td>-97.747492</td>\n",
       "    </tr>\n",
       "    <tr>\n",
       "      <th>2</th>\n",
       "      <td>AUSTIN</td>\n",
       "      <td>TRAVIS</td>\n",
       "      <td>78744.0</td>\n",
       "      <td>2014-01-06 18:04:00</td>\n",
       "      <td>Animal Services Office</td>\n",
       "      <td>Loose Animal (not dog)</td>\n",
       "      <td>ACLOANIM</td>\n",
       "      <td>30.199263</td>\n",
       "      <td>-97.711366</td>\n",
       "    </tr>\n",
       "    <tr>\n",
       "      <th>3</th>\n",
       "      <td>AUSTIN</td>\n",
       "      <td>TRAVIS</td>\n",
       "      <td>78727.0</td>\n",
       "      <td>2014-11-15 15:43:41</td>\n",
       "      <td>Austin Code Department</td>\n",
       "      <td>Austin Code - Request Code Officer</td>\n",
       "      <td>CODECOMP</td>\n",
       "      <td>30.425112</td>\n",
       "      <td>-97.707188</td>\n",
       "    </tr>\n",
       "    <tr>\n",
       "      <th>4</th>\n",
       "      <td>AUSTIN</td>\n",
       "      <td>TRAVIS</td>\n",
       "      <td>78723.0</td>\n",
       "      <td>2014-07-28 17:33:00</td>\n",
       "      <td>Animal Services Office</td>\n",
       "      <td>Animal - Proper Care</td>\n",
       "      <td>ACPROPER</td>\n",
       "      <td>30.311821</td>\n",
       "      <td>-97.669302</td>\n",
       "    </tr>\n",
       "  </tbody>\n",
       "</table>\n",
       "</div>"
      ],
      "text/plain": [
       "     City  County  Incident Zip                 Date              Department  \\\n",
       "0  AUSTIN  TRAVIS       78741.0  2015-01-20 10:41:48  Animal Services Office   \n",
       "1  AUSTIN  TRAVIS       78757.0  2016-05-22 10:00:49  Animal Services Office   \n",
       "2  AUSTIN  TRAVIS       78744.0  2014-01-06 18:04:00  Animal Services Office   \n",
       "3  AUSTIN  TRAVIS       78727.0  2014-11-15 15:43:41  Austin Code Department   \n",
       "4  AUSTIN  TRAVIS       78723.0  2014-07-28 17:33:00  Animal Services Office   \n",
       "\n",
       "                Complaint Description Type of Complaint        Lat        Lon  \n",
       "0                           Loose Dog           ACLONAG  30.224549 -97.690675  \n",
       "1                           Loose Dog           ACLONAG  30.350881 -97.747492  \n",
       "2              Loose Animal (not dog)          ACLOANIM  30.199263 -97.711366  \n",
       "3  Austin Code - Request Code Officer          CODECOMP  30.425112 -97.707188  \n",
       "4                Animal - Proper Care          ACPROPER  30.311821 -97.669302  "
      ]
     },
     "execution_count": 6,
     "metadata": {},
     "output_type": "execute_result"
    }
   ],
   "source": [
    "#Keep ['city', 'complaint_description', 'complaint_type', 'county', 'created_date', \n",
    "#'incident_zip', 'latitude', 'longitude', 'owning_department']\n",
    "\n",
    "Austin_311_df = austin_311_df[[\"city\", \"county\", \"incident_zip\", \n",
    "                            \"created_date\", \"owning_department\", \n",
    "                            \"complaint_description\", \"complaint_type\",\n",
    "                           \"latitude\",\"longitude\"]]\n",
    "\n",
    "#Clean up the columns and put them in order.\n",
    "Austin_311_df = Austin_311_df.rename(columns={\"city\":\"City\", \"county\":\"County\",\"incident_zip\":\"Incident Zip\",\n",
    "                                      \"created_date\":\"Date\", \"owning_department\":\"Department\",\n",
    "                                      \"complaint_description\":\"Complaint Description\",\"complaint_type\":\"Type of Complaint\",\n",
    "                                       \"latitude\":\"Lat\", \"longitude\": \"Lon\"})\n",
    "Austin_311_df.head()"
   ]
  },
  {
   "cell_type": "code",
   "execution_count": 7,
   "metadata": {},
   "outputs": [
    {
     "data": {
      "text/plain": [
       "(463540, 9)"
      ]
     },
     "execution_count": 7,
     "metadata": {},
     "output_type": "execute_result"
    }
   ],
   "source": [
    "Austin_311_df.shape"
   ]
  },
  {
   "cell_type": "code",
   "execution_count": 9,
   "metadata": {},
   "outputs": [
    {
     "data": {
      "text/plain": [
       "City                      8558\n",
       "County                   10793\n",
       "Incident Zip              8577\n",
       "Date                     10799\n",
       "Department                4235\n",
       "Complaint Description     4235\n",
       "Type of Complaint         4235\n",
       "Lat                       7999\n",
       "Lon                       7999\n",
       "dtype: int64"
      ]
     },
     "execution_count": 9,
     "metadata": {},
     "output_type": "execute_result"
    }
   ],
   "source": [
    "# Check to see if there are any null cells in the rows. \n",
    "Austin_311_df.isnull().sum()"
   ]
  },
  {
   "cell_type": "code",
   "execution_count": 10,
   "metadata": {},
   "outputs": [
    {
     "data": {
      "text/plain": [
       "City                     454982\n",
       "County                   452747\n",
       "Incident Zip             454963\n",
       "Date                     452741\n",
       "Department               459305\n",
       "Complaint Description    459305\n",
       "Type of Complaint        459305\n",
       "Lat                      455541\n",
       "Lon                      455541\n",
       "dtype: int64"
      ]
     },
     "execution_count": 10,
     "metadata": {},
     "output_type": "execute_result"
    }
   ],
   "source": [
    "#Getting the counts that are not null \n",
    "Austin_311_df.count()"
   ]
  },
  {
   "cell_type": "code",
   "execution_count": 11,
   "metadata": {},
   "outputs": [
    {
     "data": {
      "text/html": [
       "<div>\n",
       "<style>\n",
       "    .dataframe thead tr:only-child th {\n",
       "        text-align: right;\n",
       "    }\n",
       "\n",
       "    .dataframe thead th {\n",
       "        text-align: left;\n",
       "    }\n",
       "\n",
       "    .dataframe tbody tr th {\n",
       "        vertical-align: top;\n",
       "    }\n",
       "</style>\n",
       "<table border=\"1\" class=\"dataframe\">\n",
       "  <thead>\n",
       "    <tr style=\"text-align: right;\">\n",
       "      <th></th>\n",
       "      <th>City</th>\n",
       "      <th>County</th>\n",
       "      <th>Incident Zip</th>\n",
       "      <th>Date</th>\n",
       "      <th>Department</th>\n",
       "      <th>Complaint Description</th>\n",
       "      <th>Type of Complaint</th>\n",
       "      <th>Lat</th>\n",
       "      <th>Lon</th>\n",
       "    </tr>\n",
       "  </thead>\n",
       "  <tbody>\n",
       "    <tr>\n",
       "      <th>0</th>\n",
       "      <td>AUSTIN</td>\n",
       "      <td>TRAVIS</td>\n",
       "      <td>78741.0</td>\n",
       "      <td>2015-01-20 10:41:48</td>\n",
       "      <td>Animal Services Office</td>\n",
       "      <td>Loose Dog</td>\n",
       "      <td>ACLONAG</td>\n",
       "      <td>30.224549</td>\n",
       "      <td>-97.690675</td>\n",
       "    </tr>\n",
       "    <tr>\n",
       "      <th>1</th>\n",
       "      <td>AUSTIN</td>\n",
       "      <td>TRAVIS</td>\n",
       "      <td>78757.0</td>\n",
       "      <td>2016-05-22 10:00:49</td>\n",
       "      <td>Animal Services Office</td>\n",
       "      <td>Loose Dog</td>\n",
       "      <td>ACLONAG</td>\n",
       "      <td>30.350881</td>\n",
       "      <td>-97.747492</td>\n",
       "    </tr>\n",
       "    <tr>\n",
       "      <th>2</th>\n",
       "      <td>AUSTIN</td>\n",
       "      <td>TRAVIS</td>\n",
       "      <td>78744.0</td>\n",
       "      <td>2014-01-06 18:04:00</td>\n",
       "      <td>Animal Services Office</td>\n",
       "      <td>Loose Animal (not dog)</td>\n",
       "      <td>ACLOANIM</td>\n",
       "      <td>30.199263</td>\n",
       "      <td>-97.711366</td>\n",
       "    </tr>\n",
       "    <tr>\n",
       "      <th>3</th>\n",
       "      <td>AUSTIN</td>\n",
       "      <td>TRAVIS</td>\n",
       "      <td>78727.0</td>\n",
       "      <td>2014-11-15 15:43:41</td>\n",
       "      <td>Austin Code Department</td>\n",
       "      <td>Austin Code - Request Code Officer</td>\n",
       "      <td>CODECOMP</td>\n",
       "      <td>30.425112</td>\n",
       "      <td>-97.707188</td>\n",
       "    </tr>\n",
       "    <tr>\n",
       "      <th>4</th>\n",
       "      <td>AUSTIN</td>\n",
       "      <td>TRAVIS</td>\n",
       "      <td>78723.0</td>\n",
       "      <td>2014-07-28 17:33:00</td>\n",
       "      <td>Animal Services Office</td>\n",
       "      <td>Animal - Proper Care</td>\n",
       "      <td>ACPROPER</td>\n",
       "      <td>30.311821</td>\n",
       "      <td>-97.669302</td>\n",
       "    </tr>\n",
       "  </tbody>\n",
       "</table>\n",
       "</div>"
      ],
      "text/plain": [
       "     City  County  Incident Zip                 Date              Department  \\\n",
       "0  AUSTIN  TRAVIS       78741.0  2015-01-20 10:41:48  Animal Services Office   \n",
       "1  AUSTIN  TRAVIS       78757.0  2016-05-22 10:00:49  Animal Services Office   \n",
       "2  AUSTIN  TRAVIS       78744.0  2014-01-06 18:04:00  Animal Services Office   \n",
       "3  AUSTIN  TRAVIS       78727.0  2014-11-15 15:43:41  Austin Code Department   \n",
       "4  AUSTIN  TRAVIS       78723.0  2014-07-28 17:33:00  Animal Services Office   \n",
       "\n",
       "                Complaint Description Type of Complaint        Lat        Lon  \n",
       "0                           Loose Dog           ACLONAG  30.224549 -97.690675  \n",
       "1                           Loose Dog           ACLONAG  30.350881 -97.747492  \n",
       "2              Loose Animal (not dog)          ACLOANIM  30.199263 -97.711366  \n",
       "3  Austin Code - Request Code Officer          CODECOMP  30.425112 -97.707188  \n",
       "4                Animal - Proper Care          ACPROPER  30.311821 -97.669302  "
      ]
     },
     "execution_count": 11,
     "metadata": {},
     "output_type": "execute_result"
    }
   ],
   "source": [
    "#Replace the empty rows with 'NaN'.\n",
    "Austin_311_df.replace('', np.nan, inplace=True)\n",
    "\n",
    "#Drop rows with 'NaN'.\n",
    "clean_Austin_311_df = Austin_311_df.dropna(how=\"any\")\n",
    "clean_Austin_311_df.head()"
   ]
  },
  {
   "cell_type": "code",
   "execution_count": 27,
   "metadata": {},
   "outputs": [
    {
     "data": {
      "text/plain": [
       "City                     0\n",
       "County                   0\n",
       "Incident Zip             0\n",
       "Date                     0\n",
       "Department               0\n",
       "Complaint Description    0\n",
       "Type of Complaint        0\n",
       "Lat                      0\n",
       "Lon                      0\n",
       "dtype: int64"
      ]
     },
     "execution_count": 27,
     "metadata": {},
     "output_type": "execute_result"
    }
   ],
   "source": [
    "# Check to see if there are any null cells in the rows. \n",
    "clean_Austin_311_df.isnull().sum()"
   ]
  },
  {
   "cell_type": "code",
   "execution_count": 28,
   "metadata": {},
   "outputs": [
    {
     "data": {
      "text/plain": [
       "City                     445814\n",
       "County                   445814\n",
       "Incident Zip             445814\n",
       "Date                     445814\n",
       "Department               445814\n",
       "Complaint Description    445814\n",
       "Type of Complaint        445814\n",
       "Lat                      445814\n",
       "Lon                      445814\n",
       "dtype: int64"
      ]
     },
     "execution_count": 28,
     "metadata": {},
     "output_type": "execute_result"
    }
   ],
   "source": [
    "#Getting the counts for each row.  \n",
    "clean_Austin_311_df.count()"
   ]
  },
  {
   "cell_type": "code",
   "execution_count": 29,
   "metadata": {},
   "outputs": [
    {
     "data": {
      "text/plain": [
       "AUSTIN              434850\n",
       "PFLUGERVILLE          2071\n",
       "DEL VALLE             1747\n",
       "AUSTIN 5 ETJ          1204\n",
       "MANOR                 1087\n",
       "Austin                 538\n",
       "austin                 498\n",
       "CEDAR PARK             437\n",
       "OTHER                  365\n",
       "LEANDER                294\n",
       "ROUND ROCK             251\n",
       "BEE CAVE               234\n",
       "WEST LAKE HILLS        232\n",
       "LAKEWAY                203\n",
       "SUNSET VALLEY          200\n",
       "MUSTANG RIDGE          183\n",
       "ELGIN                  179\n",
       "MANCHACA               117\n",
       "TRAVIS                 111\n",
       "SPICEWOOD              106\n",
       "BUDA                    99\n",
       "JONESTOWN               92\n",
       "LAGO VISTA              90\n",
       "CREEDMOOR               76\n",
       "ROLLINGWOOD             75\n",
       "WEBBERVILLE             72\n",
       "BRIARCLIFF              58\n",
       "DRIPPING SPRINGS        46\n",
       "CEDAR CREEK             34\n",
       "COUPLAND                33\n",
       "                     ...  \n",
       "KYLE                     3\n",
       "HUTTO                    3\n",
       "AUstin                   2\n",
       "BEAR CREEK               2\n",
       "Austin.                  2\n",
       "Aus                      2\n",
       "SAN MARCOS               2\n",
       "austi                    2\n",
       "cedar creek              1\n",
       "AustIn                   1\n",
       "del valle                1\n",
       "Aust                     1\n",
       "Austn                    1\n",
       "manchaca                 1\n",
       "AuStin                   1\n",
       "austibn                  1\n",
       "Austtin                  1\n",
       "LIBERTY HILL             1\n",
       "ausitn                   1\n",
       "AUST                     1\n",
       "leander                  1\n",
       "austn                    1\n",
       "austin `                 1\n",
       "bee cave                 1\n",
       "Elgin                    1\n",
       "Ausitn                   1\n",
       "AUsti                    1\n",
       "MOUNTAIN CITY            1\n",
       "Del Valle                1\n",
       "lakeway                  1\n",
       "Name: City, Length: 77, dtype: int64"
      ]
     },
     "execution_count": 29,
     "metadata": {},
     "output_type": "execute_result"
    }
   ],
   "source": [
    "# Check to see if what cities are in the df.\n",
    "clean_Austin_311_df['City'].value_counts()"
   ]
  },
  {
   "cell_type": "code",
   "execution_count": 30,
   "metadata": {},
   "outputs": [
    {
     "data": {
      "text/plain": [
       "TRAVIS        432185\n",
       "WILLIAMSON     13519\n",
       "HAYS              93\n",
       "BASTROP           17\n",
       "Name: County, dtype: int64"
      ]
     },
     "execution_count": 30,
     "metadata": {},
     "output_type": "execute_result"
    }
   ],
   "source": [
    "# Check to see if what counties are in the df. \n",
    "clean_Austin_311_df['County'].value_counts()"
   ]
  },
  {
   "cell_type": "markdown",
   "metadata": {},
   "source": [
    "### Fitlering out cities that aren't \"Austin\" and cities not in \"Travis\" county. \n",
    "-----\n",
    "Since the majority of the 311 calls were in Travis county and in Austin we decided to focus on Austin, Travis county.  There were many misspellings of \"Austin\" that we chose to keep, which include: 'AUSTIN' and 'austin'.  Then we kept only these citys that were in Travis county. "
   ]
  },
  {
   "cell_type": "code",
   "execution_count": 31,
   "metadata": {},
   "outputs": [
    {
     "data": {
      "text/plain": [
       "TRAVIS    432185\n",
       "Name: County, dtype: int64"
      ]
     },
     "execution_count": 31,
     "metadata": {},
     "output_type": "execute_result"
    }
   ],
   "source": [
    "#Keep all cities in Travis county.\n",
    "\n",
    "Austin_311_Travis = clean_Austin_311_df[clean_Austin_311_df.County.isin(['TRAVIS'])]\n",
    "Austin_311_Travis['County'].value_counts()"
   ]
  },
  {
   "cell_type": "code",
   "execution_count": 37,
   "metadata": {},
   "outputs": [
    {
     "data": {
      "text/plain": [
       "AUSTIN              421862\n",
       "PFLUGERVILLE          2065\n",
       "DEL VALLE             1744\n",
       "AUSTIN 5 ETJ          1191\n",
       "MANOR                 1087\n",
       "Austin                 488\n",
       "austin                 477\n",
       "OTHER                  362\n",
       "LEANDER                276\n",
       "BEE CAVE               234\n",
       "WEST LAKE HILLS        232\n",
       "LAKEWAY                203\n",
       "SUNSET VALLEY          200\n",
       "CEDAR PARK             200\n",
       "MUSTANG RIDGE          182\n",
       "ELGIN                  179\n",
       "TRAVIS                 108\n",
       "SPICEWOOD              106\n",
       "MANCHACA               102\n",
       "JONESTOWN               92\n",
       "LAGO VISTA              88\n",
       "BUDA                    79\n",
       "CREEDMOOR               76\n",
       "ROLLINGWOOD             75\n",
       "WEBBERVILLE             71\n",
       "BRIARCLIFF              58\n",
       "ROUND ROCK              46\n",
       "CEDAR CREEK             34\n",
       "COUPLAND                33\n",
       "DRIPPING SPRINGS        28\n",
       "                     ...  \n",
       "MARBLE FALLS             5\n",
       "AustiN                   4\n",
       "Manchaca                 4\n",
       "Pflugerville             3\n",
       "aus                      3\n",
       "HUTTO                    2\n",
       "austi                    2\n",
       "Aus                      2\n",
       "AUstin                   2\n",
       "Austin.                  2\n",
       "HAYS                     2\n",
       "AustIn                   1\n",
       "Aust                     1\n",
       "cedar creek              1\n",
       "manchaca                 1\n",
       "Austn                    1\n",
       "del valle                1\n",
       "AuStin                   1\n",
       "austibn                  1\n",
       "ausitn                   1\n",
       "AUST                     1\n",
       "leander                  1\n",
       "austn                    1\n",
       "austin `                 1\n",
       "bee cave                 1\n",
       "Elgin                    1\n",
       "Ausitn                   1\n",
       "AUsti                    1\n",
       "Del Valle                1\n",
       "lakeway                  1\n",
       "Name: City, Length: 71, dtype: int64"
      ]
     },
     "execution_count": 37,
     "metadata": {},
     "output_type": "execute_result"
    }
   ],
   "source": [
    "Austin_311_Travis['City'].value_counts()"
   ]
  },
  {
   "cell_type": "code",
   "execution_count": 38,
   "metadata": {},
   "outputs": [
    {
     "data": {
      "text/plain": [
       "City                     422827\n",
       "County                   422827\n",
       "Incident Zip             422827\n",
       "Date                     422827\n",
       "Department               422827\n",
       "Complaint Description    422827\n",
       "Type of Complaint        422827\n",
       "Lat                      422827\n",
       "Lon                      422827\n",
       "dtype: int64"
      ]
     },
     "execution_count": 38,
     "metadata": {},
     "output_type": "execute_result"
    }
   ],
   "source": [
    "# Keep 'AUSTIN', 'Austin', and 'austin'. \n",
    "\n",
    "All_Austin_311 = Austin_311_Travis[Austin_311_Travis.City.isin(['AUSTIN', 'Austin', 'austin'])]\n",
    "\n",
    "# Get the new counts\n",
    "All_Austin_311.count()"
   ]
  },
  {
   "cell_type": "code",
   "execution_count": 39,
   "metadata": {},
   "outputs": [
    {
     "data": {
      "text/plain": [
       "AUSTIN    421862\n",
       "Austin       488\n",
       "austin       477\n",
       "Name: City, dtype: int64"
      ]
     },
     "execution_count": 39,
     "metadata": {},
     "output_type": "execute_result"
    }
   ],
   "source": [
    "All_Austin_311['City'].value_counts()"
   ]
  },
  {
   "cell_type": "code",
   "execution_count": 40,
   "metadata": {},
   "outputs": [
    {
     "data": {
      "text/html": [
       "<div>\n",
       "<style>\n",
       "    .dataframe thead tr:only-child th {\n",
       "        text-align: right;\n",
       "    }\n",
       "\n",
       "    .dataframe thead th {\n",
       "        text-align: left;\n",
       "    }\n",
       "\n",
       "    .dataframe tbody tr th {\n",
       "        vertical-align: top;\n",
       "    }\n",
       "</style>\n",
       "<table border=\"1\" class=\"dataframe\">\n",
       "  <thead>\n",
       "    <tr style=\"text-align: right;\">\n",
       "      <th></th>\n",
       "      <th>City</th>\n",
       "      <th>County</th>\n",
       "      <th>Incident Zip</th>\n",
       "      <th>Date</th>\n",
       "      <th>Department</th>\n",
       "      <th>Complaint Description</th>\n",
       "      <th>Type of Complaint</th>\n",
       "      <th>Lat</th>\n",
       "      <th>Lon</th>\n",
       "    </tr>\n",
       "  </thead>\n",
       "  <tbody>\n",
       "    <tr>\n",
       "      <th>0</th>\n",
       "      <td>AUSTIN</td>\n",
       "      <td>TRAVIS</td>\n",
       "      <td>78741.0</td>\n",
       "      <td>2015-01-20 10:41:48</td>\n",
       "      <td>Animal Services Office</td>\n",
       "      <td>Loose Dog</td>\n",
       "      <td>ACLONAG</td>\n",
       "      <td>30.224549</td>\n",
       "      <td>-97.690675</td>\n",
       "    </tr>\n",
       "    <tr>\n",
       "      <th>1</th>\n",
       "      <td>AUSTIN</td>\n",
       "      <td>TRAVIS</td>\n",
       "      <td>78757.0</td>\n",
       "      <td>2016-05-22 10:00:49</td>\n",
       "      <td>Animal Services Office</td>\n",
       "      <td>Loose Dog</td>\n",
       "      <td>ACLONAG</td>\n",
       "      <td>30.350881</td>\n",
       "      <td>-97.747492</td>\n",
       "    </tr>\n",
       "    <tr>\n",
       "      <th>2</th>\n",
       "      <td>AUSTIN</td>\n",
       "      <td>TRAVIS</td>\n",
       "      <td>78744.0</td>\n",
       "      <td>2014-01-06 18:04:00</td>\n",
       "      <td>Animal Services Office</td>\n",
       "      <td>Loose Animal (not dog)</td>\n",
       "      <td>ACLOANIM</td>\n",
       "      <td>30.199263</td>\n",
       "      <td>-97.711366</td>\n",
       "    </tr>\n",
       "    <tr>\n",
       "      <th>3</th>\n",
       "      <td>AUSTIN</td>\n",
       "      <td>TRAVIS</td>\n",
       "      <td>78727.0</td>\n",
       "      <td>2014-11-15 15:43:41</td>\n",
       "      <td>Austin Code Department</td>\n",
       "      <td>Austin Code - Request Code Officer</td>\n",
       "      <td>CODECOMP</td>\n",
       "      <td>30.425112</td>\n",
       "      <td>-97.707188</td>\n",
       "    </tr>\n",
       "    <tr>\n",
       "      <th>4</th>\n",
       "      <td>AUSTIN</td>\n",
       "      <td>TRAVIS</td>\n",
       "      <td>78723.0</td>\n",
       "      <td>2014-07-28 17:33:00</td>\n",
       "      <td>Animal Services Office</td>\n",
       "      <td>Animal - Proper Care</td>\n",
       "      <td>ACPROPER</td>\n",
       "      <td>30.311821</td>\n",
       "      <td>-97.669302</td>\n",
       "    </tr>\n",
       "  </tbody>\n",
       "</table>\n",
       "</div>"
      ],
      "text/plain": [
       "     City  County  Incident Zip                 Date              Department  \\\n",
       "0  AUSTIN  TRAVIS       78741.0  2015-01-20 10:41:48  Animal Services Office   \n",
       "1  AUSTIN  TRAVIS       78757.0  2016-05-22 10:00:49  Animal Services Office   \n",
       "2  AUSTIN  TRAVIS       78744.0  2014-01-06 18:04:00  Animal Services Office   \n",
       "3  AUSTIN  TRAVIS       78727.0  2014-11-15 15:43:41  Austin Code Department   \n",
       "4  AUSTIN  TRAVIS       78723.0  2014-07-28 17:33:00  Animal Services Office   \n",
       "\n",
       "                Complaint Description Type of Complaint        Lat        Lon  \n",
       "0                           Loose Dog           ACLONAG  30.224549 -97.690675  \n",
       "1                           Loose Dog           ACLONAG  30.350881 -97.747492  \n",
       "2              Loose Animal (not dog)          ACLOANIM  30.199263 -97.711366  \n",
       "3  Austin Code - Request Code Officer          CODECOMP  30.425112 -97.707188  \n",
       "4                Animal - Proper Care          ACPROPER  30.311821 -97.669302  "
      ]
     },
     "execution_count": 40,
     "metadata": {},
     "output_type": "execute_result"
    }
   ],
   "source": [
    "All_Austin_311.head()"
   ]
  },
  {
   "cell_type": "code",
   "execution_count": 41,
   "metadata": {
    "scrolled": true
   },
   "outputs": [
    {
     "name": "stderr",
     "output_type": "stream",
     "text": [
      "/Users/tom/anaconda/lib/python3.6/site-packages/ipykernel_launcher.py:2: SettingWithCopyWarning: \n",
      "A value is trying to be set on a copy of a slice from a DataFrame.\n",
      "Try using .loc[row_indexer,col_indexer] = value instead\n",
      "\n",
      "See the caveats in the documentation: http://pandas.pydata.org/pandas-docs/stable/indexing.html#indexing-view-versus-copy\n",
      "  \n",
      "/Users/tom/anaconda/lib/python3.6/site-packages/ipykernel_launcher.py:5: SettingWithCopyWarning: \n",
      "A value is trying to be set on a copy of a slice from a DataFrame\n",
      "\n",
      "See the caveats in the documentation: http://pandas.pydata.org/pandas-docs/stable/indexing.html#indexing-view-versus-copy\n",
      "  \"\"\"\n",
      "/Users/tom/anaconda/lib/python3.6/site-packages/ipykernel_launcher.py:6: SettingWithCopyWarning: \n",
      "A value is trying to be set on a copy of a slice from a DataFrame\n",
      "\n",
      "See the caveats in the documentation: http://pandas.pydata.org/pandas-docs/stable/indexing.html#indexing-view-versus-copy\n",
      "  \n",
      "/Users/tom/anaconda/lib/python3.6/site-packages/ipykernel_launcher.py:9: SettingWithCopyWarning: \n",
      "A value is trying to be set on a copy of a slice from a DataFrame.\n",
      "Try using .loc[row_indexer,col_indexer] = value instead\n",
      "\n",
      "See the caveats in the documentation: http://pandas.pydata.org/pandas-docs/stable/indexing.html#indexing-view-versus-copy\n",
      "  if __name__ == '__main__':\n",
      "/Users/tom/anaconda/lib/python3.6/site-packages/ipykernel_launcher.py:12: SettingWithCopyWarning: \n",
      "A value is trying to be set on a copy of a slice from a DataFrame.\n",
      "Try using .loc[row_indexer,col_indexer] = value instead\n",
      "\n",
      "See the caveats in the documentation: http://pandas.pydata.org/pandas-docs/stable/indexing.html#indexing-view-versus-copy\n",
      "  if sys.path[0] == '':\n",
      "/Users/tom/anaconda/lib/python3.6/site-packages/ipykernel_launcher.py:13: SettingWithCopyWarning: \n",
      "A value is trying to be set on a copy of a slice from a DataFrame.\n",
      "Try using .loc[row_indexer,col_indexer] = value instead\n",
      "\n",
      "See the caveats in the documentation: http://pandas.pydata.org/pandas-docs/stable/indexing.html#indexing-view-versus-copy\n",
      "  del sys.path[0]\n",
      "/Users/tom/anaconda/lib/python3.6/site-packages/ipykernel_launcher.py:16: SettingWithCopyWarning: \n",
      "A value is trying to be set on a copy of a slice from a DataFrame\n",
      "\n",
      "See the caveats in the documentation: http://pandas.pydata.org/pandas-docs/stable/indexing.html#indexing-view-versus-copy\n",
      "  app.launch_new_instance()\n"
     ]
    }
   ],
   "source": [
    "# Change the zip to an integer\n",
    "All_Austin_311[\"Incident Zip\"] = All_Austin_311[\"Incident Zip\"].astype(int)\n",
    "\n",
    "#Drop the City and County since we don't need them anymore. \n",
    "All_Austin_311.drop('City',axis=1, inplace=True)\n",
    "All_Austin_311.drop('County',axis=1, inplace=True)\n",
    "\n",
    "#Change the date to a datetime format so we can extract month and year for new columns.\n",
    "All_Austin_311['Date'] = pd.to_datetime(All_Austin_311['Date'], format='%Y/%m/%d')\n",
    "\n",
    "#Create columns for year and month. \n",
    "All_Austin_311['Year'] = All_Austin_311['Date'].dt.year\n",
    "All_Austin_311['Month'] = All_Austin_311['Date'].dt.month\n",
    "\n",
    "#Drop the Date since we don't need it anymore. \n",
    "All_Austin_311.drop('Date',axis=1, inplace=True)"
   ]
  },
  {
   "cell_type": "code",
   "execution_count": 42,
   "metadata": {},
   "outputs": [
    {
     "data": {
      "text/html": [
       "<div>\n",
       "<style>\n",
       "    .dataframe thead tr:only-child th {\n",
       "        text-align: right;\n",
       "    }\n",
       "\n",
       "    .dataframe thead th {\n",
       "        text-align: left;\n",
       "    }\n",
       "\n",
       "    .dataframe tbody tr th {\n",
       "        vertical-align: top;\n",
       "    }\n",
       "</style>\n",
       "<table border=\"1\" class=\"dataframe\">\n",
       "  <thead>\n",
       "    <tr style=\"text-align: right;\">\n",
       "      <th></th>\n",
       "      <th>Incident Zip</th>\n",
       "      <th>Department</th>\n",
       "      <th>Complaint Description</th>\n",
       "      <th>Type of Complaint</th>\n",
       "      <th>Lat</th>\n",
       "      <th>Lon</th>\n",
       "      <th>Year</th>\n",
       "      <th>Month</th>\n",
       "    </tr>\n",
       "  </thead>\n",
       "  <tbody>\n",
       "    <tr>\n",
       "      <th>0</th>\n",
       "      <td>78741</td>\n",
       "      <td>Animal Services Office</td>\n",
       "      <td>Loose Dog</td>\n",
       "      <td>ACLONAG</td>\n",
       "      <td>30.224549</td>\n",
       "      <td>-97.690675</td>\n",
       "      <td>2015</td>\n",
       "      <td>1</td>\n",
       "    </tr>\n",
       "    <tr>\n",
       "      <th>1</th>\n",
       "      <td>78757</td>\n",
       "      <td>Animal Services Office</td>\n",
       "      <td>Loose Dog</td>\n",
       "      <td>ACLONAG</td>\n",
       "      <td>30.350881</td>\n",
       "      <td>-97.747492</td>\n",
       "      <td>2016</td>\n",
       "      <td>5</td>\n",
       "    </tr>\n",
       "    <tr>\n",
       "      <th>2</th>\n",
       "      <td>78744</td>\n",
       "      <td>Animal Services Office</td>\n",
       "      <td>Loose Animal (not dog)</td>\n",
       "      <td>ACLOANIM</td>\n",
       "      <td>30.199263</td>\n",
       "      <td>-97.711366</td>\n",
       "      <td>2014</td>\n",
       "      <td>1</td>\n",
       "    </tr>\n",
       "    <tr>\n",
       "      <th>3</th>\n",
       "      <td>78727</td>\n",
       "      <td>Austin Code Department</td>\n",
       "      <td>Austin Code - Request Code Officer</td>\n",
       "      <td>CODECOMP</td>\n",
       "      <td>30.425112</td>\n",
       "      <td>-97.707188</td>\n",
       "      <td>2014</td>\n",
       "      <td>11</td>\n",
       "    </tr>\n",
       "    <tr>\n",
       "      <th>4</th>\n",
       "      <td>78723</td>\n",
       "      <td>Animal Services Office</td>\n",
       "      <td>Animal - Proper Care</td>\n",
       "      <td>ACPROPER</td>\n",
       "      <td>30.311821</td>\n",
       "      <td>-97.669302</td>\n",
       "      <td>2014</td>\n",
       "      <td>7</td>\n",
       "    </tr>\n",
       "  </tbody>\n",
       "</table>\n",
       "</div>"
      ],
      "text/plain": [
       "   Incident Zip              Department               Complaint Description  \\\n",
       "0         78741  Animal Services Office                           Loose Dog   \n",
       "1         78757  Animal Services Office                           Loose Dog   \n",
       "2         78744  Animal Services Office              Loose Animal (not dog)   \n",
       "3         78727  Austin Code Department  Austin Code - Request Code Officer   \n",
       "4         78723  Animal Services Office                Animal - Proper Care   \n",
       "\n",
       "  Type of Complaint        Lat        Lon  Year  Month  \n",
       "0           ACLONAG  30.224549 -97.690675  2015      1  \n",
       "1           ACLONAG  30.350881 -97.747492  2016      5  \n",
       "2          ACLOANIM  30.199263 -97.711366  2014      1  \n",
       "3          CODECOMP  30.425112 -97.707188  2014     11  \n",
       "4          ACPROPER  30.311821 -97.669302  2014      7  "
      ]
     },
     "execution_count": 42,
     "metadata": {},
     "output_type": "execute_result"
    }
   ],
   "source": [
    "All_Austin_311.head()"
   ]
  },
  {
   "cell_type": "code",
   "execution_count": 43,
   "metadata": {
    "collapsed": true
   },
   "outputs": [],
   "source": [
    "#Save the clean df as .csv file\n",
    "#All_Austin_311.to_csv('data/All_Austin_311.csv', encoding='utf-8', index=False)"
   ]
  },
  {
   "cell_type": "code",
   "execution_count": null,
   "metadata": {
    "collapsed": true
   },
   "outputs": [],
   "source": []
  }
 ],
 "metadata": {
  "kernelspec": {
   "display_name": "Python 3",
   "language": "python",
   "name": "python3"
  },
  "language_info": {
   "codemirror_mode": {
    "name": "ipython",
    "version": 3
   },
   "file_extension": ".py",
   "mimetype": "text/x-python",
   "name": "python",
   "nbconvert_exporter": "python",
   "pygments_lexer": "ipython3",
   "version": "3.6.1"
  }
 },
 "nbformat": 4,
 "nbformat_minor": 2
}
