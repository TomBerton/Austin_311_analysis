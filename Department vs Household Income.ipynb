{
 "cells": [
  {
   "cell_type": "markdown",
   "metadata": {},
   "source": [
    "# Clean Data"
   ]
  },
  {
   "cell_type": "code",
   "execution_count": 66,
   "metadata": {
    "collapsed": true
   },
   "outputs": [],
   "source": [
    "import pandas as pd\n",
    "import numpy as np\n",
    "import os"
   ]
  },
  {
   "cell_type": "code",
   "execution_count": 67,
   "metadata": {},
   "outputs": [
    {
     "data": {
      "text/html": [
       "<div>\n",
       "<style>\n",
       "    .dataframe thead tr:only-child th {\n",
       "        text-align: right;\n",
       "    }\n",
       "\n",
       "    .dataframe thead th {\n",
       "        text-align: left;\n",
       "    }\n",
       "\n",
       "    .dataframe tbody tr th {\n",
       "        vertical-align: top;\n",
       "    }\n",
       "</style>\n",
       "<table border=\"1\" class=\"dataframe\">\n",
       "  <thead>\n",
       "    <tr style=\"text-align: right;\">\n",
       "      <th></th>\n",
       "      <th>city</th>\n",
       "      <th>close_date</th>\n",
       "      <th>complaint_description</th>\n",
       "      <th>complaint_type</th>\n",
       "      <th>council_district_code</th>\n",
       "      <th>county</th>\n",
       "      <th>created_date</th>\n",
       "      <th>incident_address</th>\n",
       "      <th>incident_zip</th>\n",
       "      <th>last_update_date</th>\n",
       "      <th>...</th>\n",
       "      <th>map_tile</th>\n",
       "      <th>owning_department</th>\n",
       "      <th>source</th>\n",
       "      <th>state_plane_x_coordinate</th>\n",
       "      <th>state_plane_y_coordinate</th>\n",
       "      <th>status</th>\n",
       "      <th>status_change_date</th>\n",
       "      <th>street_name</th>\n",
       "      <th>street_number</th>\n",
       "      <th>unique_key</th>\n",
       "    </tr>\n",
       "  </thead>\n",
       "  <tbody>\n",
       "    <tr>\n",
       "      <th>0</th>\n",
       "      <td>AUSTIN</td>\n",
       "      <td>1/20/2015 10:41</td>\n",
       "      <td>Loose Dog</td>\n",
       "      <td>ACLONAG</td>\n",
       "      <td>3.0</td>\n",
       "      <td>TRAVIS</td>\n",
       "      <td>1/20/2015 10:41</td>\n",
       "      <td>1305 CORIANDER DR AUSTIN TX</td>\n",
       "      <td>78741.0</td>\n",
       "      <td>1/27/2015 12:51</td>\n",
       "      <td>...</td>\n",
       "      <td>ML18</td>\n",
       "      <td>Animal Services Office</td>\n",
       "      <td>Phone</td>\n",
       "      <td>3131141.687</td>\n",
       "      <td>10055318.32</td>\n",
       "      <td>Duplicate (closed)</td>\n",
       "      <td>1/20/2015 10:41</td>\n",
       "      <td>CORIANDER</td>\n",
       "      <td>1305.0</td>\n",
       "      <td>15-00012439</td>\n",
       "    </tr>\n",
       "    <tr>\n",
       "      <th>1</th>\n",
       "      <td>AUSTIN</td>\n",
       "      <td>6/1/2016 10:58</td>\n",
       "      <td>Loose Dog</td>\n",
       "      <td>ACLONAG</td>\n",
       "      <td>7.0</td>\n",
       "      <td>TRAVIS</td>\n",
       "      <td>5/22/2016 10:00</td>\n",
       "      <td>3104 STONEWAY DR AUSTIN TX 78757</td>\n",
       "      <td>78757.0</td>\n",
       "      <td>6/1/2016 9:58</td>\n",
       "      <td>...</td>\n",
       "      <td>MJ29</td>\n",
       "      <td>Animal Services Office</td>\n",
       "      <td>Phone</td>\n",
       "      <td>3112134.249</td>\n",
       "      <td>10100830.00</td>\n",
       "      <td>Closed</td>\n",
       "      <td>6/1/2016 10:58</td>\n",
       "      <td>STONEWAY</td>\n",
       "      <td>3104.0</td>\n",
       "      <td>16-00123310</td>\n",
       "    </tr>\n",
       "    <tr>\n",
       "      <th>2</th>\n",
       "      <td>AUSTIN</td>\n",
       "      <td>1/6/2014 19:30</td>\n",
       "      <td>Loose Animal (not dog)</td>\n",
       "      <td>ACLOANIM</td>\n",
       "      <td>2.0</td>\n",
       "      <td>TRAVIS</td>\n",
       "      <td>1/6/2014 18:04</td>\n",
       "      <td>4100 SMITH SCHOOL RD AUSTIN TX</td>\n",
       "      <td>78744.0</td>\n",
       "      <td>1/6/2014 18:32</td>\n",
       "      <td>...</td>\n",
       "      <td>MK16</td>\n",
       "      <td>Animal Services Office</td>\n",
       "      <td>Phone</td>\n",
       "      <td>3124825.402</td>\n",
       "      <td>10045969.80</td>\n",
       "      <td>Closed</td>\n",
       "      <td>1/6/2014 19:30</td>\n",
       "      <td>SMITH SCHOOL</td>\n",
       "      <td>4100.0</td>\n",
       "      <td>14-00003554</td>\n",
       "    </tr>\n",
       "    <tr>\n",
       "      <th>3</th>\n",
       "      <td>AUSTIN</td>\n",
       "      <td>11/19/2014 10:46</td>\n",
       "      <td>Austin Code - Request Code Officer</td>\n",
       "      <td>CODECOMP</td>\n",
       "      <td>7.0</td>\n",
       "      <td>TRAVIS</td>\n",
       "      <td>11/15/2014 15:43</td>\n",
       "      <td>12710 PALFREY DR AUSTIN TX 78727</td>\n",
       "      <td>78727.0</td>\n",
       "      <td>11/19/2014 10:46</td>\n",
       "      <td>...</td>\n",
       "      <td>ML35</td>\n",
       "      <td>Austin Code Department</td>\n",
       "      <td>Web</td>\n",
       "      <td>3124206.25</td>\n",
       "      <td>10128117.00</td>\n",
       "      <td>Closed</td>\n",
       "      <td>11/19/2014 10:46</td>\n",
       "      <td>PALFREY</td>\n",
       "      <td>12710.0</td>\n",
       "      <td>14-00247505</td>\n",
       "    </tr>\n",
       "    <tr>\n",
       "      <th>4</th>\n",
       "      <td>AUSTIN</td>\n",
       "      <td>8/25/2014 21:21</td>\n",
       "      <td>Animal - Proper Care</td>\n",
       "      <td>ACPROPER</td>\n",
       "      <td>1.0</td>\n",
       "      <td>TRAVIS</td>\n",
       "      <td>7/28/2014 17:33</td>\n",
       "      <td>6703 TULANE DR AUSTIN TX</td>\n",
       "      <td>78723.0</td>\n",
       "      <td>8/25/2014 20:23</td>\n",
       "      <td>...</td>\n",
       "      <td>MM26</td>\n",
       "      <td>Animal Services Office</td>\n",
       "      <td>Phone</td>\n",
       "      <td>3137129.998</td>\n",
       "      <td>10087210.23</td>\n",
       "      <td>Closed</td>\n",
       "      <td>8/25/2014 21:21</td>\n",
       "      <td>TULANE</td>\n",
       "      <td>6703.0</td>\n",
       "      <td>14-00156342</td>\n",
       "    </tr>\n",
       "  </tbody>\n",
       "</table>\n",
       "<p>5 rows × 24 columns</p>\n",
       "</div>"
      ],
      "text/plain": [
       "     city        close_date               complaint_description  \\\n",
       "0  AUSTIN   1/20/2015 10:41                           Loose Dog   \n",
       "1  AUSTIN    6/1/2016 10:58                           Loose Dog   \n",
       "2  AUSTIN    1/6/2014 19:30              Loose Animal (not dog)   \n",
       "3  AUSTIN  11/19/2014 10:46  Austin Code - Request Code Officer   \n",
       "4  AUSTIN   8/25/2014 21:21                Animal - Proper Care   \n",
       "\n",
       "  complaint_type  council_district_code  county      created_date  \\\n",
       "0        ACLONAG                    3.0  TRAVIS   1/20/2015 10:41   \n",
       "1        ACLONAG                    7.0  TRAVIS   5/22/2016 10:00   \n",
       "2       ACLOANIM                    2.0  TRAVIS    1/6/2014 18:04   \n",
       "3       CODECOMP                    7.0  TRAVIS  11/15/2014 15:43   \n",
       "4       ACPROPER                    1.0  TRAVIS   7/28/2014 17:33   \n",
       "\n",
       "                   incident_address  incident_zip  last_update_date  \\\n",
       "0       1305 CORIANDER DR AUSTIN TX       78741.0   1/27/2015 12:51   \n",
       "1  3104 STONEWAY DR AUSTIN TX 78757       78757.0     6/1/2016 9:58   \n",
       "2    4100 SMITH SCHOOL RD AUSTIN TX       78744.0    1/6/2014 18:32   \n",
       "3  12710 PALFREY DR AUSTIN TX 78727       78727.0  11/19/2014 10:46   \n",
       "4          6703 TULANE DR AUSTIN TX       78723.0   8/25/2014 20:23   \n",
       "\n",
       "      ...       map_tile       owning_department  source  \\\n",
       "0     ...           ML18  Animal Services Office   Phone   \n",
       "1     ...           MJ29  Animal Services Office   Phone   \n",
       "2     ...           MK16  Animal Services Office   Phone   \n",
       "3     ...           ML35  Austin Code Department     Web   \n",
       "4     ...           MM26  Animal Services Office   Phone   \n",
       "\n",
       "  state_plane_x_coordinate state_plane_y_coordinate              status  \\\n",
       "0              3131141.687              10055318.32  Duplicate (closed)   \n",
       "1              3112134.249              10100830.00              Closed   \n",
       "2              3124825.402              10045969.80              Closed   \n",
       "3               3124206.25              10128117.00              Closed   \n",
       "4              3137129.998              10087210.23              Closed   \n",
       "\n",
       "  status_change_date   street_name  street_number   unique_key  \n",
       "0    1/20/2015 10:41     CORIANDER         1305.0  15-00012439  \n",
       "1     6/1/2016 10:58      STONEWAY         3104.0  16-00123310  \n",
       "2     1/6/2014 19:30  SMITH SCHOOL         4100.0  14-00003554  \n",
       "3   11/19/2014 10:46       PALFREY        12710.0  14-00247505  \n",
       "4    8/25/2014 21:21        TULANE         6703.0  14-00156342  \n",
       "\n",
       "[5 rows x 24 columns]"
      ]
     },
     "execution_count": 67,
     "metadata": {},
     "output_type": "execute_result"
    }
   ],
   "source": [
    "#Initial read of main data file\n",
    "austin_df = pd.read_csv('austin_311_service_requests.csv',low_memory=False)\n",
    "austin_df.head()"
   ]
  },
  {
   "cell_type": "code",
   "execution_count": 68,
   "metadata": {},
   "outputs": [
    {
     "data": {
      "text/html": [
       "<div>\n",
       "<style>\n",
       "    .dataframe thead tr:only-child th {\n",
       "        text-align: right;\n",
       "    }\n",
       "\n",
       "    .dataframe thead th {\n",
       "        text-align: left;\n",
       "    }\n",
       "\n",
       "    .dataframe tbody tr th {\n",
       "        vertical-align: top;\n",
       "    }\n",
       "</style>\n",
       "<table border=\"1\" class=\"dataframe\">\n",
       "  <thead>\n",
       "    <tr style=\"text-align: right;\">\n",
       "      <th></th>\n",
       "      <th>city</th>\n",
       "      <th>county</th>\n",
       "      <th>incident_zip</th>\n",
       "      <th>created_date</th>\n",
       "      <th>owning_department</th>\n",
       "      <th>complaint_description</th>\n",
       "      <th>complaint_type</th>\n",
       "    </tr>\n",
       "  </thead>\n",
       "  <tbody>\n",
       "    <tr>\n",
       "      <th>0</th>\n",
       "      <td>AUSTIN</td>\n",
       "      <td>TRAVIS</td>\n",
       "      <td>78741.0</td>\n",
       "      <td>1/20/2015 10:41</td>\n",
       "      <td>Animal Services Office</td>\n",
       "      <td>Loose Dog</td>\n",
       "      <td>ACLONAG</td>\n",
       "    </tr>\n",
       "    <tr>\n",
       "      <th>1</th>\n",
       "      <td>AUSTIN</td>\n",
       "      <td>TRAVIS</td>\n",
       "      <td>78757.0</td>\n",
       "      <td>5/22/2016 10:00</td>\n",
       "      <td>Animal Services Office</td>\n",
       "      <td>Loose Dog</td>\n",
       "      <td>ACLONAG</td>\n",
       "    </tr>\n",
       "    <tr>\n",
       "      <th>2</th>\n",
       "      <td>AUSTIN</td>\n",
       "      <td>TRAVIS</td>\n",
       "      <td>78744.0</td>\n",
       "      <td>1/6/2014 18:04</td>\n",
       "      <td>Animal Services Office</td>\n",
       "      <td>Loose Animal (not dog)</td>\n",
       "      <td>ACLOANIM</td>\n",
       "    </tr>\n",
       "    <tr>\n",
       "      <th>3</th>\n",
       "      <td>AUSTIN</td>\n",
       "      <td>TRAVIS</td>\n",
       "      <td>78727.0</td>\n",
       "      <td>11/15/2014 15:43</td>\n",
       "      <td>Austin Code Department</td>\n",
       "      <td>Austin Code - Request Code Officer</td>\n",
       "      <td>CODECOMP</td>\n",
       "    </tr>\n",
       "    <tr>\n",
       "      <th>4</th>\n",
       "      <td>AUSTIN</td>\n",
       "      <td>TRAVIS</td>\n",
       "      <td>78723.0</td>\n",
       "      <td>7/28/2014 17:33</td>\n",
       "      <td>Animal Services Office</td>\n",
       "      <td>Animal - Proper Care</td>\n",
       "      <td>ACPROPER</td>\n",
       "    </tr>\n",
       "  </tbody>\n",
       "</table>\n",
       "</div>"
      ],
      "text/plain": [
       "     city  county  incident_zip      created_date       owning_department  \\\n",
       "0  AUSTIN  TRAVIS       78741.0   1/20/2015 10:41  Animal Services Office   \n",
       "1  AUSTIN  TRAVIS       78757.0   5/22/2016 10:00  Animal Services Office   \n",
       "2  AUSTIN  TRAVIS       78744.0    1/6/2014 18:04  Animal Services Office   \n",
       "3  AUSTIN  TRAVIS       78727.0  11/15/2014 15:43  Austin Code Department   \n",
       "4  AUSTIN  TRAVIS       78723.0   7/28/2014 17:33  Animal Services Office   \n",
       "\n",
       "                complaint_description complaint_type  \n",
       "0                           Loose Dog        ACLONAG  \n",
       "1                           Loose Dog        ACLONAG  \n",
       "2              Loose Animal (not dog)       ACLOANIM  \n",
       "3  Austin Code - Request Code Officer       CODECOMP  \n",
       "4                Animal - Proper Care       ACPROPER  "
      ]
     },
     "execution_count": 68,
     "metadata": {},
     "output_type": "execute_result"
    }
   ],
   "source": [
    "#Identify columns needed for analysis\n",
    "austin_df = austin_df[[\"city\", \"county\", \"incident_zip\", \"created_date\", \"owning_department\", \"complaint_description\", \"complaint_type\"]]\n",
    "austin_df.head()"
   ]
  },
  {
   "cell_type": "code",
   "execution_count": 69,
   "metadata": {},
   "outputs": [
    {
     "data": {
      "text/html": [
       "<div>\n",
       "<style>\n",
       "    .dataframe thead tr:only-child th {\n",
       "        text-align: right;\n",
       "    }\n",
       "\n",
       "    .dataframe thead th {\n",
       "        text-align: left;\n",
       "    }\n",
       "\n",
       "    .dataframe tbody tr th {\n",
       "        vertical-align: top;\n",
       "    }\n",
       "</style>\n",
       "<table border=\"1\" class=\"dataframe\">\n",
       "  <thead>\n",
       "    <tr style=\"text-align: right;\">\n",
       "      <th></th>\n",
       "      <th>City</th>\n",
       "      <th>County</th>\n",
       "      <th>Incident Zip</th>\n",
       "      <th>Date</th>\n",
       "      <th>Department</th>\n",
       "      <th>Complaint Description</th>\n",
       "      <th>Type of Complaint</th>\n",
       "    </tr>\n",
       "  </thead>\n",
       "  <tbody>\n",
       "    <tr>\n",
       "      <th>0</th>\n",
       "      <td>AUSTIN</td>\n",
       "      <td>TRAVIS</td>\n",
       "      <td>78741.0</td>\n",
       "      <td>1/20/2015 10:41</td>\n",
       "      <td>Animal Services Office</td>\n",
       "      <td>Loose Dog</td>\n",
       "      <td>ACLONAG</td>\n",
       "    </tr>\n",
       "    <tr>\n",
       "      <th>1</th>\n",
       "      <td>AUSTIN</td>\n",
       "      <td>TRAVIS</td>\n",
       "      <td>78757.0</td>\n",
       "      <td>5/22/2016 10:00</td>\n",
       "      <td>Animal Services Office</td>\n",
       "      <td>Loose Dog</td>\n",
       "      <td>ACLONAG</td>\n",
       "    </tr>\n",
       "    <tr>\n",
       "      <th>2</th>\n",
       "      <td>AUSTIN</td>\n",
       "      <td>TRAVIS</td>\n",
       "      <td>78744.0</td>\n",
       "      <td>1/6/2014 18:04</td>\n",
       "      <td>Animal Services Office</td>\n",
       "      <td>Loose Animal (not dog)</td>\n",
       "      <td>ACLOANIM</td>\n",
       "    </tr>\n",
       "    <tr>\n",
       "      <th>3</th>\n",
       "      <td>AUSTIN</td>\n",
       "      <td>TRAVIS</td>\n",
       "      <td>78727.0</td>\n",
       "      <td>11/15/2014 15:43</td>\n",
       "      <td>Austin Code Department</td>\n",
       "      <td>Austin Code - Request Code Officer</td>\n",
       "      <td>CODECOMP</td>\n",
       "    </tr>\n",
       "    <tr>\n",
       "      <th>4</th>\n",
       "      <td>AUSTIN</td>\n",
       "      <td>TRAVIS</td>\n",
       "      <td>78723.0</td>\n",
       "      <td>7/28/2014 17:33</td>\n",
       "      <td>Animal Services Office</td>\n",
       "      <td>Animal - Proper Care</td>\n",
       "      <td>ACPROPER</td>\n",
       "    </tr>\n",
       "    <tr>\n",
       "      <th>5</th>\n",
       "      <td>AUSTIN</td>\n",
       "      <td>TRAVIS</td>\n",
       "      <td>78702.0</td>\n",
       "      <td>6/20/2016 16:44</td>\n",
       "      <td>Animal Services Office</td>\n",
       "      <td>Animal - Proper Care</td>\n",
       "      <td>ACPROPER</td>\n",
       "    </tr>\n",
       "    <tr>\n",
       "      <th>6</th>\n",
       "      <td>AUSTIN</td>\n",
       "      <td>TRAVIS</td>\n",
       "      <td>78744.0</td>\n",
       "      <td>8/25/2015 11:03</td>\n",
       "      <td>Austin Code Department</td>\n",
       "      <td>Austin Code - Request Code Officer</td>\n",
       "      <td>CODECOMP</td>\n",
       "    </tr>\n",
       "    <tr>\n",
       "      <th>7</th>\n",
       "      <td>AUSTIN</td>\n",
       "      <td>TRAVIS</td>\n",
       "      <td>78749.0</td>\n",
       "      <td>8/26/2014 13:01</td>\n",
       "      <td>Austin Water Utility</td>\n",
       "      <td>Water Waste Report</td>\n",
       "      <td>WWREPORT</td>\n",
       "    </tr>\n",
       "    <tr>\n",
       "      <th>8</th>\n",
       "      <td>AUSTIN</td>\n",
       "      <td>TRAVIS</td>\n",
       "      <td>78702.0</td>\n",
       "      <td>6/19/2015 16:31</td>\n",
       "      <td>Parks &amp; Recreation Department</td>\n",
       "      <td>Park Maintenance - Pool Issues</td>\n",
       "      <td>PRMTPOOL</td>\n",
       "    </tr>\n",
       "    <tr>\n",
       "      <th>9</th>\n",
       "      <td>AUSTIN</td>\n",
       "      <td>TRAVIS</td>\n",
       "      <td>78759.0</td>\n",
       "      <td>8/1/2017 12:55</td>\n",
       "      <td>Austin Code Department</td>\n",
       "      <td>Austin Code - Request Code Officer</td>\n",
       "      <td>CODECOMP</td>\n",
       "    </tr>\n",
       "  </tbody>\n",
       "</table>\n",
       "</div>"
      ],
      "text/plain": [
       "     City  County  Incident Zip              Date  \\\n",
       "0  AUSTIN  TRAVIS       78741.0   1/20/2015 10:41   \n",
       "1  AUSTIN  TRAVIS       78757.0   5/22/2016 10:00   \n",
       "2  AUSTIN  TRAVIS       78744.0    1/6/2014 18:04   \n",
       "3  AUSTIN  TRAVIS       78727.0  11/15/2014 15:43   \n",
       "4  AUSTIN  TRAVIS       78723.0   7/28/2014 17:33   \n",
       "5  AUSTIN  TRAVIS       78702.0   6/20/2016 16:44   \n",
       "6  AUSTIN  TRAVIS       78744.0   8/25/2015 11:03   \n",
       "7  AUSTIN  TRAVIS       78749.0   8/26/2014 13:01   \n",
       "8  AUSTIN  TRAVIS       78702.0   6/19/2015 16:31   \n",
       "9  AUSTIN  TRAVIS       78759.0    8/1/2017 12:55   \n",
       "\n",
       "                      Department               Complaint Description  \\\n",
       "0         Animal Services Office                           Loose Dog   \n",
       "1         Animal Services Office                           Loose Dog   \n",
       "2         Animal Services Office              Loose Animal (not dog)   \n",
       "3         Austin Code Department  Austin Code - Request Code Officer   \n",
       "4         Animal Services Office                Animal - Proper Care   \n",
       "5         Animal Services Office                Animal - Proper Care   \n",
       "6         Austin Code Department  Austin Code - Request Code Officer   \n",
       "7           Austin Water Utility                  Water Waste Report   \n",
       "8  Parks & Recreation Department      Park Maintenance - Pool Issues   \n",
       "9         Austin Code Department  Austin Code - Request Code Officer   \n",
       "\n",
       "  Type of Complaint  \n",
       "0           ACLONAG  \n",
       "1           ACLONAG  \n",
       "2          ACLOANIM  \n",
       "3          CODECOMP  \n",
       "4          ACPROPER  \n",
       "5          ACPROPER  \n",
       "6          CODECOMP  \n",
       "7          WWREPORT  \n",
       "8          PRMTPOOL  \n",
       "9          CODECOMP  "
      ]
     },
     "execution_count": 69,
     "metadata": {},
     "output_type": "execute_result"
    }
   ],
   "source": [
    "#Change column names\n",
    "austin_df = austin_df.rename(columns={\"city\":\"City\", \"county\":\"County\",\"incident_zip\":\"Incident Zip\",\n",
    "                                      \"created_date\":\"Date\", \"owning_department\":\"Department\",\n",
    "                                      \"complaint_description\":\"Complaint Description\",\"complaint_type\":\"Type of Complaint\"})\n",
    "austin_df.head(10)"
   ]
  },
  {
   "cell_type": "code",
   "execution_count": 70,
   "metadata": {},
   "outputs": [
    {
     "data": {
      "text/plain": [
       "City                     454982\n",
       "County                   452747\n",
       "Incident Zip             454963\n",
       "Date                     452741\n",
       "Department               459305\n",
       "Complaint Description    459305\n",
       "Type of Complaint        459305\n",
       "dtype: int64"
      ]
     },
     "execution_count": 70,
     "metadata": {},
     "output_type": "execute_result"
    }
   ],
   "source": [
    "#Assess missing data\n",
    "austin_df.count()"
   ]
  },
  {
   "cell_type": "code",
   "execution_count": 71,
   "metadata": {},
   "outputs": [
    {
     "data": {
      "text/html": [
       "<div>\n",
       "<style>\n",
       "    .dataframe thead tr:only-child th {\n",
       "        text-align: right;\n",
       "    }\n",
       "\n",
       "    .dataframe thead th {\n",
       "        text-align: left;\n",
       "    }\n",
       "\n",
       "    .dataframe tbody tr th {\n",
       "        vertical-align: top;\n",
       "    }\n",
       "</style>\n",
       "<table border=\"1\" class=\"dataframe\">\n",
       "  <thead>\n",
       "    <tr style=\"text-align: right;\">\n",
       "      <th></th>\n",
       "      <th>City</th>\n",
       "      <th>County</th>\n",
       "      <th>Incident Zip</th>\n",
       "      <th>Date</th>\n",
       "      <th>Department</th>\n",
       "      <th>Complaint Description</th>\n",
       "      <th>Type of Complaint</th>\n",
       "    </tr>\n",
       "  </thead>\n",
       "  <tbody>\n",
       "    <tr>\n",
       "      <th>0</th>\n",
       "      <td>AUSTIN</td>\n",
       "      <td>TRAVIS</td>\n",
       "      <td>78741.0</td>\n",
       "      <td>1/20/2015 10:41</td>\n",
       "      <td>Animal Services Office</td>\n",
       "      <td>Loose Dog</td>\n",
       "      <td>ACLONAG</td>\n",
       "    </tr>\n",
       "    <tr>\n",
       "      <th>1</th>\n",
       "      <td>AUSTIN</td>\n",
       "      <td>TRAVIS</td>\n",
       "      <td>78757.0</td>\n",
       "      <td>5/22/2016 10:00</td>\n",
       "      <td>Animal Services Office</td>\n",
       "      <td>Loose Dog</td>\n",
       "      <td>ACLONAG</td>\n",
       "    </tr>\n",
       "    <tr>\n",
       "      <th>2</th>\n",
       "      <td>AUSTIN</td>\n",
       "      <td>TRAVIS</td>\n",
       "      <td>78744.0</td>\n",
       "      <td>1/6/2014 18:04</td>\n",
       "      <td>Animal Services Office</td>\n",
       "      <td>Loose Animal (not dog)</td>\n",
       "      <td>ACLOANIM</td>\n",
       "    </tr>\n",
       "    <tr>\n",
       "      <th>3</th>\n",
       "      <td>AUSTIN</td>\n",
       "      <td>TRAVIS</td>\n",
       "      <td>78727.0</td>\n",
       "      <td>11/15/2014 15:43</td>\n",
       "      <td>Austin Code Department</td>\n",
       "      <td>Austin Code - Request Code Officer</td>\n",
       "      <td>CODECOMP</td>\n",
       "    </tr>\n",
       "    <tr>\n",
       "      <th>4</th>\n",
       "      <td>AUSTIN</td>\n",
       "      <td>TRAVIS</td>\n",
       "      <td>78723.0</td>\n",
       "      <td>7/28/2014 17:33</td>\n",
       "      <td>Animal Services Office</td>\n",
       "      <td>Animal - Proper Care</td>\n",
       "      <td>ACPROPER</td>\n",
       "    </tr>\n",
       "  </tbody>\n",
       "</table>\n",
       "</div>"
      ],
      "text/plain": [
       "     City  County  Incident Zip              Date              Department  \\\n",
       "0  AUSTIN  TRAVIS       78741.0   1/20/2015 10:41  Animal Services Office   \n",
       "1  AUSTIN  TRAVIS       78757.0   5/22/2016 10:00  Animal Services Office   \n",
       "2  AUSTIN  TRAVIS       78744.0    1/6/2014 18:04  Animal Services Office   \n",
       "3  AUSTIN  TRAVIS       78727.0  11/15/2014 15:43  Austin Code Department   \n",
       "4  AUSTIN  TRAVIS       78723.0   7/28/2014 17:33  Animal Services Office   \n",
       "\n",
       "                Complaint Description Type of Complaint  \n",
       "0                           Loose Dog           ACLONAG  \n",
       "1                           Loose Dog           ACLONAG  \n",
       "2              Loose Animal (not dog)          ACLOANIM  \n",
       "3  Austin Code - Request Code Officer          CODECOMP  \n",
       "4                Animal - Proper Care          ACPROPER  "
      ]
     },
     "execution_count": 71,
     "metadata": {},
     "output_type": "execute_result"
    }
   ],
   "source": [
    "#Assess missing data\n",
    "austin_df.replace('', np.nan, inplace=True)\n",
    "austin_df.head()"
   ]
  },
  {
   "cell_type": "code",
   "execution_count": 72,
   "metadata": {},
   "outputs": [
    {
     "data": {
      "text/plain": [
       "City                     454982\n",
       "County                   452747\n",
       "Incident Zip             454963\n",
       "Date                     452741\n",
       "Department               459305\n",
       "Complaint Description    459305\n",
       "Type of Complaint        459305\n",
       "dtype: int64"
      ]
     },
     "execution_count": 72,
     "metadata": {},
     "output_type": "execute_result"
    }
   ],
   "source": [
    "#Assess missing data\n",
    "austin_df.count()"
   ]
  },
  {
   "cell_type": "code",
   "execution_count": 73,
   "metadata": {},
   "outputs": [
    {
     "data": {
      "text/plain": [
       "City                     445845\n",
       "County                   445845\n",
       "Incident Zip             445845\n",
       "Date                     445845\n",
       "Department               445845\n",
       "Complaint Description    445845\n",
       "Type of Complaint        445845\n",
       "dtype: int64"
      ]
     },
     "execution_count": 73,
     "metadata": {},
     "output_type": "execute_result"
    }
   ],
   "source": [
    "#Clean data\n",
    "cleanaustin_df = austin_df.dropna(how=\"any\")\n",
    "cleanaustin_df.count()"
   ]
  },
  {
   "cell_type": "code",
   "execution_count": 74,
   "metadata": {},
   "outputs": [
    {
     "data": {
      "text/html": [
       "<div>\n",
       "<style>\n",
       "    .dataframe thead tr:only-child th {\n",
       "        text-align: right;\n",
       "    }\n",
       "\n",
       "    .dataframe thead th {\n",
       "        text-align: left;\n",
       "    }\n",
       "\n",
       "    .dataframe tbody tr th {\n",
       "        vertical-align: top;\n",
       "    }\n",
       "</style>\n",
       "<table border=\"1\" class=\"dataframe\">\n",
       "  <thead>\n",
       "    <tr style=\"text-align: right;\">\n",
       "      <th></th>\n",
       "      <th>City</th>\n",
       "      <th>County</th>\n",
       "      <th>Incident Zip</th>\n",
       "      <th>Date</th>\n",
       "      <th>Department</th>\n",
       "      <th>Complaint Description</th>\n",
       "      <th>Type of Complaint</th>\n",
       "    </tr>\n",
       "  </thead>\n",
       "  <tbody>\n",
       "    <tr>\n",
       "      <th>0</th>\n",
       "      <td>AUSTIN</td>\n",
       "      <td>TRAVIS</td>\n",
       "      <td>78741.0</td>\n",
       "      <td>1/20/2015 10:41</td>\n",
       "      <td>Animal Services Office</td>\n",
       "      <td>Loose Dog</td>\n",
       "      <td>ACLONAG</td>\n",
       "    </tr>\n",
       "    <tr>\n",
       "      <th>1</th>\n",
       "      <td>AUSTIN</td>\n",
       "      <td>TRAVIS</td>\n",
       "      <td>78757.0</td>\n",
       "      <td>5/22/2016 10:00</td>\n",
       "      <td>Animal Services Office</td>\n",
       "      <td>Loose Dog</td>\n",
       "      <td>ACLONAG</td>\n",
       "    </tr>\n",
       "    <tr>\n",
       "      <th>2</th>\n",
       "      <td>AUSTIN</td>\n",
       "      <td>TRAVIS</td>\n",
       "      <td>78744.0</td>\n",
       "      <td>1/6/2014 18:04</td>\n",
       "      <td>Animal Services Office</td>\n",
       "      <td>Loose Animal (not dog)</td>\n",
       "      <td>ACLOANIM</td>\n",
       "    </tr>\n",
       "    <tr>\n",
       "      <th>3</th>\n",
       "      <td>AUSTIN</td>\n",
       "      <td>TRAVIS</td>\n",
       "      <td>78727.0</td>\n",
       "      <td>11/15/2014 15:43</td>\n",
       "      <td>Austin Code Department</td>\n",
       "      <td>Austin Code - Request Code Officer</td>\n",
       "      <td>CODECOMP</td>\n",
       "    </tr>\n",
       "    <tr>\n",
       "      <th>4</th>\n",
       "      <td>AUSTIN</td>\n",
       "      <td>TRAVIS</td>\n",
       "      <td>78723.0</td>\n",
       "      <td>7/28/2014 17:33</td>\n",
       "      <td>Animal Services Office</td>\n",
       "      <td>Animal - Proper Care</td>\n",
       "      <td>ACPROPER</td>\n",
       "    </tr>\n",
       "    <tr>\n",
       "      <th>5</th>\n",
       "      <td>AUSTIN</td>\n",
       "      <td>TRAVIS</td>\n",
       "      <td>78702.0</td>\n",
       "      <td>6/20/2016 16:44</td>\n",
       "      <td>Animal Services Office</td>\n",
       "      <td>Animal - Proper Care</td>\n",
       "      <td>ACPROPER</td>\n",
       "    </tr>\n",
       "    <tr>\n",
       "      <th>6</th>\n",
       "      <td>AUSTIN</td>\n",
       "      <td>TRAVIS</td>\n",
       "      <td>78744.0</td>\n",
       "      <td>8/25/2015 11:03</td>\n",
       "      <td>Austin Code Department</td>\n",
       "      <td>Austin Code - Request Code Officer</td>\n",
       "      <td>CODECOMP</td>\n",
       "    </tr>\n",
       "    <tr>\n",
       "      <th>7</th>\n",
       "      <td>AUSTIN</td>\n",
       "      <td>TRAVIS</td>\n",
       "      <td>78749.0</td>\n",
       "      <td>8/26/2014 13:01</td>\n",
       "      <td>Austin Water Utility</td>\n",
       "      <td>Water Waste Report</td>\n",
       "      <td>WWREPORT</td>\n",
       "    </tr>\n",
       "    <tr>\n",
       "      <th>8</th>\n",
       "      <td>AUSTIN</td>\n",
       "      <td>TRAVIS</td>\n",
       "      <td>78702.0</td>\n",
       "      <td>6/19/2015 16:31</td>\n",
       "      <td>Parks &amp; Recreation Department</td>\n",
       "      <td>Park Maintenance - Pool Issues</td>\n",
       "      <td>PRMTPOOL</td>\n",
       "    </tr>\n",
       "    <tr>\n",
       "      <th>9</th>\n",
       "      <td>AUSTIN</td>\n",
       "      <td>TRAVIS</td>\n",
       "      <td>78759.0</td>\n",
       "      <td>8/1/2017 12:55</td>\n",
       "      <td>Austin Code Department</td>\n",
       "      <td>Austin Code - Request Code Officer</td>\n",
       "      <td>CODECOMP</td>\n",
       "    </tr>\n",
       "    <tr>\n",
       "      <th>10</th>\n",
       "      <td>COUPLAND</td>\n",
       "      <td>TRAVIS</td>\n",
       "      <td>78615.0</td>\n",
       "      <td>8/14/2016 18:22</td>\n",
       "      <td>Animal Services Office</td>\n",
       "      <td>Loose Dog</td>\n",
       "      <td>ACLONAG</td>\n",
       "    </tr>\n",
       "    <tr>\n",
       "      <th>11</th>\n",
       "      <td>AUSTIN</td>\n",
       "      <td>TRAVIS</td>\n",
       "      <td>78750.0</td>\n",
       "      <td>2/21/2015 13:25</td>\n",
       "      <td>Austin Water Utility</td>\n",
       "      <td>Water Waste Report</td>\n",
       "      <td>WWREPORT</td>\n",
       "    </tr>\n",
       "    <tr>\n",
       "      <th>12</th>\n",
       "      <td>AUSTIN</td>\n",
       "      <td>TRAVIS</td>\n",
       "      <td>78702.0</td>\n",
       "      <td>3/9/2016 14:46</td>\n",
       "      <td>Public Works</td>\n",
       "      <td>Pavement Failure</td>\n",
       "      <td>SBPAVEFA</td>\n",
       "    </tr>\n",
       "    <tr>\n",
       "      <th>13</th>\n",
       "      <td>AUSTIN</td>\n",
       "      <td>TRAVIS</td>\n",
       "      <td>78701.0</td>\n",
       "      <td>8/17/2016 11:46</td>\n",
       "      <td>Austin Code Department</td>\n",
       "      <td>Austin Code - Request Code Officer</td>\n",
       "      <td>CODECOMP</td>\n",
       "    </tr>\n",
       "    <tr>\n",
       "      <th>14</th>\n",
       "      <td>AUSTIN</td>\n",
       "      <td>TRAVIS</td>\n",
       "      <td>78702.0</td>\n",
       "      <td>5/15/2014 10:13</td>\n",
       "      <td>Transportation</td>\n",
       "      <td>Sign - Traffic Sign Emergency</td>\n",
       "      <td>SIGNTRAF</td>\n",
       "    </tr>\n",
       "    <tr>\n",
       "      <th>15</th>\n",
       "      <td>AUSTIN</td>\n",
       "      <td>TRAVIS</td>\n",
       "      <td>78702.0</td>\n",
       "      <td>7/27/2014 22:36</td>\n",
       "      <td>Austin Energy Department</td>\n",
       "      <td>Street Light Issue- Address</td>\n",
       "      <td>STREETL2</td>\n",
       "    </tr>\n",
       "    <tr>\n",
       "      <th>16</th>\n",
       "      <td>AUSTIN</td>\n",
       "      <td>TRAVIS</td>\n",
       "      <td>78758.0</td>\n",
       "      <td>12/19/2016 10:07</td>\n",
       "      <td>Animal Services Office</td>\n",
       "      <td>Animal Control - Assistance Request</td>\n",
       "      <td>ACINFORM</td>\n",
       "    </tr>\n",
       "    <tr>\n",
       "      <th>17</th>\n",
       "      <td>AUSTIN</td>\n",
       "      <td>TRAVIS</td>\n",
       "      <td>78701.0</td>\n",
       "      <td>3/16/2017 8:52</td>\n",
       "      <td>Public Health</td>\n",
       "      <td>Public Health - Graffiti Abatement</td>\n",
       "      <td>HHSGRAFF</td>\n",
       "    </tr>\n",
       "    <tr>\n",
       "      <th>18</th>\n",
       "      <td>AUSTIN</td>\n",
       "      <td>TRAVIS</td>\n",
       "      <td>78705.0</td>\n",
       "      <td>9/15/2016 13:52</td>\n",
       "      <td>Austin Code Department</td>\n",
       "      <td>Austin Code - Request Code Officer</td>\n",
       "      <td>CODECOMP</td>\n",
       "    </tr>\n",
       "    <tr>\n",
       "      <th>19</th>\n",
       "      <td>AUSTIN</td>\n",
       "      <td>TRAVIS</td>\n",
       "      <td>78758.0</td>\n",
       "      <td>10/17/2016 15:02</td>\n",
       "      <td>Austin Code Department</td>\n",
       "      <td>Austin Code - Request Code Officer</td>\n",
       "      <td>CODECOMP</td>\n",
       "    </tr>\n",
       "  </tbody>\n",
       "</table>\n",
       "</div>"
      ],
      "text/plain": [
       "        City  County  Incident Zip              Date  \\\n",
       "0     AUSTIN  TRAVIS       78741.0   1/20/2015 10:41   \n",
       "1     AUSTIN  TRAVIS       78757.0   5/22/2016 10:00   \n",
       "2     AUSTIN  TRAVIS       78744.0    1/6/2014 18:04   \n",
       "3     AUSTIN  TRAVIS       78727.0  11/15/2014 15:43   \n",
       "4     AUSTIN  TRAVIS       78723.0   7/28/2014 17:33   \n",
       "5     AUSTIN  TRAVIS       78702.0   6/20/2016 16:44   \n",
       "6     AUSTIN  TRAVIS       78744.0   8/25/2015 11:03   \n",
       "7     AUSTIN  TRAVIS       78749.0   8/26/2014 13:01   \n",
       "8     AUSTIN  TRAVIS       78702.0   6/19/2015 16:31   \n",
       "9     AUSTIN  TRAVIS       78759.0    8/1/2017 12:55   \n",
       "10  COUPLAND  TRAVIS       78615.0   8/14/2016 18:22   \n",
       "11    AUSTIN  TRAVIS       78750.0   2/21/2015 13:25   \n",
       "12    AUSTIN  TRAVIS       78702.0    3/9/2016 14:46   \n",
       "13    AUSTIN  TRAVIS       78701.0   8/17/2016 11:46   \n",
       "14    AUSTIN  TRAVIS       78702.0   5/15/2014 10:13   \n",
       "15    AUSTIN  TRAVIS       78702.0   7/27/2014 22:36   \n",
       "16    AUSTIN  TRAVIS       78758.0  12/19/2016 10:07   \n",
       "17    AUSTIN  TRAVIS       78701.0    3/16/2017 8:52   \n",
       "18    AUSTIN  TRAVIS       78705.0   9/15/2016 13:52   \n",
       "19    AUSTIN  TRAVIS       78758.0  10/17/2016 15:02   \n",
       "\n",
       "                       Department                Complaint Description  \\\n",
       "0          Animal Services Office                            Loose Dog   \n",
       "1          Animal Services Office                            Loose Dog   \n",
       "2          Animal Services Office               Loose Animal (not dog)   \n",
       "3          Austin Code Department   Austin Code - Request Code Officer   \n",
       "4          Animal Services Office                 Animal - Proper Care   \n",
       "5          Animal Services Office                 Animal - Proper Care   \n",
       "6          Austin Code Department   Austin Code - Request Code Officer   \n",
       "7            Austin Water Utility                   Water Waste Report   \n",
       "8   Parks & Recreation Department       Park Maintenance - Pool Issues   \n",
       "9          Austin Code Department   Austin Code - Request Code Officer   \n",
       "10         Animal Services Office                            Loose Dog   \n",
       "11           Austin Water Utility                   Water Waste Report   \n",
       "12                   Public Works                     Pavement Failure   \n",
       "13         Austin Code Department   Austin Code - Request Code Officer   \n",
       "14                 Transportation        Sign - Traffic Sign Emergency   \n",
       "15       Austin Energy Department          Street Light Issue- Address   \n",
       "16         Animal Services Office  Animal Control - Assistance Request   \n",
       "17                  Public Health   Public Health - Graffiti Abatement   \n",
       "18         Austin Code Department   Austin Code - Request Code Officer   \n",
       "19         Austin Code Department   Austin Code - Request Code Officer   \n",
       "\n",
       "   Type of Complaint  \n",
       "0            ACLONAG  \n",
       "1            ACLONAG  \n",
       "2           ACLOANIM  \n",
       "3           CODECOMP  \n",
       "4           ACPROPER  \n",
       "5           ACPROPER  \n",
       "6           CODECOMP  \n",
       "7           WWREPORT  \n",
       "8           PRMTPOOL  \n",
       "9           CODECOMP  \n",
       "10           ACLONAG  \n",
       "11          WWREPORT  \n",
       "12          SBPAVEFA  \n",
       "13          CODECOMP  \n",
       "14          SIGNTRAF  \n",
       "15          STREETL2  \n",
       "16          ACINFORM  \n",
       "17          HHSGRAFF  \n",
       "18          CODECOMP  \n",
       "19          CODECOMP  "
      ]
     },
     "execution_count": 74,
     "metadata": {},
     "output_type": "execute_result"
    }
   ],
   "source": [
    "#Assess data\n",
    "cleanaustin_df.head(20)"
   ]
  },
  {
   "cell_type": "code",
   "execution_count": 75,
   "metadata": {},
   "outputs": [
    {
     "data": {
      "text/plain": [
       "AUSTIN              434876\n",
       "PFLUGERVILLE          2072\n",
       "DEL VALLE             1747\n",
       "AUSTIN 5 ETJ          1204\n",
       "MANOR                 1088\n",
       "Austin                 538\n",
       "austin                 498\n",
       "CEDAR PARK             437\n",
       "OTHER                  365\n",
       "LEANDER                294\n",
       "ROUND ROCK             252\n",
       "BEE CAVE               234\n",
       "WEST LAKE HILLS        232\n",
       "LAKEWAY                203\n",
       "SUNSET VALLEY          200\n",
       "MUSTANG RIDGE          183\n",
       "ELGIN                  179\n",
       "MANCHACA               117\n",
       "TRAVIS                 111\n",
       "SPICEWOOD              106\n",
       "BUDA                    99\n",
       "JONESTOWN               92\n",
       "LAGO VISTA              90\n",
       "CREEDMOOR               76\n",
       "ROLLINGWOOD             75\n",
       "WEBBERVILLE             72\n",
       "BRIARCLIFF              58\n",
       "DRIPPING SPRINGS        46\n",
       "CEDAR CREEK             34\n",
       "COUPLAND                33\n",
       "                     ...  \n",
       "SAN MARCOS               2\n",
       "Aus                      2\n",
       "BEAR CREEK               2\n",
       "austi                    2\n",
       "AUstin                   2\n",
       "Austin.                  2\n",
       "Elgin                    1\n",
       "austn                    1\n",
       "Austtin                  1\n",
       "HUMBLE                   1\n",
       "Aust                     1\n",
       "AuStin                   1\n",
       "LIBERTY HILL             1\n",
       "ausitn                   1\n",
       "AUsti                    1\n",
       "cedar creek              1\n",
       "manchaca                 1\n",
       "Ausitn                   1\n",
       "bee cave                 1\n",
       "Del Valle                1\n",
       "austibn                  1\n",
       "lakeway                  1\n",
       "AUST                     1\n",
       "AustIn                   1\n",
       "del valle                1\n",
       "Austn                    1\n",
       "leander                  1\n",
       "MOUNTAIN CITY            1\n",
       "austin `                 1\n",
       "LOCKHART                 1\n",
       "Name: City, Length: 79, dtype: int64"
      ]
     },
     "execution_count": 75,
     "metadata": {},
     "output_type": "execute_result"
    }
   ],
   "source": [
    "#Assess data\n",
    "cleanaustin_df['City'].value_counts()"
   ]
  },
  {
   "cell_type": "code",
   "execution_count": 76,
   "metadata": {
    "collapsed": true
   },
   "outputs": [],
   "source": [
    "#Limit data to Austin values\n",
    "value_list = ['AUSTIN', 'Austin', 'austin']\n",
    "austincity_df = cleanaustin_df[cleanaustin_df.City.isin(value_list)]"
   ]
  },
  {
   "cell_type": "code",
   "execution_count": 77,
   "metadata": {},
   "outputs": [
    {
     "data": {
      "text/plain": [
       "AUSTIN    434876\n",
       "Austin       538\n",
       "austin       498\n",
       "Name: City, dtype: int64"
      ]
     },
     "execution_count": 77,
     "metadata": {},
     "output_type": "execute_result"
    }
   ],
   "source": [
    "#Assess data\n",
    "austincity_df['City'].value_counts()"
   ]
  },
  {
   "cell_type": "code",
   "execution_count": 78,
   "metadata": {
    "collapsed": true
   },
   "outputs": [],
   "source": [
    "#Limit data to Travis county\n",
    "value_list = ['TRAVIS']\n",
    "austin311_df = austincity_df[austincity_df.County.isin(value_list)]"
   ]
  },
  {
   "cell_type": "code",
   "execution_count": 79,
   "metadata": {},
   "outputs": [
    {
     "data": {
      "text/plain": [
       "City                     422852\n",
       "County                   422852\n",
       "Incident Zip             422852\n",
       "Date                     422852\n",
       "Department               422852\n",
       "Complaint Description    422852\n",
       "Type of Complaint        422852\n",
       "dtype: int64"
      ]
     },
     "execution_count": 79,
     "metadata": {},
     "output_type": "execute_result"
    }
   ],
   "source": [
    "#Assess data\n",
    "austin311_df.count()"
   ]
  },
  {
   "cell_type": "code",
   "execution_count": 80,
   "metadata": {},
   "outputs": [
    {
     "name": "stderr",
     "output_type": "stream",
     "text": [
      "C:\\Users\\mraig\\Anaconda3\\lib\\site-packages\\ipykernel_launcher.py:2: SettingWithCopyWarning: \n",
      "A value is trying to be set on a copy of a slice from a DataFrame.\n",
      "Try using .loc[row_indexer,col_indexer] = value instead\n",
      "\n",
      "See the caveats in the documentation: http://pandas.pydata.org/pandas-docs/stable/indexing.html#indexing-view-versus-copy\n",
      "  \n"
     ]
    }
   ],
   "source": [
    "#Change data type for zip code and future merge\n",
    "austin311_df[\"Incident Zip\"] = austin311_df[\"Incident Zip\"].astype(int)"
   ]
  },
  {
   "cell_type": "code",
   "execution_count": 81,
   "metadata": {},
   "outputs": [
    {
     "data": {
      "text/html": [
       "<div>\n",
       "<style>\n",
       "    .dataframe thead tr:only-child th {\n",
       "        text-align: right;\n",
       "    }\n",
       "\n",
       "    .dataframe thead th {\n",
       "        text-align: left;\n",
       "    }\n",
       "\n",
       "    .dataframe tbody tr th {\n",
       "        vertical-align: top;\n",
       "    }\n",
       "</style>\n",
       "<table border=\"1\" class=\"dataframe\">\n",
       "  <thead>\n",
       "    <tr style=\"text-align: right;\">\n",
       "      <th></th>\n",
       "      <th>City</th>\n",
       "      <th>County</th>\n",
       "      <th>Incident Zip</th>\n",
       "      <th>Date</th>\n",
       "      <th>Department</th>\n",
       "      <th>Complaint Description</th>\n",
       "      <th>Type of Complaint</th>\n",
       "    </tr>\n",
       "  </thead>\n",
       "  <tbody>\n",
       "    <tr>\n",
       "      <th>0</th>\n",
       "      <td>AUSTIN</td>\n",
       "      <td>TRAVIS</td>\n",
       "      <td>78741</td>\n",
       "      <td>1/20/2015 10:41</td>\n",
       "      <td>Animal Services Office</td>\n",
       "      <td>Loose Dog</td>\n",
       "      <td>ACLONAG</td>\n",
       "    </tr>\n",
       "    <tr>\n",
       "      <th>1</th>\n",
       "      <td>AUSTIN</td>\n",
       "      <td>TRAVIS</td>\n",
       "      <td>78757</td>\n",
       "      <td>5/22/2016 10:00</td>\n",
       "      <td>Animal Services Office</td>\n",
       "      <td>Loose Dog</td>\n",
       "      <td>ACLONAG</td>\n",
       "    </tr>\n",
       "    <tr>\n",
       "      <th>2</th>\n",
       "      <td>AUSTIN</td>\n",
       "      <td>TRAVIS</td>\n",
       "      <td>78744</td>\n",
       "      <td>1/6/2014 18:04</td>\n",
       "      <td>Animal Services Office</td>\n",
       "      <td>Loose Animal (not dog)</td>\n",
       "      <td>ACLOANIM</td>\n",
       "    </tr>\n",
       "    <tr>\n",
       "      <th>3</th>\n",
       "      <td>AUSTIN</td>\n",
       "      <td>TRAVIS</td>\n",
       "      <td>78727</td>\n",
       "      <td>11/15/2014 15:43</td>\n",
       "      <td>Austin Code Department</td>\n",
       "      <td>Austin Code - Request Code Officer</td>\n",
       "      <td>CODECOMP</td>\n",
       "    </tr>\n",
       "    <tr>\n",
       "      <th>4</th>\n",
       "      <td>AUSTIN</td>\n",
       "      <td>TRAVIS</td>\n",
       "      <td>78723</td>\n",
       "      <td>7/28/2014 17:33</td>\n",
       "      <td>Animal Services Office</td>\n",
       "      <td>Animal - Proper Care</td>\n",
       "      <td>ACPROPER</td>\n",
       "    </tr>\n",
       "  </tbody>\n",
       "</table>\n",
       "</div>"
      ],
      "text/plain": [
       "     City  County  Incident Zip              Date              Department  \\\n",
       "0  AUSTIN  TRAVIS         78741   1/20/2015 10:41  Animal Services Office   \n",
       "1  AUSTIN  TRAVIS         78757   5/22/2016 10:00  Animal Services Office   \n",
       "2  AUSTIN  TRAVIS         78744    1/6/2014 18:04  Animal Services Office   \n",
       "3  AUSTIN  TRAVIS         78727  11/15/2014 15:43  Austin Code Department   \n",
       "4  AUSTIN  TRAVIS         78723   7/28/2014 17:33  Animal Services Office   \n",
       "\n",
       "                Complaint Description Type of Complaint  \n",
       "0                           Loose Dog           ACLONAG  \n",
       "1                           Loose Dog           ACLONAG  \n",
       "2              Loose Animal (not dog)          ACLOANIM  \n",
       "3  Austin Code - Request Code Officer          CODECOMP  \n",
       "4                Animal - Proper Care          ACPROPER  "
      ]
     },
     "execution_count": 81,
     "metadata": {},
     "output_type": "execute_result"
    }
   ],
   "source": [
    "#Assess data\n",
    "austin311_df.head()"
   ]
  },
  {
   "cell_type": "markdown",
   "metadata": {},
   "source": [
    "# Median Household Income Data"
   ]
  },
  {
   "cell_type": "code",
   "execution_count": 82,
   "metadata": {},
   "outputs": [
    {
     "data": {
      "text/html": [
       "<div>\n",
       "<style>\n",
       "    .dataframe thead tr:only-child th {\n",
       "        text-align: right;\n",
       "    }\n",
       "\n",
       "    .dataframe thead th {\n",
       "        text-align: left;\n",
       "    }\n",
       "\n",
       "    .dataframe tbody tr th {\n",
       "        vertical-align: top;\n",
       "    }\n",
       "</style>\n",
       "<table border=\"1\" class=\"dataframe\">\n",
       "  <thead>\n",
       "    <tr style=\"text-align: right;\">\n",
       "      <th></th>\n",
       "      <th>zipcode</th>\n",
       "      <th>Median household income</th>\n",
       "    </tr>\n",
       "  </thead>\n",
       "  <tbody>\n",
       "    <tr>\n",
       "      <th>0</th>\n",
       "      <td>78726</td>\n",
       "      <td>66096.0</td>\n",
       "    </tr>\n",
       "    <tr>\n",
       "      <th>1</th>\n",
       "      <td>78724</td>\n",
       "      <td>35711.0</td>\n",
       "    </tr>\n",
       "    <tr>\n",
       "      <th>2</th>\n",
       "      <td>78617</td>\n",
       "      <td>43957.0</td>\n",
       "    </tr>\n",
       "    <tr>\n",
       "      <th>3</th>\n",
       "      <td>78701</td>\n",
       "      <td>68152.0</td>\n",
       "    </tr>\n",
       "    <tr>\n",
       "      <th>4</th>\n",
       "      <td>78702</td>\n",
       "      <td>34734.0</td>\n",
       "    </tr>\n",
       "  </tbody>\n",
       "</table>\n",
       "</div>"
      ],
      "text/plain": [
       "   zipcode  Median household income\n",
       "0    78726                  66096.0\n",
       "1    78724                  35711.0\n",
       "2    78617                  43957.0\n",
       "3    78701                  68152.0\n",
       "4    78702                  34734.0"
      ]
     },
     "execution_count": 82,
     "metadata": {},
     "output_type": "execute_result"
    }
   ],
   "source": [
    "austin_income_df = pd.read_csv('2014_Housing_Market_Analysis_Data_by_Zip_Code.csv',low_memory=False)\n",
    "austin_income_df = austin_income_df[[\"Zip Code\", \"Median household income\"]]\n",
    "cleanaustin_df = austin_income_df.dropna(how=\"any\")\n",
    "cleanaustin_df[\"Zip Code\"] = cleanaustin_df[\"Zip Code\"].astype(int)\n",
    "cleanaustin_df[\"Median household income\"] = cleanaustin_df[\"Median household income\"].replace( '[\\$,)]', '', regex=True).astype(float)\n",
    "cleanaustin = cleanaustin_df.rename(columns={\"Zip Code\":\"zipcode\"})\n",
    "cleanaustin.head()"
   ]
  },
  {
   "cell_type": "markdown",
   "metadata": {},
   "source": [
    "# Population by Zip Code Data"
   ]
  },
  {
   "cell_type": "code",
   "execution_count": 83,
   "metadata": {},
   "outputs": [
    {
     "data": {
      "text/html": [
       "<div>\n",
       "<style>\n",
       "    .dataframe thead tr:only-child th {\n",
       "        text-align: right;\n",
       "    }\n",
       "\n",
       "    .dataframe thead th {\n",
       "        text-align: left;\n",
       "    }\n",
       "\n",
       "    .dataframe tbody tr th {\n",
       "        vertical-align: top;\n",
       "    }\n",
       "</style>\n",
       "<table border=\"1\" class=\"dataframe\">\n",
       "  <thead>\n",
       "    <tr style=\"text-align: right;\">\n",
       "      <th></th>\n",
       "      <th>zipcode</th>\n",
       "      <th>Population</th>\n",
       "    </tr>\n",
       "  </thead>\n",
       "  <tbody>\n",
       "    <tr>\n",
       "      <th>0</th>\n",
       "      <td>78660</td>\n",
       "      <td>68789.0</td>\n",
       "    </tr>\n",
       "    <tr>\n",
       "      <th>1</th>\n",
       "      <td>78613</td>\n",
       "      <td>65099.0</td>\n",
       "    </tr>\n",
       "    <tr>\n",
       "      <th>2</th>\n",
       "      <td>78666</td>\n",
       "      <td>63836.0</td>\n",
       "    </tr>\n",
       "    <tr>\n",
       "      <th>3</th>\n",
       "      <td>78745</td>\n",
       "      <td>55614.0</td>\n",
       "    </tr>\n",
       "    <tr>\n",
       "      <th>4</th>\n",
       "      <td>78664</td>\n",
       "      <td>52932.0</td>\n",
       "    </tr>\n",
       "  </tbody>\n",
       "</table>\n",
       "</div>"
      ],
      "text/plain": [
       "   zipcode  Population\n",
       "0    78660     68789.0\n",
       "1    78613     65099.0\n",
       "2    78666     63836.0\n",
       "3    78745     55614.0\n",
       "4    78664     52932.0"
      ]
     },
     "execution_count": 83,
     "metadata": {},
     "output_type": "execute_result"
    }
   ],
   "source": [
    "austin_population_df = pd.read_csv('zips_population.csv',low_memory=False)\n",
    "austin_population_df[\"Zip\"] = austin_population_df[\"Zip\"].astype(int)\n",
    "austin_population_df[\"Population\"] = austin_population_df[\"Population\"].str.replace(\",\", \"\").astype(float)\n",
    "austin_population = austin_population_df.rename(columns={\"Zip\":\"zipcode\"})\n",
    "austin_population.head()"
   ]
  },
  {
   "cell_type": "code",
   "execution_count": 84,
   "metadata": {},
   "outputs": [
    {
     "data": {
      "text/html": [
       "<div>\n",
       "<style>\n",
       "    .dataframe thead tr:only-child th {\n",
       "        text-align: right;\n",
       "    }\n",
       "\n",
       "    .dataframe thead th {\n",
       "        text-align: left;\n",
       "    }\n",
       "\n",
       "    .dataframe tbody tr th {\n",
       "        vertical-align: top;\n",
       "    }\n",
       "</style>\n",
       "<table border=\"1\" class=\"dataframe\">\n",
       "  <thead>\n",
       "    <tr style=\"text-align: right;\">\n",
       "      <th></th>\n",
       "      <th>zipcode</th>\n",
       "      <th>Median household income</th>\n",
       "      <th>Population</th>\n",
       "    </tr>\n",
       "  </thead>\n",
       "  <tbody>\n",
       "    <tr>\n",
       "      <th>0</th>\n",
       "      <td>78726</td>\n",
       "      <td>66096.0</td>\n",
       "      <td>13122.0</td>\n",
       "    </tr>\n",
       "    <tr>\n",
       "      <th>1</th>\n",
       "      <td>78724</td>\n",
       "      <td>35711.0</td>\n",
       "      <td>21696.0</td>\n",
       "    </tr>\n",
       "    <tr>\n",
       "      <th>2</th>\n",
       "      <td>78617</td>\n",
       "      <td>43957.0</td>\n",
       "      <td>22210.0</td>\n",
       "    </tr>\n",
       "    <tr>\n",
       "      <th>3</th>\n",
       "      <td>78701</td>\n",
       "      <td>68152.0</td>\n",
       "      <td>6841.0</td>\n",
       "    </tr>\n",
       "    <tr>\n",
       "      <th>4</th>\n",
       "      <td>78702</td>\n",
       "      <td>34734.0</td>\n",
       "      <td>21334.0</td>\n",
       "    </tr>\n",
       "  </tbody>\n",
       "</table>\n",
       "</div>"
      ],
      "text/plain": [
       "   zipcode  Median household income  Population\n",
       "0    78726                  66096.0     13122.0\n",
       "1    78724                  35711.0     21696.0\n",
       "2    78617                  43957.0     22210.0\n",
       "3    78701                  68152.0      6841.0\n",
       "4    78702                  34734.0     21334.0"
      ]
     },
     "execution_count": 84,
     "metadata": {},
     "output_type": "execute_result"
    }
   ],
   "source": [
    "#Merge median household income and population data\n",
    "zip_income_population = pd.merge(cleanaustin, austin_population, on=\"zipcode\", how=\"left\")\n",
    "zip_income_population.head()"
   ]
  },
  {
   "cell_type": "code",
   "execution_count": 85,
   "metadata": {},
   "outputs": [
    {
     "name": "stdout",
     "output_type": "stream",
     "text": [
      "    zipcode  call_count\n",
      "0     78610          31\n",
      "1     78613          10\n",
      "2     78617        3276\n",
      "3     78620           1\n",
      "4     78621           1\n",
      "5     78641          28\n",
      "6     78645           1\n",
      "7     78652         346\n",
      "8     78653         555\n",
      "9     78660        1696\n",
      "10    78669           6\n",
      "11    78701       16404\n",
      "12    78702       25203\n",
      "13    78703       16460\n",
      "14    78704       29674\n",
      "15    78705       12989\n",
      "16    78712         412\n",
      "17    78717           2\n",
      "18    78719         619\n",
      "19    78721       10030\n",
      "20    78722        5386\n",
      "21    78723       21723\n",
      "22    78724        9734\n",
      "23    78725        1839\n",
      "24    78726        2235\n",
      "25    78727        8245\n",
      "26    78728        1549\n",
      "27    78729         563\n",
      "28    78730        1760\n",
      "29    78731       13582\n",
      "30    78732        1081\n",
      "31    78733         608\n",
      "32    78734         950\n",
      "33    78735        4840\n",
      "34    78736        2067\n",
      "35    78737         266\n",
      "36    78738         184\n",
      "37    78739        5581\n",
      "38    78741       19115\n",
      "39    78742         836\n",
      "40    78744       22108\n",
      "41    78745       31381\n",
      "42    78746        6872\n",
      "43    78747        4702\n",
      "44    78748       16256\n",
      "45    78749       13815\n",
      "46    78750        4236\n",
      "47    78751       11622\n",
      "48    78752        8610\n",
      "49    78753       19572\n",
      "50    78754        6127\n",
      "51    78756        6620\n",
      "52    78757       14883\n",
      "53    78758       21741\n",
      "54    78759       14406\n",
      "55    79739          13\n"
     ]
    },
    {
     "name": "stderr",
     "output_type": "stream",
     "text": [
      "C:\\Users\\mraig\\Anaconda3\\lib\\site-packages\\ipykernel_launcher.py:2: SettingWithCopyWarning: \n",
      "A value is trying to be set on a copy of a slice from a DataFrame.\n",
      "Try using .loc[row_indexer,col_indexer] = value instead\n",
      "\n",
      "See the caveats in the documentation: http://pandas.pydata.org/pandas-docs/stable/indexing.html#indexing-view-versus-copy\n",
      "  \n"
     ]
    }
   ],
   "source": [
    "#Group call count by zip code\n",
    "austin311_df[\"call_count\"] = 1\n",
    "austin311_zip_group = austin311_df.groupby([\"Incident Zip\"], as_index = 'False')\n",
    "zip_group_calls = austin311_zip_group[\"call_count\"].sum().reset_index('Incident Zip')\n",
    "zip_group_calls_clean = zip_group_calls.rename(columns={\"Incident Zip\":\"zipcode\"})\n",
    "print (zip_group_calls_clean)"
   ]
  },
  {
   "cell_type": "code",
   "execution_count": 86,
   "metadata": {},
   "outputs": [
    {
     "data": {
      "text/html": [
       "<div>\n",
       "<style>\n",
       "    .dataframe thead tr:only-child th {\n",
       "        text-align: right;\n",
       "    }\n",
       "\n",
       "    .dataframe thead th {\n",
       "        text-align: left;\n",
       "    }\n",
       "\n",
       "    .dataframe tbody tr th {\n",
       "        vertical-align: top;\n",
       "    }\n",
       "</style>\n",
       "<table border=\"1\" class=\"dataframe\">\n",
       "  <thead>\n",
       "    <tr style=\"text-align: right;\">\n",
       "      <th></th>\n",
       "      <th>zipcode</th>\n",
       "      <th>Median household income</th>\n",
       "      <th>Population</th>\n",
       "      <th>call_count</th>\n",
       "    </tr>\n",
       "  </thead>\n",
       "  <tbody>\n",
       "    <tr>\n",
       "      <th>0</th>\n",
       "      <td>78726</td>\n",
       "      <td>66096.0</td>\n",
       "      <td>13122.0</td>\n",
       "      <td>2235</td>\n",
       "    </tr>\n",
       "    <tr>\n",
       "      <th>1</th>\n",
       "      <td>78724</td>\n",
       "      <td>35711.0</td>\n",
       "      <td>21696.0</td>\n",
       "      <td>9734</td>\n",
       "    </tr>\n",
       "    <tr>\n",
       "      <th>2</th>\n",
       "      <td>78617</td>\n",
       "      <td>43957.0</td>\n",
       "      <td>22210.0</td>\n",
       "      <td>3276</td>\n",
       "    </tr>\n",
       "    <tr>\n",
       "      <th>3</th>\n",
       "      <td>78701</td>\n",
       "      <td>68152.0</td>\n",
       "      <td>6841.0</td>\n",
       "      <td>16404</td>\n",
       "    </tr>\n",
       "    <tr>\n",
       "      <th>4</th>\n",
       "      <td>78702</td>\n",
       "      <td>34734.0</td>\n",
       "      <td>21334.0</td>\n",
       "      <td>25203</td>\n",
       "    </tr>\n",
       "  </tbody>\n",
       "</table>\n",
       "</div>"
      ],
      "text/plain": [
       "   zipcode  Median household income  Population  call_count\n",
       "0    78726                  66096.0     13122.0        2235\n",
       "1    78724                  35711.0     21696.0        9734\n",
       "2    78617                  43957.0     22210.0        3276\n",
       "3    78701                  68152.0      6841.0       16404\n",
       "4    78702                  34734.0     21334.0       25203"
      ]
     },
     "execution_count": 86,
     "metadata": {},
     "output_type": "execute_result"
    }
   ],
   "source": [
    "#Merge grouped call count by zip with median household income and population data\n",
    "zip_income_population_calls = pd.merge(zip_income_population, zip_group_calls_clean, on=\"zipcode\", how=\"left\")\n",
    "zip_income_population_calls.head()"
   ]
  },
  {
   "cell_type": "code",
   "execution_count": 87,
   "metadata": {},
   "outputs": [
    {
     "data": {
      "text/plain": [
       "0      Between $50k to $75k\n",
       "1            Less than $50k\n",
       "2            Less than $50k\n",
       "3      Between $50k to $75k\n",
       "4            Less than $50k\n",
       "5     Between $75k to $100k\n",
       "6      Between $50k to $75k\n",
       "7            Less than $50k\n",
       "8     Between $75k to $100k\n",
       "9            Less than $50k\n",
       "10           Less than $50k\n",
       "11           Less than $50k\n",
       "12     Between $50k to $75k\n",
       "13           Less than $50k\n",
       "14     Between $50k to $75k\n",
       "15               Over $100k\n",
       "16    Between $75k to $100k\n",
       "17               Over $100k\n",
       "18     Between $50k to $75k\n",
       "19               Over $100k\n",
       "20           Less than $50k\n",
       "21           Less than $50k\n",
       "22           Less than $50k\n",
       "23           Less than $50k\n",
       "24               Over $100k\n",
       "25     Between $50k to $75k\n",
       "26    Between $75k to $100k\n",
       "27    Between $75k to $100k\n",
       "28           Less than $50k\n",
       "29           Less than $50k\n",
       "30           Less than $50k\n",
       "31     Between $50k to $75k\n",
       "32     Between $50k to $75k\n",
       "33     Between $50k to $75k\n",
       "34           Less than $50k\n",
       "35     Between $50k to $75k\n",
       "Name: Median household income, dtype: category\n",
       "Categories (4, object): [Less than $50k < Between $50k to $75k < Between $75k to $100k < Over $100k]"
      ]
     },
     "execution_count": 87,
     "metadata": {},
     "output_type": "execute_result"
    }
   ],
   "source": [
    "#Create bins for median household income groups\n",
    "bins = [0, 50000, 75000, 100000, 1000000]\n",
    "income_groups = [\"Less than $50k\", \"Between $50k to $75k\", \"Between $75k to $100k\", \"Over $100k\"]\n",
    "pd.cut(zip_income_population_calls[\"Median household income\"], bins, labels=income_groups)"
   ]
  },
  {
   "cell_type": "code",
   "execution_count": 88,
   "metadata": {},
   "outputs": [
    {
     "data": {
      "text/html": [
       "<div>\n",
       "<style>\n",
       "    .dataframe thead tr:only-child th {\n",
       "        text-align: right;\n",
       "    }\n",
       "\n",
       "    .dataframe thead th {\n",
       "        text-align: left;\n",
       "    }\n",
       "\n",
       "    .dataframe tbody tr th {\n",
       "        vertical-align: top;\n",
       "    }\n",
       "</style>\n",
       "<table border=\"1\" class=\"dataframe\">\n",
       "  <thead>\n",
       "    <tr style=\"text-align: right;\">\n",
       "      <th></th>\n",
       "      <th>zipcode</th>\n",
       "      <th>Median household income</th>\n",
       "      <th>Population</th>\n",
       "      <th>call_count</th>\n",
       "      <th>income_group</th>\n",
       "    </tr>\n",
       "  </thead>\n",
       "  <tbody>\n",
       "    <tr>\n",
       "      <th>0</th>\n",
       "      <td>78726</td>\n",
       "      <td>66096.0</td>\n",
       "      <td>13122.0</td>\n",
       "      <td>2235</td>\n",
       "      <td>Between $50k to $75k</td>\n",
       "    </tr>\n",
       "    <tr>\n",
       "      <th>1</th>\n",
       "      <td>78724</td>\n",
       "      <td>35711.0</td>\n",
       "      <td>21696.0</td>\n",
       "      <td>9734</td>\n",
       "      <td>Less than $50k</td>\n",
       "    </tr>\n",
       "    <tr>\n",
       "      <th>2</th>\n",
       "      <td>78617</td>\n",
       "      <td>43957.0</td>\n",
       "      <td>22210.0</td>\n",
       "      <td>3276</td>\n",
       "      <td>Less than $50k</td>\n",
       "    </tr>\n",
       "    <tr>\n",
       "      <th>3</th>\n",
       "      <td>78701</td>\n",
       "      <td>68152.0</td>\n",
       "      <td>6841.0</td>\n",
       "      <td>16404</td>\n",
       "      <td>Between $50k to $75k</td>\n",
       "    </tr>\n",
       "    <tr>\n",
       "      <th>4</th>\n",
       "      <td>78702</td>\n",
       "      <td>34734.0</td>\n",
       "      <td>21334.0</td>\n",
       "      <td>25203</td>\n",
       "      <td>Less than $50k</td>\n",
       "    </tr>\n",
       "  </tbody>\n",
       "</table>\n",
       "</div>"
      ],
      "text/plain": [
       "   zipcode  Median household income  Population  call_count  \\\n",
       "0    78726                  66096.0     13122.0        2235   \n",
       "1    78724                  35711.0     21696.0        9734   \n",
       "2    78617                  43957.0     22210.0        3276   \n",
       "3    78701                  68152.0      6841.0       16404   \n",
       "4    78702                  34734.0     21334.0       25203   \n",
       "\n",
       "           income_group  \n",
       "0  Between $50k to $75k  \n",
       "1        Less than $50k  \n",
       "2        Less than $50k  \n",
       "3  Between $50k to $75k  \n",
       "4        Less than $50k  "
      ]
     },
     "execution_count": 88,
     "metadata": {},
     "output_type": "execute_result"
    }
   ],
   "source": [
    "#Cut bins on working file\n",
    "zip_income_population_calls[\"income_group\"] = pd.cut(zip_income_population_calls[\"Median household income\"], bins, labels=income_groups)\n",
    "zip_income_population_calls.head()"
   ]
  },
  {
   "cell_type": "code",
   "execution_count": 89,
   "metadata": {},
   "outputs": [
    {
     "data": {
      "text/html": [
       "<div>\n",
       "<style>\n",
       "    .dataframe thead tr:only-child th {\n",
       "        text-align: right;\n",
       "    }\n",
       "\n",
       "    .dataframe thead th {\n",
       "        text-align: left;\n",
       "    }\n",
       "\n",
       "    .dataframe tbody tr th {\n",
       "        vertical-align: top;\n",
       "    }\n",
       "</style>\n",
       "<table border=\"1\" class=\"dataframe\">\n",
       "  <thead>\n",
       "    <tr style=\"text-align: right;\">\n",
       "      <th></th>\n",
       "      <th>zipcode</th>\n",
       "      <th>Median household income</th>\n",
       "      <th>Population</th>\n",
       "      <th>call_count</th>\n",
       "      <th>income_group</th>\n",
       "      <th>call_per_capita</th>\n",
       "    </tr>\n",
       "  </thead>\n",
       "  <tbody>\n",
       "    <tr>\n",
       "      <th>0</th>\n",
       "      <td>78726</td>\n",
       "      <td>66096.0</td>\n",
       "      <td>13122.0</td>\n",
       "      <td>2235</td>\n",
       "      <td>Between $50k to $75k</td>\n",
       "      <td>0.170325</td>\n",
       "    </tr>\n",
       "    <tr>\n",
       "      <th>1</th>\n",
       "      <td>78724</td>\n",
       "      <td>35711.0</td>\n",
       "      <td>21696.0</td>\n",
       "      <td>9734</td>\n",
       "      <td>Less than $50k</td>\n",
       "      <td>0.448654</td>\n",
       "    </tr>\n",
       "    <tr>\n",
       "      <th>2</th>\n",
       "      <td>78617</td>\n",
       "      <td>43957.0</td>\n",
       "      <td>22210.0</td>\n",
       "      <td>3276</td>\n",
       "      <td>Less than $50k</td>\n",
       "      <td>0.147501</td>\n",
       "    </tr>\n",
       "    <tr>\n",
       "      <th>3</th>\n",
       "      <td>78701</td>\n",
       "      <td>68152.0</td>\n",
       "      <td>6841.0</td>\n",
       "      <td>16404</td>\n",
       "      <td>Between $50k to $75k</td>\n",
       "      <td>2.397895</td>\n",
       "    </tr>\n",
       "    <tr>\n",
       "      <th>4</th>\n",
       "      <td>78702</td>\n",
       "      <td>34734.0</td>\n",
       "      <td>21334.0</td>\n",
       "      <td>25203</td>\n",
       "      <td>Less than $50k</td>\n",
       "      <td>1.181354</td>\n",
       "    </tr>\n",
       "  </tbody>\n",
       "</table>\n",
       "</div>"
      ],
      "text/plain": [
       "   zipcode  Median household income  Population  call_count  \\\n",
       "0    78726                  66096.0     13122.0        2235   \n",
       "1    78724                  35711.0     21696.0        9734   \n",
       "2    78617                  43957.0     22210.0        3276   \n",
       "3    78701                  68152.0      6841.0       16404   \n",
       "4    78702                  34734.0     21334.0       25203   \n",
       "\n",
       "           income_group  call_per_capita  \n",
       "0  Between $50k to $75k         0.170325  \n",
       "1        Less than $50k         0.448654  \n",
       "2        Less than $50k         0.147501  \n",
       "3  Between $50k to $75k         2.397895  \n",
       "4        Less than $50k         1.181354  "
      ]
     },
     "execution_count": 89,
     "metadata": {},
     "output_type": "execute_result"
    }
   ],
   "source": [
    "#Calculate calls per capita by zip code\n",
    "zip_income_population_calls[\"call_per_capita\"] = zip_income_population_calls[\"call_count\"]/zip_income_population_calls[\"Population\"]\n",
    "zip_income_population_calls.head()"
   ]
  },
  {
   "cell_type": "code",
   "execution_count": 90,
   "metadata": {
    "collapsed": true
   },
   "outputs": [],
   "source": [
    "#Create data frame for each median household income group\n",
    "income_group1 = zip_income_population_calls.loc[zip_income_population_calls[\"income_group\"] == \"Less than $50k\",:]\n",
    "income_group2 = zip_income_population_calls.loc[zip_income_population_calls[\"income_group\"] == \"Between $50k to $75k\",:]\n",
    "income_group3 = zip_income_population_calls.loc[zip_income_population_calls[\"income_group\"] == \"Between $75k to $100k\",:]\n",
    "income_group4 = zip_income_population_calls.loc[zip_income_population_calls[\"income_group\"] == \"Over $100k\",:]"
   ]
  },
  {
   "cell_type": "code",
   "execution_count": 91,
   "metadata": {
    "collapsed": true
   },
   "outputs": [],
   "source": [
    "#Sort data frames to identify highest call per capita zip code in each median household income group\n",
    "income_group1_sort = income_group1.sort_values(\"call_per_capita\", ascending=False)\n",
    "income_group2_sort = income_group2.sort_values(\"call_per_capita\", ascending=False)\n",
    "income_group3_sort = income_group3.sort_values(\"call_per_capita\", ascending=False)\n",
    "income_group4_sort = income_group4.sort_values(\"call_per_capita\", ascending=False)"
   ]
  },
  {
   "cell_type": "code",
   "execution_count": 92,
   "metadata": {},
   "outputs": [
    {
     "data": {
      "text/html": [
       "<div>\n",
       "<style>\n",
       "    .dataframe thead tr:only-child th {\n",
       "        text-align: right;\n",
       "    }\n",
       "\n",
       "    .dataframe thead th {\n",
       "        text-align: left;\n",
       "    }\n",
       "\n",
       "    .dataframe tbody tr th {\n",
       "        vertical-align: top;\n",
       "    }\n",
       "</style>\n",
       "<table border=\"1\" class=\"dataframe\">\n",
       "  <thead>\n",
       "    <tr style=\"text-align: right;\">\n",
       "      <th></th>\n",
       "      <th>zipcode</th>\n",
       "      <th>Median household income</th>\n",
       "      <th>Population</th>\n",
       "      <th>call_count</th>\n",
       "      <th>income_group</th>\n",
       "      <th>call_per_capita</th>\n",
       "    </tr>\n",
       "  </thead>\n",
       "  <tbody>\n",
       "    <tr>\n",
       "      <th>4</th>\n",
       "      <td>78702</td>\n",
       "      <td>34734.0</td>\n",
       "      <td>21334.0</td>\n",
       "      <td>25203</td>\n",
       "      <td>Less than $50k</td>\n",
       "      <td>1.181354</td>\n",
       "    </tr>\n",
       "  </tbody>\n",
       "</table>\n",
       "</div>"
      ],
      "text/plain": [
       "   zipcode  Median household income  Population  call_count    income_group  \\\n",
       "4    78702                  34734.0     21334.0       25203  Less than $50k   \n",
       "\n",
       "   call_per_capita  \n",
       "4         1.181354  "
      ]
     },
     "execution_count": 92,
     "metadata": {},
     "output_type": "execute_result"
    }
   ],
   "source": [
    "#Identify highest zip code in group1\n",
    "income_group1_sort.head(1)"
   ]
  },
  {
   "cell_type": "code",
   "execution_count": 93,
   "metadata": {},
   "outputs": [
    {
     "data": {
      "text/html": [
       "<div>\n",
       "<style>\n",
       "    .dataframe thead tr:only-child th {\n",
       "        text-align: right;\n",
       "    }\n",
       "\n",
       "    .dataframe thead th {\n",
       "        text-align: left;\n",
       "    }\n",
       "\n",
       "    .dataframe tbody tr th {\n",
       "        vertical-align: top;\n",
       "    }\n",
       "</style>\n",
       "<table border=\"1\" class=\"dataframe\">\n",
       "  <thead>\n",
       "    <tr style=\"text-align: right;\">\n",
       "      <th></th>\n",
       "      <th>zipcode</th>\n",
       "      <th>Median household income</th>\n",
       "      <th>Population</th>\n",
       "      <th>call_count</th>\n",
       "      <th>income_group</th>\n",
       "      <th>call_per_capita</th>\n",
       "    </tr>\n",
       "  </thead>\n",
       "  <tbody>\n",
       "    <tr>\n",
       "      <th>3</th>\n",
       "      <td>78701</td>\n",
       "      <td>68152.0</td>\n",
       "      <td>6841.0</td>\n",
       "      <td>16404</td>\n",
       "      <td>Between $50k to $75k</td>\n",
       "      <td>2.397895</td>\n",
       "    </tr>\n",
       "  </tbody>\n",
       "</table>\n",
       "</div>"
      ],
      "text/plain": [
       "   zipcode  Median household income  Population  call_count  \\\n",
       "3    78701                  68152.0      6841.0       16404   \n",
       "\n",
       "           income_group  call_per_capita  \n",
       "3  Between $50k to $75k         2.397895  "
      ]
     },
     "execution_count": 93,
     "metadata": {},
     "output_type": "execute_result"
    }
   ],
   "source": [
    "#Identify highest zip code in group2\n",
    "income_group2_sort.head(1)"
   ]
  },
  {
   "cell_type": "code",
   "execution_count": 94,
   "metadata": {},
   "outputs": [
    {
     "data": {
      "text/html": [
       "<div>\n",
       "<style>\n",
       "    .dataframe thead tr:only-child th {\n",
       "        text-align: right;\n",
       "    }\n",
       "\n",
       "    .dataframe thead th {\n",
       "        text-align: left;\n",
       "    }\n",
       "\n",
       "    .dataframe tbody tr th {\n",
       "        vertical-align: top;\n",
       "    }\n",
       "</style>\n",
       "<table border=\"1\" class=\"dataframe\">\n",
       "  <thead>\n",
       "    <tr style=\"text-align: right;\">\n",
       "      <th></th>\n",
       "      <th>zipcode</th>\n",
       "      <th>Median household income</th>\n",
       "      <th>Population</th>\n",
       "      <th>call_count</th>\n",
       "      <th>income_group</th>\n",
       "      <th>call_per_capita</th>\n",
       "    </tr>\n",
       "  </thead>\n",
       "  <tbody>\n",
       "    <tr>\n",
       "      <th>5</th>\n",
       "      <td>78703</td>\n",
       "      <td>92606.0</td>\n",
       "      <td>19690.0</td>\n",
       "      <td>16460</td>\n",
       "      <td>Between $75k to $100k</td>\n",
       "      <td>0.835957</td>\n",
       "    </tr>\n",
       "  </tbody>\n",
       "</table>\n",
       "</div>"
      ],
      "text/plain": [
       "   zipcode  Median household income  Population  call_count  \\\n",
       "5    78703                  92606.0     19690.0       16460   \n",
       "\n",
       "            income_group  call_per_capita  \n",
       "5  Between $75k to $100k         0.835957  "
      ]
     },
     "execution_count": 94,
     "metadata": {},
     "output_type": "execute_result"
    }
   ],
   "source": [
    "#Identify highest zip code in group3\n",
    "income_group3_sort.head(1)"
   ]
  },
  {
   "cell_type": "code",
   "execution_count": 95,
   "metadata": {},
   "outputs": [
    {
     "data": {
      "text/html": [
       "<div>\n",
       "<style>\n",
       "    .dataframe thead tr:only-child th {\n",
       "        text-align: right;\n",
       "    }\n",
       "\n",
       "    .dataframe thead th {\n",
       "        text-align: left;\n",
       "    }\n",
       "\n",
       "    .dataframe tbody tr th {\n",
       "        vertical-align: top;\n",
       "    }\n",
       "</style>\n",
       "<table border=\"1\" class=\"dataframe\">\n",
       "  <thead>\n",
       "    <tr style=\"text-align: right;\">\n",
       "      <th></th>\n",
       "      <th>zipcode</th>\n",
       "      <th>Median household income</th>\n",
       "      <th>Population</th>\n",
       "      <th>call_count</th>\n",
       "      <th>income_group</th>\n",
       "      <th>call_per_capita</th>\n",
       "    </tr>\n",
       "  </thead>\n",
       "  <tbody>\n",
       "    <tr>\n",
       "      <th>19</th>\n",
       "      <td>78739</td>\n",
       "      <td>126525.0</td>\n",
       "      <td>16792.0</td>\n",
       "      <td>5581</td>\n",
       "      <td>Over $100k</td>\n",
       "      <td>0.332361</td>\n",
       "    </tr>\n",
       "  </tbody>\n",
       "</table>\n",
       "</div>"
      ],
      "text/plain": [
       "    zipcode  Median household income  Population  call_count income_group  \\\n",
       "19    78739                 126525.0     16792.0        5581   Over $100k   \n",
       "\n",
       "    call_per_capita  \n",
       "19         0.332361  "
      ]
     },
     "execution_count": 95,
     "metadata": {},
     "output_type": "execute_result"
    }
   ],
   "source": [
    "#Identify highest zip code in group4\n",
    "income_group4_sort.head(1)"
   ]
  },
  {
   "cell_type": "code",
   "execution_count": 96,
   "metadata": {},
   "outputs": [
    {
     "name": "stdout",
     "output_type": "stream",
     "text": [
      "                                      Department  call_count\n",
      "0                         Animal Services Office       83959\n",
      "1                         Austin Code Department       77176\n",
      "15                                Transportation       73168\n",
      "4                       Austin Resource Recovery       62244\n",
      "14                                  Public Works       42411\n",
      "2                       Austin Energy Department       17450\n",
      "12                 Parks & Recreation Department       16114\n",
      "8                        Health & Human Services       13759\n",
      "7                Economic Development Department       12078\n",
      "6                           Austin Water Utility       10619\n",
      "16                          Watershed Protection        9021\n",
      "13                                 Public Health        3838\n",
      "5                                   Austin Water         781\n",
      "10  Neighborhood Housing & Community Development         120\n",
      "3                         Austin Fire Department          63\n",
      "9               Neighborhood Housing & Community          50\n",
      "11                Office of Emergency Management           1\n"
     ]
    }
   ],
   "source": [
    "#Identify highest call counts per department\n",
    "austin311_dept_group = austin311_df.groupby([\"Department\"], as_index = 'False')\n",
    "dept_group_calls = austin311_dept_group[\"call_count\"].sum().reset_index('Department')\n",
    "dept_group_calls_sort = dept_group_calls.sort_values(\"call_count\", ascending=False)\n",
    "print (dept_group_calls_sort)"
   ]
  },
  {
   "cell_type": "code",
   "execution_count": 97,
   "metadata": {},
   "outputs": [
    {
     "data": {
      "text/html": [
       "<div>\n",
       "<style>\n",
       "    .dataframe thead tr:only-child th {\n",
       "        text-align: right;\n",
       "    }\n",
       "\n",
       "    .dataframe thead th {\n",
       "        text-align: left;\n",
       "    }\n",
       "\n",
       "    .dataframe tbody tr th {\n",
       "        vertical-align: top;\n",
       "    }\n",
       "</style>\n",
       "<table border=\"1\" class=\"dataframe\">\n",
       "  <thead>\n",
       "    <tr style=\"text-align: right;\">\n",
       "      <th></th>\n",
       "      <th>City</th>\n",
       "      <th>County</th>\n",
       "      <th>Incident Zip</th>\n",
       "      <th>Date</th>\n",
       "      <th>Department</th>\n",
       "      <th>Complaint Description</th>\n",
       "      <th>Type of Complaint</th>\n",
       "      <th>call_count</th>\n",
       "    </tr>\n",
       "  </thead>\n",
       "  <tbody>\n",
       "    <tr>\n",
       "      <th>5</th>\n",
       "      <td>AUSTIN</td>\n",
       "      <td>TRAVIS</td>\n",
       "      <td>78702</td>\n",
       "      <td>6/20/2016 16:44</td>\n",
       "      <td>Animal Services Office</td>\n",
       "      <td>Animal - Proper Care</td>\n",
       "      <td>ACPROPER</td>\n",
       "      <td>1</td>\n",
       "    </tr>\n",
       "    <tr>\n",
       "      <th>12</th>\n",
       "      <td>AUSTIN</td>\n",
       "      <td>TRAVIS</td>\n",
       "      <td>78702</td>\n",
       "      <td>3/9/2016 14:46</td>\n",
       "      <td>Public Works</td>\n",
       "      <td>Pavement Failure</td>\n",
       "      <td>SBPAVEFA</td>\n",
       "      <td>1</td>\n",
       "    </tr>\n",
       "    <tr>\n",
       "      <th>13</th>\n",
       "      <td>AUSTIN</td>\n",
       "      <td>TRAVIS</td>\n",
       "      <td>78701</td>\n",
       "      <td>8/17/2016 11:46</td>\n",
       "      <td>Austin Code Department</td>\n",
       "      <td>Austin Code - Request Code Officer</td>\n",
       "      <td>CODECOMP</td>\n",
       "      <td>1</td>\n",
       "    </tr>\n",
       "    <tr>\n",
       "      <th>14</th>\n",
       "      <td>AUSTIN</td>\n",
       "      <td>TRAVIS</td>\n",
       "      <td>78702</td>\n",
       "      <td>5/15/2014 10:13</td>\n",
       "      <td>Transportation</td>\n",
       "      <td>Sign - Traffic Sign Emergency</td>\n",
       "      <td>SIGNTRAF</td>\n",
       "      <td>1</td>\n",
       "    </tr>\n",
       "    <tr>\n",
       "      <th>24</th>\n",
       "      <td>AUSTIN</td>\n",
       "      <td>TRAVIS</td>\n",
       "      <td>78702</td>\n",
       "      <td>3/31/2017 16:02</td>\n",
       "      <td>Animal Services Office</td>\n",
       "      <td>Injured / Sick Animal</td>\n",
       "      <td>COAACINJ</td>\n",
       "      <td>1</td>\n",
       "    </tr>\n",
       "  </tbody>\n",
       "</table>\n",
       "</div>"
      ],
      "text/plain": [
       "      City  County  Incident Zip             Date              Department  \\\n",
       "5   AUSTIN  TRAVIS         78702  6/20/2016 16:44  Animal Services Office   \n",
       "12  AUSTIN  TRAVIS         78702   3/9/2016 14:46            Public Works   \n",
       "13  AUSTIN  TRAVIS         78701  8/17/2016 11:46  Austin Code Department   \n",
       "14  AUSTIN  TRAVIS         78702  5/15/2014 10:13          Transportation   \n",
       "24  AUSTIN  TRAVIS         78702  3/31/2017 16:02  Animal Services Office   \n",
       "\n",
       "                 Complaint Description Type of Complaint  call_count  \n",
       "5                 Animal - Proper Care          ACPROPER           1  \n",
       "12                    Pavement Failure          SBPAVEFA           1  \n",
       "13  Austin Code - Request Code Officer          CODECOMP           1  \n",
       "14       Sign - Traffic Sign Emergency          SIGNTRAF           1  \n",
       "24               Injured / Sick Animal          COAACINJ           1  "
      ]
     },
     "execution_count": 97,
     "metadata": {},
     "output_type": "execute_result"
    }
   ],
   "source": [
    "#Filter data for top five departments and four selected zip codes\n",
    "depts_filtered = austin311_df.loc[(austin311_df[\"Department\"] == \"Animal Services Office\") | (austin311_df[\"Department\"] == \"Austin Code Department\") | (austin311_df[\"Department\"] == \"Public Works\") | (austin311_df[\"Department\"] == \"Transportation\") | (austin311_df[\"Department\"] == \"Austin Resource Recovery\"), :]\n",
    "depts_zip_filtered = depts_filtered.loc[(depts_filtered[\"Incident Zip\"] == 78739) | (depts_filtered[\"Incident Zip\"] == 78701) | (depts_filtered[\"Incident Zip\"] == 78702) | (depts_filtered[\"Incident Zip\"] == 78703), :]\n",
    "depts_zip_filtered.head()"
   ]
  },
  {
   "cell_type": "code",
   "execution_count": 98,
   "metadata": {},
   "outputs": [
    {
     "data": {
      "text/html": [
       "<div>\n",
       "<style>\n",
       "    .dataframe thead tr:only-child th {\n",
       "        text-align: right;\n",
       "    }\n",
       "\n",
       "    .dataframe thead th {\n",
       "        text-align: left;\n",
       "    }\n",
       "\n",
       "    .dataframe tbody tr th {\n",
       "        vertical-align: top;\n",
       "    }\n",
       "</style>\n",
       "<table border=\"1\" class=\"dataframe\">\n",
       "  <thead>\n",
       "    <tr style=\"text-align: right;\">\n",
       "      <th></th>\n",
       "      <th>Incident Zip</th>\n",
       "      <th>call_count</th>\n",
       "    </tr>\n",
       "  </thead>\n",
       "  <tbody>\n",
       "    <tr>\n",
       "      <th>0</th>\n",
       "      <td>78701</td>\n",
       "      <td>12494</td>\n",
       "    </tr>\n",
       "    <tr>\n",
       "      <th>1</th>\n",
       "      <td>78702</td>\n",
       "      <td>19508</td>\n",
       "    </tr>\n",
       "    <tr>\n",
       "      <th>2</th>\n",
       "      <td>78703</td>\n",
       "      <td>12193</td>\n",
       "    </tr>\n",
       "    <tr>\n",
       "      <th>3</th>\n",
       "      <td>78739</td>\n",
       "      <td>3178</td>\n",
       "    </tr>\n",
       "  </tbody>\n",
       "</table>\n",
       "</div>"
      ],
      "text/plain": [
       "   Incident Zip  call_count\n",
       "0         78701       12494\n",
       "1         78702       19508\n",
       "2         78703       12193\n",
       "3         78739        3178"
      ]
     },
     "execution_count": 98,
     "metadata": {},
     "output_type": "execute_result"
    }
   ],
   "source": [
    "#Assess call count per four selected zip codes\n",
    "total_plot_group = depts_zip_filtered.groupby([\"Incident Zip\"], as_index = 'False')\n",
    "total_plot_group_summary = total_plot_group[\"call_count\"].sum().reset_index('Incident Zip')\n",
    "total_plot_group_summary.head()"
   ]
  },
  {
   "cell_type": "code",
   "execution_count": 99,
   "metadata": {
    "collapsed": true
   },
   "outputs": [],
   "source": [
    "#Plotting dependencies\n",
    "import matplotlib.pyplot as plt\n",
    "import matplotlib.patches as mpatches\n",
    "from matplotlib import rc"
   ]
  },
  {
   "cell_type": "code",
   "execution_count": 100,
   "metadata": {
    "collapsed": true
   },
   "outputs": [],
   "source": [
    "#Create data frame for each department\n",
    "plot_group1 = depts_zip_filtered.loc[depts_zip_filtered[\"Department\"] == \"Animal Services Office\" ,:]\n",
    "plot_group2 = depts_zip_filtered.loc[depts_zip_filtered[\"Department\"] == \"Austin Code Department\" ,:]\n",
    "plot_group3 = depts_zip_filtered.loc[depts_zip_filtered[\"Department\"] == \"Transportation\" ,:]\n",
    "plot_group4 = depts_zip_filtered.loc[depts_zip_filtered[\"Department\"] == \"Austin Resource Recovery\" ,:]\n",
    "plot_group5 = depts_zip_filtered.loc[depts_zip_filtered[\"Department\"] == \"Public Works\" ,:]"
   ]
  },
  {
   "cell_type": "code",
   "execution_count": 101,
   "metadata": {
    "collapsed": true
   },
   "outputs": [],
   "source": [
    "#Group data frame for each department by four selected zip codes\n",
    "plot_group1_sum = plot_group1.groupby([\"Incident Zip\"], as_index = 'False')\n",
    "plot_group2_sum = plot_group2.groupby([\"Incident Zip\"], as_index = 'False')\n",
    "plot_group3_sum = plot_group3.groupby([\"Incident Zip\"], as_index = 'False')\n",
    "plot_group4_sum = plot_group4.groupby([\"Incident Zip\"], as_index = 'False')\n",
    "plot_group5_sum = plot_group5.groupby([\"Incident Zip\"], as_index = 'False')\n",
    "\n",
    "#Sum claim count per each zip code for each department data frame\n",
    "plot_group1_summary = plot_group1_sum[\"call_count\"].sum().reset_index('Incident Zip')\n",
    "plot_group2_summary = plot_group2_sum[\"call_count\"].sum().reset_index('Incident Zip')\n",
    "plot_group3_summary = plot_group3_sum[\"call_count\"].sum().reset_index('Incident Zip')\n",
    "plot_group4_summary = plot_group4_sum[\"call_count\"].sum().reset_index('Incident Zip')\n",
    "plot_group5_summary = plot_group5_sum[\"call_count\"].sum().reset_index('Incident Zip')"
   ]
  },
  {
   "cell_type": "code",
   "execution_count": 102,
   "metadata": {},
   "outputs": [
    {
     "data": {
      "text/html": [
       "<div>\n",
       "<style>\n",
       "    .dataframe thead tr:only-child th {\n",
       "        text-align: right;\n",
       "    }\n",
       "\n",
       "    .dataframe thead th {\n",
       "        text-align: left;\n",
       "    }\n",
       "\n",
       "    .dataframe tbody tr th {\n",
       "        vertical-align: top;\n",
       "    }\n",
       "</style>\n",
       "<table border=\"1\" class=\"dataframe\">\n",
       "  <thead>\n",
       "    <tr style=\"text-align: right;\">\n",
       "      <th></th>\n",
       "      <th>Incident Zip</th>\n",
       "      <th>call_count</th>\n",
       "    </tr>\n",
       "  </thead>\n",
       "  <tbody>\n",
       "    <tr>\n",
       "      <th>0</th>\n",
       "      <td>78701</td>\n",
       "      <td>1532</td>\n",
       "    </tr>\n",
       "    <tr>\n",
       "      <th>1</th>\n",
       "      <td>78702</td>\n",
       "      <td>4086</td>\n",
       "    </tr>\n",
       "    <tr>\n",
       "      <th>2</th>\n",
       "      <td>78703</td>\n",
       "      <td>1633</td>\n",
       "    </tr>\n",
       "    <tr>\n",
       "      <th>3</th>\n",
       "      <td>78739</td>\n",
       "      <td>674</td>\n",
       "    </tr>\n",
       "  </tbody>\n",
       "</table>\n",
       "</div>"
      ],
      "text/plain": [
       "   Incident Zip  call_count\n",
       "0         78701        1532\n",
       "1         78702        4086\n",
       "2         78703        1633\n",
       "3         78739         674"
      ]
     },
     "execution_count": 102,
     "metadata": {},
     "output_type": "execute_result"
    }
   ],
   "source": [
    "#View totals for department group1\n",
    "plot_group1_summary.head()"
   ]
  },
  {
   "cell_type": "code",
   "execution_count": 103,
   "metadata": {},
   "outputs": [
    {
     "data": {
      "text/html": [
       "<div>\n",
       "<style>\n",
       "    .dataframe thead tr:only-child th {\n",
       "        text-align: right;\n",
       "    }\n",
       "\n",
       "    .dataframe thead th {\n",
       "        text-align: left;\n",
       "    }\n",
       "\n",
       "    .dataframe tbody tr th {\n",
       "        vertical-align: top;\n",
       "    }\n",
       "</style>\n",
       "<table border=\"1\" class=\"dataframe\">\n",
       "  <thead>\n",
       "    <tr style=\"text-align: right;\">\n",
       "      <th></th>\n",
       "      <th>Incident Zip</th>\n",
       "      <th>call_count</th>\n",
       "    </tr>\n",
       "  </thead>\n",
       "  <tbody>\n",
       "    <tr>\n",
       "      <th>0</th>\n",
       "      <td>78701</td>\n",
       "      <td>1319</td>\n",
       "    </tr>\n",
       "    <tr>\n",
       "      <th>1</th>\n",
       "      <td>78702</td>\n",
       "      <td>5205</td>\n",
       "    </tr>\n",
       "    <tr>\n",
       "      <th>2</th>\n",
       "      <td>78703</td>\n",
       "      <td>2087</td>\n",
       "    </tr>\n",
       "    <tr>\n",
       "      <th>3</th>\n",
       "      <td>78739</td>\n",
       "      <td>174</td>\n",
       "    </tr>\n",
       "  </tbody>\n",
       "</table>\n",
       "</div>"
      ],
      "text/plain": [
       "   Incident Zip  call_count\n",
       "0         78701        1319\n",
       "1         78702        5205\n",
       "2         78703        2087\n",
       "3         78739         174"
      ]
     },
     "execution_count": 103,
     "metadata": {},
     "output_type": "execute_result"
    }
   ],
   "source": [
    "#View totals for department group2\n",
    "plot_group2_summary.head()"
   ]
  },
  {
   "cell_type": "code",
   "execution_count": 104,
   "metadata": {},
   "outputs": [
    {
     "data": {
      "text/html": [
       "<div>\n",
       "<style>\n",
       "    .dataframe thead tr:only-child th {\n",
       "        text-align: right;\n",
       "    }\n",
       "\n",
       "    .dataframe thead th {\n",
       "        text-align: left;\n",
       "    }\n",
       "\n",
       "    .dataframe tbody tr th {\n",
       "        vertical-align: top;\n",
       "    }\n",
       "</style>\n",
       "<table border=\"1\" class=\"dataframe\">\n",
       "  <thead>\n",
       "    <tr style=\"text-align: right;\">\n",
       "      <th></th>\n",
       "      <th>Incident Zip</th>\n",
       "      <th>call_count</th>\n",
       "    </tr>\n",
       "  </thead>\n",
       "  <tbody>\n",
       "    <tr>\n",
       "      <th>0</th>\n",
       "      <td>78701</td>\n",
       "      <td>7255</td>\n",
       "    </tr>\n",
       "    <tr>\n",
       "      <th>1</th>\n",
       "      <td>78702</td>\n",
       "      <td>3728</td>\n",
       "    </tr>\n",
       "    <tr>\n",
       "      <th>2</th>\n",
       "      <td>78703</td>\n",
       "      <td>3466</td>\n",
       "    </tr>\n",
       "    <tr>\n",
       "      <th>3</th>\n",
       "      <td>78739</td>\n",
       "      <td>519</td>\n",
       "    </tr>\n",
       "  </tbody>\n",
       "</table>\n",
       "</div>"
      ],
      "text/plain": [
       "   Incident Zip  call_count\n",
       "0         78701        7255\n",
       "1         78702        3728\n",
       "2         78703        3466\n",
       "3         78739         519"
      ]
     },
     "execution_count": 104,
     "metadata": {},
     "output_type": "execute_result"
    }
   ],
   "source": [
    "#View totals for department group3\n",
    "plot_group3_summary.head()"
   ]
  },
  {
   "cell_type": "code",
   "execution_count": 105,
   "metadata": {},
   "outputs": [
    {
     "data": {
      "text/html": [
       "<div>\n",
       "<style>\n",
       "    .dataframe thead tr:only-child th {\n",
       "        text-align: right;\n",
       "    }\n",
       "\n",
       "    .dataframe thead th {\n",
       "        text-align: left;\n",
       "    }\n",
       "\n",
       "    .dataframe tbody tr th {\n",
       "        vertical-align: top;\n",
       "    }\n",
       "</style>\n",
       "<table border=\"1\" class=\"dataframe\">\n",
       "  <thead>\n",
       "    <tr style=\"text-align: right;\">\n",
       "      <th></th>\n",
       "      <th>Incident Zip</th>\n",
       "      <th>call_count</th>\n",
       "    </tr>\n",
       "  </thead>\n",
       "  <tbody>\n",
       "    <tr>\n",
       "      <th>0</th>\n",
       "      <td>78701</td>\n",
       "      <td>522</td>\n",
       "    </tr>\n",
       "    <tr>\n",
       "      <th>1</th>\n",
       "      <td>78702</td>\n",
       "      <td>4015</td>\n",
       "    </tr>\n",
       "    <tr>\n",
       "      <th>2</th>\n",
       "      <td>78703</td>\n",
       "      <td>2539</td>\n",
       "    </tr>\n",
       "    <tr>\n",
       "      <th>3</th>\n",
       "      <td>78739</td>\n",
       "      <td>1475</td>\n",
       "    </tr>\n",
       "  </tbody>\n",
       "</table>\n",
       "</div>"
      ],
      "text/plain": [
       "   Incident Zip  call_count\n",
       "0         78701         522\n",
       "1         78702        4015\n",
       "2         78703        2539\n",
       "3         78739        1475"
      ]
     },
     "execution_count": 105,
     "metadata": {},
     "output_type": "execute_result"
    }
   ],
   "source": [
    "#View totals for department group4\n",
    "plot_group4_summary.head()"
   ]
  },
  {
   "cell_type": "code",
   "execution_count": 106,
   "metadata": {},
   "outputs": [
    {
     "data": {
      "text/html": [
       "<div>\n",
       "<style>\n",
       "    .dataframe thead tr:only-child th {\n",
       "        text-align: right;\n",
       "    }\n",
       "\n",
       "    .dataframe thead th {\n",
       "        text-align: left;\n",
       "    }\n",
       "\n",
       "    .dataframe tbody tr th {\n",
       "        vertical-align: top;\n",
       "    }\n",
       "</style>\n",
       "<table border=\"1\" class=\"dataframe\">\n",
       "  <thead>\n",
       "    <tr style=\"text-align: right;\">\n",
       "      <th></th>\n",
       "      <th>Incident Zip</th>\n",
       "      <th>call_count</th>\n",
       "    </tr>\n",
       "  </thead>\n",
       "  <tbody>\n",
       "    <tr>\n",
       "      <th>0</th>\n",
       "      <td>78701</td>\n",
       "      <td>1866</td>\n",
       "    </tr>\n",
       "    <tr>\n",
       "      <th>1</th>\n",
       "      <td>78702</td>\n",
       "      <td>2474</td>\n",
       "    </tr>\n",
       "    <tr>\n",
       "      <th>2</th>\n",
       "      <td>78703</td>\n",
       "      <td>2468</td>\n",
       "    </tr>\n",
       "    <tr>\n",
       "      <th>3</th>\n",
       "      <td>78739</td>\n",
       "      <td>336</td>\n",
       "    </tr>\n",
       "  </tbody>\n",
       "</table>\n",
       "</div>"
      ],
      "text/plain": [
       "   Incident Zip  call_count\n",
       "0         78701        1866\n",
       "1         78702        2474\n",
       "2         78703        2468\n",
       "3         78739         336"
      ]
     },
     "execution_count": 106,
     "metadata": {},
     "output_type": "execute_result"
    }
   ],
   "source": [
    "#View totals for department group5\n",
    "plot_group5_summary.head()"
   ]
  },
  {
   "cell_type": "code",
   "execution_count": 107,
   "metadata": {
    "collapsed": true
   },
   "outputs": [],
   "source": [
    "#Create percentile data\n",
    "totals = [i+j+k+l+m for i,j,k,l,m in zip(plot_group1_summary[\"call_count\"], plot_group2_summary[\"call_count\"], plot_group3_summary[\"call_count\"], plot_group4_summary[\"call_count\"], plot_group5_summary[\"call_count\"])]\n",
    "plot_group1_summary = [i / j * 100 for i,j in zip(plot_group1_summary[\"call_count\"], totals)]\n",
    "plot_group2_summary = [i / j * 100 for i,j in zip(plot_group2_summary[\"call_count\"], totals)]\n",
    "plot_group3_summary = [i / j * 100 for i,j in zip(plot_group3_summary[\"call_count\"], totals)]\n",
    "plot_group4_summary = [i / j * 100 for i,j in zip(plot_group4_summary[\"call_count\"], totals)]\n",
    "plot_group5_summary = [i / j * 100 for i,j in zip(plot_group5_summary[\"call_count\"], totals)]"
   ]
  },
  {
   "cell_type": "code",
   "execution_count": 108,
   "metadata": {},
   "outputs": [
    {
     "name": "stdout",
     "output_type": "stream",
     "text": [
      "[12494, 19508, 12193, 3178]\n"
     ]
    }
   ],
   "source": [
    "#View totals\n",
    "print(totals)"
   ]
  },
  {
   "cell_type": "code",
   "execution_count": 109,
   "metadata": {
    "collapsed": true
   },
   "outputs": [],
   "source": [
    "#Re-sort totals\n",
    "totals_sort = [19508, 12494, 12193, 3178]"
   ]
  },
  {
   "cell_type": "code",
   "execution_count": 110,
   "metadata": {},
   "outputs": [
    {
     "name": "stdout",
     "output_type": "stream",
     "text": [
      "[12.261885705138466, 20.945253229444329, 13.392930369884359, 21.208307111390813]\n"
     ]
    }
   ],
   "source": [
    "#View department group1\n",
    "print(plot_group1_summary)"
   ]
  },
  {
   "cell_type": "code",
   "execution_count": 111,
   "metadata": {
    "collapsed": true
   },
   "outputs": [],
   "source": [
    "#Re-sort department group1\n",
    "plot_group1b_summary = [20.945253229444329, 12.261885705138466, 13.392930369884359, 21.208307111390813]"
   ]
  },
  {
   "cell_type": "code",
   "execution_count": 112,
   "metadata": {},
   "outputs": [
    {
     "name": "stdout",
     "output_type": "stream",
     "text": [
      "[10.557067392348326, 26.681361492720935, 17.116378249815469, 5.4751415984896159]\n"
     ]
    }
   ],
   "source": [
    "#View department group2\n",
    "print(plot_group2_summary)"
   ]
  },
  {
   "cell_type": "code",
   "execution_count": 113,
   "metadata": {
    "collapsed": true
   },
   "outputs": [],
   "source": [
    "#Re-sort department group2\n",
    "plot_group2b_summary = [26.681361492720935, 10.557067392348326, 17.116378249815469, 5.4751415984896159]"
   ]
  },
  {
   "cell_type": "code",
   "execution_count": 114,
   "metadata": {},
   "outputs": [
    {
     "name": "stdout",
     "output_type": "stream",
     "text": [
      "[58.067872578837843, 19.110108673364774, 28.426146149429997, 16.331025802391441]\n"
     ]
    }
   ],
   "source": [
    "#View department group3\n",
    "print(plot_group3_summary)"
   ]
  },
  {
   "cell_type": "code",
   "execution_count": 115,
   "metadata": {
    "collapsed": true
   },
   "outputs": [],
   "source": [
    "#Re-sort department group3\n",
    "plot_group3b_summary = [19.110108673364774, 58.067872578837843, 28.426146149429997, 16.331025802391441]"
   ]
  },
  {
   "cell_type": "code",
   "execution_count": 116,
   "metadata": {},
   "outputs": [
    {
     "name": "stdout",
     "output_type": "stream",
     "text": [
      "[4.178005442612454, 20.58129997949559, 20.823423275649962, 46.412838263058525]\n"
     ]
    }
   ],
   "source": [
    "#View department group4\n",
    "print(plot_group4_summary)"
   ]
  },
  {
   "cell_type": "code",
   "execution_count": 117,
   "metadata": {
    "collapsed": true
   },
   "outputs": [],
   "source": [
    "#Re-sort department group4\n",
    "plot_group4b_summary = [20.58129997949559, 4.178005442612454, 20.823423275649962, 46.412838263058525]"
   ]
  },
  {
   "cell_type": "code",
   "execution_count": 118,
   "metadata": {},
   "outputs": [
    {
     "name": "stdout",
     "output_type": "stream",
     "text": [
      "[14.935168881062911, 12.68197662497437, 20.241121955220208, 10.572687224669604]\n"
     ]
    }
   ],
   "source": [
    "#View department group5\n",
    "print(plot_group5_summary)"
   ]
  },
  {
   "cell_type": "code",
   "execution_count": 119,
   "metadata": {
    "collapsed": true
   },
   "outputs": [],
   "source": [
    "#Re-sort department group5\n",
    "plot_group5b_summary = [12.68197662497437, 14.935168881062911, 20.241121955220208, 10.572687224669604]"
   ]
  },
  {
   "cell_type": "code",
   "execution_count": 120,
   "metadata": {
    "collapsed": true
   },
   "outputs": [],
   "source": [
    "#Create bar chart for four selected zip codes\n",
    "total_sort = [19598, 12494, 12193, 3178]\n",
    "legend = [\"78702\", \"78701\", \"78703\", \"78739\"]\n",
    "color1 = [\"green\", \"slategrey\", \"navy\", \"indianred\"]\n",
    "green_patch = mpatches.Patch(color='green', label='78702 Central East')\n",
    "slategrey_patch = mpatches.Patch(color='slategrey', label='78701 Central Downtown')\n",
    "navy_patch = mpatches.Patch(color='navy', label='78703 Central West')\n",
    "indianred_patch = mpatches.Patch(color='indianred', label='78739 Circle C')"
   ]
  },
  {
   "cell_type": "code",
   "execution_count": 121,
   "metadata": {},
   "outputs": [
    {
     "data": {
      "text/plain": [
       "<matplotlib.legend.Legend at 0x1ef32471e80>"
      ]
     },
     "execution_count": 121,
     "metadata": {},
     "output_type": "execute_result"
    }
   ],
   "source": [
    "#Stylize bar chart for four selected zip codes\n",
    "x_axis = np.arange(len(totals))\n",
    "#plt.bar(x_axis, total_sort, color=('green', 'slategrey', 'navy', 'indianred'), alpha=0.5, align=\"edge\", label=legend)\n",
    "plt.bar(x_axis, total_sort, color=color1, alpha=0.5, align=\"edge\", label=legend)\n",
    "tick_locations = [value+0.4 for value in x_axis]\n",
    "plt.xlim(-0.25, len(x_axis))\n",
    "plt.xticks(tick_locations, [\"< 50k\", \"50k to 75k\", \"75k to 100k\", \"> 100k\"])\n",
    "plt.title(\"311 Calls in Four Zip Codes\")\n",
    "plt.xlabel(\"Median Household Income\")\n",
    "plt.ylabel(\"Number of 311 Calls\")\n",
    "plt.legend(handles=[green_patch, slategrey_patch, navy_patch, indianred_patch])"
   ]
  },
  {
   "cell_type": "code",
   "execution_count": 122,
   "metadata": {
    "collapsed": true
   },
   "outputs": [],
   "source": [
    "plt.savefig(\"four_zip_codes.png\")"
   ]
  },
  {
   "cell_type": "code",
   "execution_count": 123,
   "metadata": {},
   "outputs": [
    {
     "data": {
      "image/png": "[encoded data removed]",
      "text/plain": [
       "<matplotlib.figure.Figure at 0x1ef30601390>"
      ]
     },
     "metadata": {},
     "output_type": "display_data"
    }
   ],
   "source": [
    "plt.show()"
   ]
  },
  {
   "cell_type": "raw",
   "metadata": {},
   "source": []
  },
  {
   "cell_type": "code",
   "execution_count": 124,
   "metadata": {},
   "outputs": [
    {
     "data": {
      "text/plain": [
       "([<matplotlib.axis.XTick at 0x1ef3fb069e8>,\n",
       "  <matplotlib.axis.XTick at 0x1ef3909dfd0>,\n",
       "  <matplotlib.axis.XTick at 0x1ef3962a5c0>,\n",
       "  <matplotlib.axis.XTick at 0x1ef3908e668>],\n",
       " <a list of 4 Text xticklabel objects>)"
      ]
     },
     "execution_count": 124,
     "metadata": {},
     "output_type": "execute_result"
    }
   ],
   "source": [
    "#Create stacked percentile bar chart for department composition per zip code\n",
    "x_axis = np.arange(len(plot_group1b_summary))\n",
    "plt.bar(x_axis, plot_group1b_summary, bottom=0, color='g', edgecolor='white', alpha=0.5, align=\"edge\", label=\"Animal Services Office\")\n",
    "plt.bar(x_axis, plot_group2b_summary, bottom=plot_group1b_summary, color='b', edgecolor='white', alpha=0.5, align=\"edge\", label=\"Austin Code Department\")\n",
    "plt.bar(x_axis, plot_group3b_summary, bottom=[i+j for i,j in zip(plot_group1b_summary, plot_group2b_summary)], color='maroon', edgecolor='white', alpha=0.5, align=\"edge\", label=\"Transportation\")\n",
    "plt.bar(x_axis, plot_group4b_summary, bottom=[i+j+k for i,j,k in zip(plot_group1b_summary, plot_group2b_summary, plot_group3b_summary)], color='gold', edgecolor='white', alpha=0.5, align=\"edge\", label=\"Austin Resource Recovery\")\n",
    "plt.bar(x_axis, plot_group5b_summary, bottom=[i+j+k+l for i,j,k,l in zip(plot_group1b_summary, plot_group2b_summary, plot_group3b_summary, plot_group4b_summary)], color='grey', edgecolor='white', alpha=0.5, align=\"edge\", label='Public Works')\n",
    "tick_locations = [value+0.4 for value in x_axis]\n",
    "plt.xlim(-0.25, len(x_axis))\n",
    "plt.xticks(tick_locations, [\"< 50k\", \"50k to 75k\", \"75k to 100k\", \"> 100k\"])"
   ]
  },
  {
   "cell_type": "code",
   "execution_count": 125,
   "metadata": {
    "collapsed": true
   },
   "outputs": [],
   "source": [
    "#Stylize stacked bar chart\n",
    "plt.title(\"Household Income vs. Department/Type\")\n",
    "plt.xlabel(\"Median Household Income\")\n",
    "plt.ylabel(\"% of 311 Calls\")\n",
    "plt.legend(loc='upper center', bbox_to_anchor=(1.3, 0.8), title=\"Department/Type\")\n",
    "leg = plt.legend(loc='upper center', bbox_to_anchor=(1.3, 0.8), title=\"Department/Type\")\n"
   ]
  },
  {
   "cell_type": "code",
   "execution_count": 126,
   "metadata": {
    "collapsed": true
   },
   "outputs": [],
   "source": [
    "plt.savefig(\"Household_Inocme_vs_Department.png\", bbox_extra_artists=(leg,), bbox_inches='tight')"
   ]
  },
  {
   "cell_type": "code",
   "execution_count": 127,
   "metadata": {},
   "outputs": [
    {
     "data": {
      "image/png": "[encoded data removed]",
      "text/plain": [
       "<matplotlib.figure.Figure at 0x1ef390957b8>"
      ]
     },
     "metadata": {},
     "output_type": "display_data"
    }
   ],
   "source": [
    "plt.show()"
   ]
  }
 ],
 "metadata": {
  "kernelspec": {
   "display_name": "Python 3",
   "language": "python",
   "name": "python3"
  },
  "language_info": {
   "codemirror_mode": {
    "name": "ipython",
    "version": 3
   },
   "file_extension": ".py",
   "mimetype": "text/x-python",
   "name": "python",
   "nbconvert_exporter": "python",
   "pygments_lexer": "ipython3",
   "version": "3.6.2"
  }
 },
 "nbformat": 4,
 "nbformat_minor": 2
}
