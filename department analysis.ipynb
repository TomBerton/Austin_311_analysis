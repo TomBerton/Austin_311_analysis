{
 "cells": [
  {
   "cell_type": "code",
   "execution_count": 1,
   "metadata": {
    "collapsed": true
   },
   "outputs": [],
   "source": [
    "import pandas as pd\n",
    "import numpy as np\n",
    "import os\n",
    "import csv\n",
    "from datetime import datetime\n",
    "import matplotlib.pyplot as plt"
   ]
  },
  {
   "cell_type": "code",
   "execution_count": 2,
   "metadata": {},
   "outputs": [
    {
     "name": "stdout",
     "output_type": "stream",
     "text": [
      "Current size: [6.0, 4.0]\n"
     ]
    }
   ],
   "source": [
    "# Get current size of plots\n",
    "fig_size = plt.rcParams[\"figure.figsize\"]\n",
    " \n",
    "# Prints: \n",
    "print(\"Current size:\", fig_size)"
   ]
  },
  {
   "cell_type": "code",
   "execution_count": 3,
   "metadata": {
    "collapsed": true
   },
   "outputs": [],
   "source": [
    "# Set figure width to 12 and height to 9\n",
    "fig_size[0] = 12\n",
    "fig_size[1] = 9\n",
    "plt.rcParams[\"figure.figsize\"] = fig_size"
   ]
  },
  {
   "cell_type": "code",
   "execution_count": 4,
   "metadata": {},
   "outputs": [
    {
     "data": {
      "text/html": [
       "<div>\n",
       "<style>\n",
       "    .dataframe thead tr:only-child th {\n",
       "        text-align: right;\n",
       "    }\n",
       "\n",
       "    .dataframe thead th {\n",
       "        text-align: left;\n",
       "    }\n",
       "\n",
       "    .dataframe tbody tr th {\n",
       "        vertical-align: top;\n",
       "    }\n",
       "</style>\n",
       "<table border=\"1\" class=\"dataframe\">\n",
       "  <thead>\n",
       "    <tr style=\"text-align: right;\">\n",
       "      <th></th>\n",
       "      <th>city</th>\n",
       "      <th>close_date</th>\n",
       "      <th>complaint_description</th>\n",
       "      <th>complaint_type</th>\n",
       "      <th>council_district_code</th>\n",
       "      <th>county</th>\n",
       "      <th>created_date</th>\n",
       "      <th>incident_address</th>\n",
       "      <th>incident_zip</th>\n",
       "      <th>last_update_date</th>\n",
       "      <th>...</th>\n",
       "      <th>map_tile</th>\n",
       "      <th>owning_department</th>\n",
       "      <th>source</th>\n",
       "      <th>state_plane_x_coordinate</th>\n",
       "      <th>state_plane_y_coordinate</th>\n",
       "      <th>status</th>\n",
       "      <th>status_change_date</th>\n",
       "      <th>street_name</th>\n",
       "      <th>street_number</th>\n",
       "      <th>unique_key</th>\n",
       "    </tr>\n",
       "  </thead>\n",
       "  <tbody>\n",
       "    <tr>\n",
       "      <th>0</th>\n",
       "      <td>AUSTIN</td>\n",
       "      <td>2015-01-20 10:41:48</td>\n",
       "      <td>Loose Dog</td>\n",
       "      <td>ACLONAG</td>\n",
       "      <td>3.0</td>\n",
       "      <td>TRAVIS</td>\n",
       "      <td>2015-01-20 10:41:48</td>\n",
       "      <td>1305 CORIANDER DR AUSTIN TX</td>\n",
       "      <td>78741.0</td>\n",
       "      <td>2015-01-27 12:51:06</td>\n",
       "      <td>...</td>\n",
       "      <td>ML18</td>\n",
       "      <td>Animal Services Office</td>\n",
       "      <td>Phone</td>\n",
       "      <td>3131141.68710771</td>\n",
       "      <td>1.005532e+07</td>\n",
       "      <td>Duplicate (closed)</td>\n",
       "      <td>2015-01-20 10:41:48</td>\n",
       "      <td>CORIANDER</td>\n",
       "      <td>1305.0</td>\n",
       "      <td>15-00012439</td>\n",
       "    </tr>\n",
       "    <tr>\n",
       "      <th>1</th>\n",
       "      <td>AUSTIN</td>\n",
       "      <td>2016-06-01 10:58:13</td>\n",
       "      <td>Loose Dog</td>\n",
       "      <td>ACLONAG</td>\n",
       "      <td>7.0</td>\n",
       "      <td>TRAVIS</td>\n",
       "      <td>2016-05-22 10:00:49</td>\n",
       "      <td>3104 STONEWAY DR AUSTIN TX 78757</td>\n",
       "      <td>78757.0</td>\n",
       "      <td>2016-06-01 09:58:30</td>\n",
       "      <td>...</td>\n",
       "      <td>MJ29</td>\n",
       "      <td>Animal Services Office</td>\n",
       "      <td>Phone</td>\n",
       "      <td>3112134.24930453</td>\n",
       "      <td>1.010083e+07</td>\n",
       "      <td>Closed</td>\n",
       "      <td>2016-06-01 10:58:13</td>\n",
       "      <td>STONEWAY</td>\n",
       "      <td>3104.0</td>\n",
       "      <td>16-00123310</td>\n",
       "    </tr>\n",
       "    <tr>\n",
       "      <th>2</th>\n",
       "      <td>AUSTIN</td>\n",
       "      <td>2014-01-06 19:30:00</td>\n",
       "      <td>Loose Animal (not dog)</td>\n",
       "      <td>ACLOANIM</td>\n",
       "      <td>2.0</td>\n",
       "      <td>TRAVIS</td>\n",
       "      <td>2014-01-06 18:04:00</td>\n",
       "      <td>4100 SMITH SCHOOL RD AUSTIN TX</td>\n",
       "      <td>78744.0</td>\n",
       "      <td>2014-01-06 18:32:00</td>\n",
       "      <td>...</td>\n",
       "      <td>MK16</td>\n",
       "      <td>Animal Services Office</td>\n",
       "      <td>Phone</td>\n",
       "      <td>3124825.4024878</td>\n",
       "      <td>1.004597e+07</td>\n",
       "      <td>Closed</td>\n",
       "      <td>2014-01-06 19:30:00</td>\n",
       "      <td>SMITH SCHOOL</td>\n",
       "      <td>4100.0</td>\n",
       "      <td>14-00003554</td>\n",
       "    </tr>\n",
       "    <tr>\n",
       "      <th>3</th>\n",
       "      <td>AUSTIN</td>\n",
       "      <td>2014-11-19 10:46:48</td>\n",
       "      <td>Austin Code - Request Code Officer</td>\n",
       "      <td>CODECOMP</td>\n",
       "      <td>7.0</td>\n",
       "      <td>TRAVIS</td>\n",
       "      <td>2014-11-15 15:43:41</td>\n",
       "      <td>12710 PALFREY DR AUSTIN TX 78727</td>\n",
       "      <td>78727.0</td>\n",
       "      <td>2014-11-19 10:46:48</td>\n",
       "      <td>...</td>\n",
       "      <td>ML35</td>\n",
       "      <td>Austin Code Department</td>\n",
       "      <td>Web</td>\n",
       "      <td>3124206.25</td>\n",
       "      <td>1.012812e+07</td>\n",
       "      <td>Closed</td>\n",
       "      <td>2014-11-19 10:46:48</td>\n",
       "      <td>PALFREY</td>\n",
       "      <td>12710.0</td>\n",
       "      <td>14-00247505</td>\n",
       "    </tr>\n",
       "    <tr>\n",
       "      <th>4</th>\n",
       "      <td>AUSTIN</td>\n",
       "      <td>2014-08-25 21:21:00</td>\n",
       "      <td>Animal - Proper Care</td>\n",
       "      <td>ACPROPER</td>\n",
       "      <td>1.0</td>\n",
       "      <td>TRAVIS</td>\n",
       "      <td>2014-07-28 17:33:00</td>\n",
       "      <td>6703 TULANE DR AUSTIN TX</td>\n",
       "      <td>78723.0</td>\n",
       "      <td>2014-08-25 20:23:00</td>\n",
       "      <td>...</td>\n",
       "      <td>MM26</td>\n",
       "      <td>Animal Services Office</td>\n",
       "      <td>Phone</td>\n",
       "      <td>3137129.998</td>\n",
       "      <td>1.008721e+07</td>\n",
       "      <td>Closed</td>\n",
       "      <td>2014-08-25 21:21:00</td>\n",
       "      <td>TULANE</td>\n",
       "      <td>6703.0</td>\n",
       "      <td>14-00156342</td>\n",
       "    </tr>\n",
       "  </tbody>\n",
       "</table>\n",
       "<p>5 rows × 24 columns</p>\n",
       "</div>"
      ],
      "text/plain": [
       "     city           close_date               complaint_description  \\\n",
       "0  AUSTIN  2015-01-20 10:41:48                           Loose Dog   \n",
       "1  AUSTIN  2016-06-01 10:58:13                           Loose Dog   \n",
       "2  AUSTIN  2014-01-06 19:30:00              Loose Animal (not dog)   \n",
       "3  AUSTIN  2014-11-19 10:46:48  Austin Code - Request Code Officer   \n",
       "4  AUSTIN  2014-08-25 21:21:00                Animal - Proper Care   \n",
       "\n",
       "  complaint_type  council_district_code  county         created_date  \\\n",
       "0        ACLONAG                    3.0  TRAVIS  2015-01-20 10:41:48   \n",
       "1        ACLONAG                    7.0  TRAVIS  2016-05-22 10:00:49   \n",
       "2       ACLOANIM                    2.0  TRAVIS  2014-01-06 18:04:00   \n",
       "3       CODECOMP                    7.0  TRAVIS  2014-11-15 15:43:41   \n",
       "4       ACPROPER                    1.0  TRAVIS  2014-07-28 17:33:00   \n",
       "\n",
       "                   incident_address  incident_zip     last_update_date  \\\n",
       "0       1305 CORIANDER DR AUSTIN TX       78741.0  2015-01-27 12:51:06   \n",
       "1  3104 STONEWAY DR AUSTIN TX 78757       78757.0  2016-06-01 09:58:30   \n",
       "2    4100 SMITH SCHOOL RD AUSTIN TX       78744.0  2014-01-06 18:32:00   \n",
       "3  12710 PALFREY DR AUSTIN TX 78727       78727.0  2014-11-19 10:46:48   \n",
       "4          6703 TULANE DR AUSTIN TX       78723.0  2014-08-25 20:23:00   \n",
       "\n",
       "      ...       map_tile       owning_department  source  \\\n",
       "0     ...           ML18  Animal Services Office   Phone   \n",
       "1     ...           MJ29  Animal Services Office   Phone   \n",
       "2     ...           MK16  Animal Services Office   Phone   \n",
       "3     ...           ML35  Austin Code Department     Web   \n",
       "4     ...           MM26  Animal Services Office   Phone   \n",
       "\n",
       "  state_plane_x_coordinate state_plane_y_coordinate              status  \\\n",
       "0         3131141.68710771             1.005532e+07  Duplicate (closed)   \n",
       "1         3112134.24930453             1.010083e+07              Closed   \n",
       "2          3124825.4024878             1.004597e+07              Closed   \n",
       "3               3124206.25             1.012812e+07              Closed   \n",
       "4              3137129.998             1.008721e+07              Closed   \n",
       "\n",
       "    status_change_date   street_name  street_number   unique_key  \n",
       "0  2015-01-20 10:41:48     CORIANDER         1305.0  15-00012439  \n",
       "1  2016-06-01 10:58:13      STONEWAY         3104.0  16-00123310  \n",
       "2  2014-01-06 19:30:00  SMITH SCHOOL         4100.0  14-00003554  \n",
       "3  2014-11-19 10:46:48       PALFREY        12710.0  14-00247505  \n",
       "4  2014-08-25 21:21:00        TULANE         6703.0  14-00156342  \n",
       "\n",
       "[5 rows x 24 columns]"
      ]
     },
     "execution_count": 4,
     "metadata": {},
     "output_type": "execute_result"
    }
   ],
   "source": [
    "austin_df = pd.read_csv('austin_311_service_requests.csv',low_memory=False)\n",
    "austin_df.head()"
   ]
  },
  {
   "cell_type": "code",
   "execution_count": 5,
   "metadata": {},
   "outputs": [
    {
     "data": {
      "text/html": [
       "<div>\n",
       "<style>\n",
       "    .dataframe thead tr:only-child th {\n",
       "        text-align: right;\n",
       "    }\n",
       "\n",
       "    .dataframe thead th {\n",
       "        text-align: left;\n",
       "    }\n",
       "\n",
       "    .dataframe tbody tr th {\n",
       "        vertical-align: top;\n",
       "    }\n",
       "</style>\n",
       "<table border=\"1\" class=\"dataframe\">\n",
       "  <thead>\n",
       "    <tr style=\"text-align: right;\">\n",
       "      <th></th>\n",
       "      <th>city</th>\n",
       "      <th>county</th>\n",
       "      <th>incident_zip</th>\n",
       "      <th>created_date</th>\n",
       "      <th>owning_department</th>\n",
       "      <th>complaint_description</th>\n",
       "      <th>complaint_type</th>\n",
       "    </tr>\n",
       "  </thead>\n",
       "  <tbody>\n",
       "    <tr>\n",
       "      <th>0</th>\n",
       "      <td>AUSTIN</td>\n",
       "      <td>TRAVIS</td>\n",
       "      <td>78741.0</td>\n",
       "      <td>2015-01-20 10:41:48</td>\n",
       "      <td>Animal Services Office</td>\n",
       "      <td>Loose Dog</td>\n",
       "      <td>ACLONAG</td>\n",
       "    </tr>\n",
       "    <tr>\n",
       "      <th>1</th>\n",
       "      <td>AUSTIN</td>\n",
       "      <td>TRAVIS</td>\n",
       "      <td>78757.0</td>\n",
       "      <td>2016-05-22 10:00:49</td>\n",
       "      <td>Animal Services Office</td>\n",
       "      <td>Loose Dog</td>\n",
       "      <td>ACLONAG</td>\n",
       "    </tr>\n",
       "    <tr>\n",
       "      <th>2</th>\n",
       "      <td>AUSTIN</td>\n",
       "      <td>TRAVIS</td>\n",
       "      <td>78744.0</td>\n",
       "      <td>2014-01-06 18:04:00</td>\n",
       "      <td>Animal Services Office</td>\n",
       "      <td>Loose Animal (not dog)</td>\n",
       "      <td>ACLOANIM</td>\n",
       "    </tr>\n",
       "    <tr>\n",
       "      <th>3</th>\n",
       "      <td>AUSTIN</td>\n",
       "      <td>TRAVIS</td>\n",
       "      <td>78727.0</td>\n",
       "      <td>2014-11-15 15:43:41</td>\n",
       "      <td>Austin Code Department</td>\n",
       "      <td>Austin Code - Request Code Officer</td>\n",
       "      <td>CODECOMP</td>\n",
       "    </tr>\n",
       "    <tr>\n",
       "      <th>4</th>\n",
       "      <td>AUSTIN</td>\n",
       "      <td>TRAVIS</td>\n",
       "      <td>78723.0</td>\n",
       "      <td>2014-07-28 17:33:00</td>\n",
       "      <td>Animal Services Office</td>\n",
       "      <td>Animal - Proper Care</td>\n",
       "      <td>ACPROPER</td>\n",
       "    </tr>\n",
       "  </tbody>\n",
       "</table>\n",
       "</div>"
      ],
      "text/plain": [
       "     city  county  incident_zip         created_date       owning_department  \\\n",
       "0  AUSTIN  TRAVIS       78741.0  2015-01-20 10:41:48  Animal Services Office   \n",
       "1  AUSTIN  TRAVIS       78757.0  2016-05-22 10:00:49  Animal Services Office   \n",
       "2  AUSTIN  TRAVIS       78744.0  2014-01-06 18:04:00  Animal Services Office   \n",
       "3  AUSTIN  TRAVIS       78727.0  2014-11-15 15:43:41  Austin Code Department   \n",
       "4  AUSTIN  TRAVIS       78723.0  2014-07-28 17:33:00  Animal Services Office   \n",
       "\n",
       "                complaint_description complaint_type  \n",
       "0                           Loose Dog        ACLONAG  \n",
       "1                           Loose Dog        ACLONAG  \n",
       "2              Loose Animal (not dog)       ACLOANIM  \n",
       "3  Austin Code - Request Code Officer       CODECOMP  \n",
       "4                Animal - Proper Care       ACPROPER  "
      ]
     },
     "execution_count": 5,
     "metadata": {},
     "output_type": "execute_result"
    }
   ],
   "source": [
    "austin_df = austin_df[[\"city\", \"county\", \"incident_zip\", \"created_date\", \"owning_department\", \"complaint_description\", \"complaint_type\"]]\n",
    "austin_df.head()"
   ]
  },
  {
   "cell_type": "code",
   "execution_count": 6,
   "metadata": {
    "collapsed": true
   },
   "outputs": [],
   "source": [
    "# austin_df = austin_df.rename(columns={\"city\":\"City\", \"county\":\"County\",\"incident_zip\":\"Incident Zip\",\n",
    "#                                       \"created_date\":\"Date\", \"owning_department\":\"Department\",\n",
    "#                                       \"complaint_description\":\"Complaint Description\",\"complaint_type\":\"Type of Complaint\"})\n",
    "# austin_df.head(10)"
   ]
  },
  {
   "cell_type": "code",
   "execution_count": 7,
   "metadata": {},
   "outputs": [
    {
     "data": {
      "text/plain": [
       "city                     454982\n",
       "county                   452747\n",
       "incident_zip             454963\n",
       "created_date             452741\n",
       "owning_department        459305\n",
       "complaint_description    459305\n",
       "complaint_type           459305\n",
       "dtype: int64"
      ]
     },
     "execution_count": 7,
     "metadata": {},
     "output_type": "execute_result"
    }
   ],
   "source": [
    "austin_df.count()"
   ]
  },
  {
   "cell_type": "code",
   "execution_count": 8,
   "metadata": {},
   "outputs": [
    {
     "data": {
      "text/html": [
       "<div>\n",
       "<style>\n",
       "    .dataframe thead tr:only-child th {\n",
       "        text-align: right;\n",
       "    }\n",
       "\n",
       "    .dataframe thead th {\n",
       "        text-align: left;\n",
       "    }\n",
       "\n",
       "    .dataframe tbody tr th {\n",
       "        vertical-align: top;\n",
       "    }\n",
       "</style>\n",
       "<table border=\"1\" class=\"dataframe\">\n",
       "  <thead>\n",
       "    <tr style=\"text-align: right;\">\n",
       "      <th></th>\n",
       "      <th>city</th>\n",
       "      <th>county</th>\n",
       "      <th>incident_zip</th>\n",
       "      <th>created_date</th>\n",
       "      <th>owning_department</th>\n",
       "      <th>complaint_description</th>\n",
       "      <th>complaint_type</th>\n",
       "    </tr>\n",
       "  </thead>\n",
       "  <tbody>\n",
       "    <tr>\n",
       "      <th>0</th>\n",
       "      <td>AUSTIN</td>\n",
       "      <td>TRAVIS</td>\n",
       "      <td>78741.0</td>\n",
       "      <td>2015-01-20 10:41:48</td>\n",
       "      <td>Animal Services Office</td>\n",
       "      <td>Loose Dog</td>\n",
       "      <td>ACLONAG</td>\n",
       "    </tr>\n",
       "    <tr>\n",
       "      <th>1</th>\n",
       "      <td>AUSTIN</td>\n",
       "      <td>TRAVIS</td>\n",
       "      <td>78757.0</td>\n",
       "      <td>2016-05-22 10:00:49</td>\n",
       "      <td>Animal Services Office</td>\n",
       "      <td>Loose Dog</td>\n",
       "      <td>ACLONAG</td>\n",
       "    </tr>\n",
       "    <tr>\n",
       "      <th>2</th>\n",
       "      <td>AUSTIN</td>\n",
       "      <td>TRAVIS</td>\n",
       "      <td>78744.0</td>\n",
       "      <td>2014-01-06 18:04:00</td>\n",
       "      <td>Animal Services Office</td>\n",
       "      <td>Loose Animal (not dog)</td>\n",
       "      <td>ACLOANIM</td>\n",
       "    </tr>\n",
       "    <tr>\n",
       "      <th>3</th>\n",
       "      <td>AUSTIN</td>\n",
       "      <td>TRAVIS</td>\n",
       "      <td>78727.0</td>\n",
       "      <td>2014-11-15 15:43:41</td>\n",
       "      <td>Austin Code Department</td>\n",
       "      <td>Austin Code - Request Code Officer</td>\n",
       "      <td>CODECOMP</td>\n",
       "    </tr>\n",
       "    <tr>\n",
       "      <th>4</th>\n",
       "      <td>AUSTIN</td>\n",
       "      <td>TRAVIS</td>\n",
       "      <td>78723.0</td>\n",
       "      <td>2014-07-28 17:33:00</td>\n",
       "      <td>Animal Services Office</td>\n",
       "      <td>Animal - Proper Care</td>\n",
       "      <td>ACPROPER</td>\n",
       "    </tr>\n",
       "  </tbody>\n",
       "</table>\n",
       "</div>"
      ],
      "text/plain": [
       "     city  county  incident_zip         created_date       owning_department  \\\n",
       "0  AUSTIN  TRAVIS       78741.0  2015-01-20 10:41:48  Animal Services Office   \n",
       "1  AUSTIN  TRAVIS       78757.0  2016-05-22 10:00:49  Animal Services Office   \n",
       "2  AUSTIN  TRAVIS       78744.0  2014-01-06 18:04:00  Animal Services Office   \n",
       "3  AUSTIN  TRAVIS       78727.0  2014-11-15 15:43:41  Austin Code Department   \n",
       "4  AUSTIN  TRAVIS       78723.0  2014-07-28 17:33:00  Animal Services Office   \n",
       "\n",
       "                complaint_description complaint_type  \n",
       "0                           Loose Dog        ACLONAG  \n",
       "1                           Loose Dog        ACLONAG  \n",
       "2              Loose Animal (not dog)       ACLOANIM  \n",
       "3  Austin Code - Request Code Officer       CODECOMP  \n",
       "4                Animal - Proper Care       ACPROPER  "
      ]
     },
     "execution_count": 8,
     "metadata": {},
     "output_type": "execute_result"
    }
   ],
   "source": [
    "austin_df.replace('', np.nan, inplace=True)\n",
    "austin_df.head()"
   ]
  },
  {
   "cell_type": "code",
   "execution_count": 9,
   "metadata": {},
   "outputs": [
    {
     "data": {
      "text/plain": [
       "city                     454982\n",
       "county                   452747\n",
       "incident_zip             454963\n",
       "created_date             452741\n",
       "owning_department        459305\n",
       "complaint_description    459305\n",
       "complaint_type           459305\n",
       "dtype: int64"
      ]
     },
     "execution_count": 9,
     "metadata": {},
     "output_type": "execute_result"
    }
   ],
   "source": [
    "austin_df.count()"
   ]
  },
  {
   "cell_type": "code",
   "execution_count": 10,
   "metadata": {},
   "outputs": [
    {
     "data": {
      "text/plain": [
       "city                     445845\n",
       "county                   445845\n",
       "incident_zip             445845\n",
       "created_date             445845\n",
       "owning_department        445845\n",
       "complaint_description    445845\n",
       "complaint_type           445845\n",
       "dtype: int64"
      ]
     },
     "execution_count": 10,
     "metadata": {},
     "output_type": "execute_result"
    }
   ],
   "source": [
    "cleanaustin_df = austin_df.dropna(how=\"any\")\n",
    "cleanaustin_df.count()"
   ]
  },
  {
   "cell_type": "code",
   "execution_count": 11,
   "metadata": {},
   "outputs": [
    {
     "data": {
      "text/html": [
       "<div>\n",
       "<style>\n",
       "    .dataframe thead tr:only-child th {\n",
       "        text-align: right;\n",
       "    }\n",
       "\n",
       "    .dataframe thead th {\n",
       "        text-align: left;\n",
       "    }\n",
       "\n",
       "    .dataframe tbody tr th {\n",
       "        vertical-align: top;\n",
       "    }\n",
       "</style>\n",
       "<table border=\"1\" class=\"dataframe\">\n",
       "  <thead>\n",
       "    <tr style=\"text-align: right;\">\n",
       "      <th></th>\n",
       "      <th>city</th>\n",
       "      <th>county</th>\n",
       "      <th>incident_zip</th>\n",
       "      <th>created_date</th>\n",
       "      <th>owning_department</th>\n",
       "      <th>complaint_description</th>\n",
       "      <th>complaint_type</th>\n",
       "    </tr>\n",
       "  </thead>\n",
       "  <tbody>\n",
       "    <tr>\n",
       "      <th>0</th>\n",
       "      <td>AUSTIN</td>\n",
       "      <td>TRAVIS</td>\n",
       "      <td>78741.0</td>\n",
       "      <td>2015-01-20 10:41:48</td>\n",
       "      <td>Animal Services Office</td>\n",
       "      <td>Loose Dog</td>\n",
       "      <td>ACLONAG</td>\n",
       "    </tr>\n",
       "    <tr>\n",
       "      <th>1</th>\n",
       "      <td>AUSTIN</td>\n",
       "      <td>TRAVIS</td>\n",
       "      <td>78757.0</td>\n",
       "      <td>2016-05-22 10:00:49</td>\n",
       "      <td>Animal Services Office</td>\n",
       "      <td>Loose Dog</td>\n",
       "      <td>ACLONAG</td>\n",
       "    </tr>\n",
       "    <tr>\n",
       "      <th>2</th>\n",
       "      <td>AUSTIN</td>\n",
       "      <td>TRAVIS</td>\n",
       "      <td>78744.0</td>\n",
       "      <td>2014-01-06 18:04:00</td>\n",
       "      <td>Animal Services Office</td>\n",
       "      <td>Loose Animal (not dog)</td>\n",
       "      <td>ACLOANIM</td>\n",
       "    </tr>\n",
       "    <tr>\n",
       "      <th>3</th>\n",
       "      <td>AUSTIN</td>\n",
       "      <td>TRAVIS</td>\n",
       "      <td>78727.0</td>\n",
       "      <td>2014-11-15 15:43:41</td>\n",
       "      <td>Austin Code Department</td>\n",
       "      <td>Austin Code - Request Code Officer</td>\n",
       "      <td>CODECOMP</td>\n",
       "    </tr>\n",
       "    <tr>\n",
       "      <th>4</th>\n",
       "      <td>AUSTIN</td>\n",
       "      <td>TRAVIS</td>\n",
       "      <td>78723.0</td>\n",
       "      <td>2014-07-28 17:33:00</td>\n",
       "      <td>Animal Services Office</td>\n",
       "      <td>Animal - Proper Care</td>\n",
       "      <td>ACPROPER</td>\n",
       "    </tr>\n",
       "    <tr>\n",
       "      <th>5</th>\n",
       "      <td>AUSTIN</td>\n",
       "      <td>TRAVIS</td>\n",
       "      <td>78702.0</td>\n",
       "      <td>2016-06-20 16:44:00</td>\n",
       "      <td>Animal Services Office</td>\n",
       "      <td>Animal - Proper Care</td>\n",
       "      <td>ACPROPER</td>\n",
       "    </tr>\n",
       "    <tr>\n",
       "      <th>6</th>\n",
       "      <td>AUSTIN</td>\n",
       "      <td>TRAVIS</td>\n",
       "      <td>78744.0</td>\n",
       "      <td>2015-08-25 11:03:04</td>\n",
       "      <td>Austin Code Department</td>\n",
       "      <td>Austin Code - Request Code Officer</td>\n",
       "      <td>CODECOMP</td>\n",
       "    </tr>\n",
       "    <tr>\n",
       "      <th>7</th>\n",
       "      <td>AUSTIN</td>\n",
       "      <td>TRAVIS</td>\n",
       "      <td>78749.0</td>\n",
       "      <td>2014-08-26 13:01:00</td>\n",
       "      <td>Austin Water Utility</td>\n",
       "      <td>Water Waste Report</td>\n",
       "      <td>WWREPORT</td>\n",
       "    </tr>\n",
       "    <tr>\n",
       "      <th>8</th>\n",
       "      <td>AUSTIN</td>\n",
       "      <td>TRAVIS</td>\n",
       "      <td>78702.0</td>\n",
       "      <td>2015-06-19 16:31:06</td>\n",
       "      <td>Parks &amp; Recreation Department</td>\n",
       "      <td>Park Maintenance - Pool Issues</td>\n",
       "      <td>PRMTPOOL</td>\n",
       "    </tr>\n",
       "    <tr>\n",
       "      <th>9</th>\n",
       "      <td>AUSTIN</td>\n",
       "      <td>TRAVIS</td>\n",
       "      <td>78759.0</td>\n",
       "      <td>2017-08-01 12:55:03</td>\n",
       "      <td>Austin Code Department</td>\n",
       "      <td>Austin Code - Request Code Officer</td>\n",
       "      <td>CODECOMP</td>\n",
       "    </tr>\n",
       "    <tr>\n",
       "      <th>10</th>\n",
       "      <td>COUPLAND</td>\n",
       "      <td>TRAVIS</td>\n",
       "      <td>78615.0</td>\n",
       "      <td>2016-08-14 18:22:51</td>\n",
       "      <td>Animal Services Office</td>\n",
       "      <td>Loose Dog</td>\n",
       "      <td>ACLONAG</td>\n",
       "    </tr>\n",
       "    <tr>\n",
       "      <th>11</th>\n",
       "      <td>AUSTIN</td>\n",
       "      <td>TRAVIS</td>\n",
       "      <td>78750.0</td>\n",
       "      <td>2015-02-21 13:25:39</td>\n",
       "      <td>Austin Water Utility</td>\n",
       "      <td>Water Waste Report</td>\n",
       "      <td>WWREPORT</td>\n",
       "    </tr>\n",
       "    <tr>\n",
       "      <th>12</th>\n",
       "      <td>AUSTIN</td>\n",
       "      <td>TRAVIS</td>\n",
       "      <td>78702.0</td>\n",
       "      <td>2016-03-09 14:46:45</td>\n",
       "      <td>Public Works</td>\n",
       "      <td>Pavement Failure</td>\n",
       "      <td>SBPAVEFA</td>\n",
       "    </tr>\n",
       "    <tr>\n",
       "      <th>13</th>\n",
       "      <td>AUSTIN</td>\n",
       "      <td>TRAVIS</td>\n",
       "      <td>78701.0</td>\n",
       "      <td>2016-08-17 11:46:27</td>\n",
       "      <td>Austin Code Department</td>\n",
       "      <td>Austin Code - Request Code Officer</td>\n",
       "      <td>CODECOMP</td>\n",
       "    </tr>\n",
       "    <tr>\n",
       "      <th>14</th>\n",
       "      <td>AUSTIN</td>\n",
       "      <td>TRAVIS</td>\n",
       "      <td>78702.0</td>\n",
       "      <td>2014-05-15 10:13:41</td>\n",
       "      <td>Transportation</td>\n",
       "      <td>Sign - Traffic Sign Emergency</td>\n",
       "      <td>SIGNTRAF</td>\n",
       "    </tr>\n",
       "    <tr>\n",
       "      <th>15</th>\n",
       "      <td>AUSTIN</td>\n",
       "      <td>TRAVIS</td>\n",
       "      <td>78702.0</td>\n",
       "      <td>2014-07-27 22:36:44</td>\n",
       "      <td>Austin Energy Department</td>\n",
       "      <td>Street Light Issue- Address</td>\n",
       "      <td>STREETL2</td>\n",
       "    </tr>\n",
       "    <tr>\n",
       "      <th>16</th>\n",
       "      <td>AUSTIN</td>\n",
       "      <td>TRAVIS</td>\n",
       "      <td>78758.0</td>\n",
       "      <td>2016-12-19 10:07:56</td>\n",
       "      <td>Animal Services Office</td>\n",
       "      <td>Animal Control - Assistance Request</td>\n",
       "      <td>ACINFORM</td>\n",
       "    </tr>\n",
       "    <tr>\n",
       "      <th>17</th>\n",
       "      <td>AUSTIN</td>\n",
       "      <td>TRAVIS</td>\n",
       "      <td>78701.0</td>\n",
       "      <td>2017-03-16 08:52:15</td>\n",
       "      <td>Public Health</td>\n",
       "      <td>Public Health - Graffiti Abatement</td>\n",
       "      <td>HHSGRAFF</td>\n",
       "    </tr>\n",
       "    <tr>\n",
       "      <th>18</th>\n",
       "      <td>AUSTIN</td>\n",
       "      <td>TRAVIS</td>\n",
       "      <td>78705.0</td>\n",
       "      <td>2016-09-15 13:52:56</td>\n",
       "      <td>Austin Code Department</td>\n",
       "      <td>Austin Code - Request Code Officer</td>\n",
       "      <td>CODECOMP</td>\n",
       "    </tr>\n",
       "    <tr>\n",
       "      <th>19</th>\n",
       "      <td>AUSTIN</td>\n",
       "      <td>TRAVIS</td>\n",
       "      <td>78758.0</td>\n",
       "      <td>2016-10-17 15:02:49</td>\n",
       "      <td>Austin Code Department</td>\n",
       "      <td>Austin Code - Request Code Officer</td>\n",
       "      <td>CODECOMP</td>\n",
       "    </tr>\n",
       "  </tbody>\n",
       "</table>\n",
       "</div>"
      ],
      "text/plain": [
       "        city  county  incident_zip         created_date  \\\n",
       "0     AUSTIN  TRAVIS       78741.0  2015-01-20 10:41:48   \n",
       "1     AUSTIN  TRAVIS       78757.0  2016-05-22 10:00:49   \n",
       "2     AUSTIN  TRAVIS       78744.0  2014-01-06 18:04:00   \n",
       "3     AUSTIN  TRAVIS       78727.0  2014-11-15 15:43:41   \n",
       "4     AUSTIN  TRAVIS       78723.0  2014-07-28 17:33:00   \n",
       "5     AUSTIN  TRAVIS       78702.0  2016-06-20 16:44:00   \n",
       "6     AUSTIN  TRAVIS       78744.0  2015-08-25 11:03:04   \n",
       "7     AUSTIN  TRAVIS       78749.0  2014-08-26 13:01:00   \n",
       "8     AUSTIN  TRAVIS       78702.0  2015-06-19 16:31:06   \n",
       "9     AUSTIN  TRAVIS       78759.0  2017-08-01 12:55:03   \n",
       "10  COUPLAND  TRAVIS       78615.0  2016-08-14 18:22:51   \n",
       "11    AUSTIN  TRAVIS       78750.0  2015-02-21 13:25:39   \n",
       "12    AUSTIN  TRAVIS       78702.0  2016-03-09 14:46:45   \n",
       "13    AUSTIN  TRAVIS       78701.0  2016-08-17 11:46:27   \n",
       "14    AUSTIN  TRAVIS       78702.0  2014-05-15 10:13:41   \n",
       "15    AUSTIN  TRAVIS       78702.0  2014-07-27 22:36:44   \n",
       "16    AUSTIN  TRAVIS       78758.0  2016-12-19 10:07:56   \n",
       "17    AUSTIN  TRAVIS       78701.0  2017-03-16 08:52:15   \n",
       "18    AUSTIN  TRAVIS       78705.0  2016-09-15 13:52:56   \n",
       "19    AUSTIN  TRAVIS       78758.0  2016-10-17 15:02:49   \n",
       "\n",
       "                owning_department                complaint_description  \\\n",
       "0          Animal Services Office                            Loose Dog   \n",
       "1          Animal Services Office                            Loose Dog   \n",
       "2          Animal Services Office               Loose Animal (not dog)   \n",
       "3          Austin Code Department   Austin Code - Request Code Officer   \n",
       "4          Animal Services Office                 Animal - Proper Care   \n",
       "5          Animal Services Office                 Animal - Proper Care   \n",
       "6          Austin Code Department   Austin Code - Request Code Officer   \n",
       "7            Austin Water Utility                   Water Waste Report   \n",
       "8   Parks & Recreation Department       Park Maintenance - Pool Issues   \n",
       "9          Austin Code Department   Austin Code - Request Code Officer   \n",
       "10         Animal Services Office                            Loose Dog   \n",
       "11           Austin Water Utility                   Water Waste Report   \n",
       "12                   Public Works                     Pavement Failure   \n",
       "13         Austin Code Department   Austin Code - Request Code Officer   \n",
       "14                 Transportation        Sign - Traffic Sign Emergency   \n",
       "15       Austin Energy Department          Street Light Issue- Address   \n",
       "16         Animal Services Office  Animal Control - Assistance Request   \n",
       "17                  Public Health   Public Health - Graffiti Abatement   \n",
       "18         Austin Code Department   Austin Code - Request Code Officer   \n",
       "19         Austin Code Department   Austin Code - Request Code Officer   \n",
       "\n",
       "   complaint_type  \n",
       "0         ACLONAG  \n",
       "1         ACLONAG  \n",
       "2        ACLOANIM  \n",
       "3        CODECOMP  \n",
       "4        ACPROPER  \n",
       "5        ACPROPER  \n",
       "6        CODECOMP  \n",
       "7        WWREPORT  \n",
       "8        PRMTPOOL  \n",
       "9        CODECOMP  \n",
       "10        ACLONAG  \n",
       "11       WWREPORT  \n",
       "12       SBPAVEFA  \n",
       "13       CODECOMP  \n",
       "14       SIGNTRAF  \n",
       "15       STREETL2  \n",
       "16       ACINFORM  \n",
       "17       HHSGRAFF  \n",
       "18       CODECOMP  \n",
       "19       CODECOMP  "
      ]
     },
     "execution_count": 11,
     "metadata": {},
     "output_type": "execute_result"
    }
   ],
   "source": [
    "cleanaustin_df.head(20)"
   ]
  },
  {
   "cell_type": "code",
   "execution_count": 12,
   "metadata": {
    "collapsed": true
   },
   "outputs": [],
   "source": [
    "# cleanaustin_df['City'].value_counts()"
   ]
  },
  {
   "cell_type": "code",
   "execution_count": 13,
   "metadata": {
    "collapsed": true
   },
   "outputs": [],
   "source": [
    "value_list = ['AUSTIN', 'Austin', 'austin']\n",
    "austincity_df = cleanaustin_df[cleanaustin_df.city.isin(value_list)]"
   ]
  },
  {
   "cell_type": "code",
   "execution_count": 14,
   "metadata": {},
   "outputs": [
    {
     "data": {
      "text/plain": [
       "AUSTIN    434876\n",
       "Austin       538\n",
       "austin       498\n",
       "Name: city, dtype: int64"
      ]
     },
     "execution_count": 14,
     "metadata": {},
     "output_type": "execute_result"
    }
   ],
   "source": [
    "austincity_df['city'].value_counts()"
   ]
  },
  {
   "cell_type": "code",
   "execution_count": 15,
   "metadata": {
    "collapsed": true
   },
   "outputs": [],
   "source": [
    "value_list = ['TRAVIS']\n",
    "austin311_df = austincity_df[austincity_df.county.isin(value_list)]"
   ]
  },
  {
   "cell_type": "code",
   "execution_count": 16,
   "metadata": {},
   "outputs": [
    {
     "data": {
      "text/plain": [
       "city                     422852\n",
       "county                   422852\n",
       "incident_zip             422852\n",
       "created_date             422852\n",
       "owning_department        422852\n",
       "complaint_description    422852\n",
       "complaint_type           422852\n",
       "dtype: int64"
      ]
     },
     "execution_count": 16,
     "metadata": {},
     "output_type": "execute_result"
    }
   ],
   "source": [
    "austin311_df.count()"
   ]
  },
  {
   "cell_type": "code",
   "execution_count": 17,
   "metadata": {},
   "outputs": [
    {
     "name": "stderr",
     "output_type": "stream",
     "text": [
      "C:\\Users\\Administrator\\AppData\\Local\\conda\\conda\\envs\\py36\\lib\\site-packages\\ipykernel_launcher.py:1: SettingWithCopyWarning: \n",
      "A value is trying to be set on a copy of a slice from a DataFrame.\n",
      "Try using .loc[row_indexer,col_indexer] = value instead\n",
      "\n",
      "See the caveats in the documentation: http://pandas.pydata.org/pandas-docs/stable/indexing.html#indexing-view-versus-copy\n",
      "  \"\"\"Entry point for launching an IPython kernel.\n"
     ]
    }
   ],
   "source": [
    "austin311_df[\"incident_zip\"] = austin311_df[\"incident_zip\"].astype(int)"
   ]
  },
  {
   "cell_type": "code",
   "execution_count": 18,
   "metadata": {},
   "outputs": [
    {
     "data": {
      "text/html": [
       "<div>\n",
       "<style>\n",
       "    .dataframe thead tr:only-child th {\n",
       "        text-align: right;\n",
       "    }\n",
       "\n",
       "    .dataframe thead th {\n",
       "        text-align: left;\n",
       "    }\n",
       "\n",
       "    .dataframe tbody tr th {\n",
       "        vertical-align: top;\n",
       "    }\n",
       "</style>\n",
       "<table border=\"1\" class=\"dataframe\">\n",
       "  <thead>\n",
       "    <tr style=\"text-align: right;\">\n",
       "      <th></th>\n",
       "      <th>city</th>\n",
       "      <th>county</th>\n",
       "      <th>incident_zip</th>\n",
       "      <th>created_date</th>\n",
       "      <th>owning_department</th>\n",
       "      <th>complaint_description</th>\n",
       "      <th>complaint_type</th>\n",
       "    </tr>\n",
       "  </thead>\n",
       "  <tbody>\n",
       "    <tr>\n",
       "      <th>0</th>\n",
       "      <td>AUSTIN</td>\n",
       "      <td>TRAVIS</td>\n",
       "      <td>78741</td>\n",
       "      <td>2015-01-20 10:41:48</td>\n",
       "      <td>Animal Services Office</td>\n",
       "      <td>Loose Dog</td>\n",
       "      <td>ACLONAG</td>\n",
       "    </tr>\n",
       "    <tr>\n",
       "      <th>1</th>\n",
       "      <td>AUSTIN</td>\n",
       "      <td>TRAVIS</td>\n",
       "      <td>78757</td>\n",
       "      <td>2016-05-22 10:00:49</td>\n",
       "      <td>Animal Services Office</td>\n",
       "      <td>Loose Dog</td>\n",
       "      <td>ACLONAG</td>\n",
       "    </tr>\n",
       "    <tr>\n",
       "      <th>2</th>\n",
       "      <td>AUSTIN</td>\n",
       "      <td>TRAVIS</td>\n",
       "      <td>78744</td>\n",
       "      <td>2014-01-06 18:04:00</td>\n",
       "      <td>Animal Services Office</td>\n",
       "      <td>Loose Animal (not dog)</td>\n",
       "      <td>ACLOANIM</td>\n",
       "    </tr>\n",
       "    <tr>\n",
       "      <th>3</th>\n",
       "      <td>AUSTIN</td>\n",
       "      <td>TRAVIS</td>\n",
       "      <td>78727</td>\n",
       "      <td>2014-11-15 15:43:41</td>\n",
       "      <td>Austin Code Department</td>\n",
       "      <td>Austin Code - Request Code Officer</td>\n",
       "      <td>CODECOMP</td>\n",
       "    </tr>\n",
       "    <tr>\n",
       "      <th>4</th>\n",
       "      <td>AUSTIN</td>\n",
       "      <td>TRAVIS</td>\n",
       "      <td>78723</td>\n",
       "      <td>2014-07-28 17:33:00</td>\n",
       "      <td>Animal Services Office</td>\n",
       "      <td>Animal - Proper Care</td>\n",
       "      <td>ACPROPER</td>\n",
       "    </tr>\n",
       "  </tbody>\n",
       "</table>\n",
       "</div>"
      ],
      "text/plain": [
       "     city  county  incident_zip         created_date       owning_department  \\\n",
       "0  AUSTIN  TRAVIS         78741  2015-01-20 10:41:48  Animal Services Office   \n",
       "1  AUSTIN  TRAVIS         78757  2016-05-22 10:00:49  Animal Services Office   \n",
       "2  AUSTIN  TRAVIS         78744  2014-01-06 18:04:00  Animal Services Office   \n",
       "3  AUSTIN  TRAVIS         78727  2014-11-15 15:43:41  Austin Code Department   \n",
       "4  AUSTIN  TRAVIS         78723  2014-07-28 17:33:00  Animal Services Office   \n",
       "\n",
       "                complaint_description complaint_type  \n",
       "0                           Loose Dog        ACLONAG  \n",
       "1                           Loose Dog        ACLONAG  \n",
       "2              Loose Animal (not dog)       ACLOANIM  \n",
       "3  Austin Code - Request Code Officer       CODECOMP  \n",
       "4                Animal - Proper Care       ACPROPER  "
      ]
     },
     "execution_count": 18,
     "metadata": {},
     "output_type": "execute_result"
    }
   ],
   "source": [
    "austin311_df.head()"
   ]
  },
  {
   "cell_type": "code",
   "execution_count": 19,
   "metadata": {},
   "outputs": [
    {
     "name": "stderr",
     "output_type": "stream",
     "text": [
      "C:\\Users\\Administrator\\AppData\\Local\\conda\\conda\\envs\\py36\\lib\\site-packages\\ipykernel_launcher.py:2: SettingWithCopyWarning: \n",
      "A value is trying to be set on a copy of a slice from a DataFrame\n",
      "\n",
      "See the caveats in the documentation: http://pandas.pydata.org/pandas-docs/stable/indexing.html#indexing-view-versus-copy\n",
      "  \n",
      "C:\\Users\\Administrator\\AppData\\Local\\conda\\conda\\envs\\py36\\lib\\site-packages\\ipykernel_launcher.py:3: SettingWithCopyWarning: \n",
      "A value is trying to be set on a copy of a slice from a DataFrame\n",
      "\n",
      "See the caveats in the documentation: http://pandas.pydata.org/pandas-docs/stable/indexing.html#indexing-view-versus-copy\n",
      "  This is separate from the ipykernel package so we can avoid doing imports until\n",
      "C:\\Users\\Administrator\\AppData\\Local\\conda\\conda\\envs\\py36\\lib\\site-packages\\ipykernel_launcher.py:6: SettingWithCopyWarning: \n",
      "A value is trying to be set on a copy of a slice from a DataFrame.\n",
      "Try using .loc[row_indexer,col_indexer] = value instead\n",
      "\n",
      "See the caveats in the documentation: http://pandas.pydata.org/pandas-docs/stable/indexing.html#indexing-view-versus-copy\n",
      "  \n",
      "C:\\Users\\Administrator\\AppData\\Local\\conda\\conda\\envs\\py36\\lib\\site-packages\\ipykernel_launcher.py:9: SettingWithCopyWarning: \n",
      "A value is trying to be set on a copy of a slice from a DataFrame.\n",
      "Try using .loc[row_indexer,col_indexer] = value instead\n",
      "\n",
      "See the caveats in the documentation: http://pandas.pydata.org/pandas-docs/stable/indexing.html#indexing-view-versus-copy\n",
      "  if __name__ == '__main__':\n",
      "C:\\Users\\Administrator\\AppData\\Local\\conda\\conda\\envs\\py36\\lib\\site-packages\\ipykernel_launcher.py:10: SettingWithCopyWarning: \n",
      "A value is trying to be set on a copy of a slice from a DataFrame.\n",
      "Try using .loc[row_indexer,col_indexer] = value instead\n",
      "\n",
      "See the caveats in the documentation: http://pandas.pydata.org/pandas-docs/stable/indexing.html#indexing-view-versus-copy\n",
      "  # Remove the CWD from sys.path while we load stuff.\n"
     ]
    },
    {
     "data": {
      "text/html": [
       "<div>\n",
       "<style>\n",
       "    .dataframe thead tr:only-child th {\n",
       "        text-align: right;\n",
       "    }\n",
       "\n",
       "    .dataframe thead th {\n",
       "        text-align: left;\n",
       "    }\n",
       "\n",
       "    .dataframe tbody tr th {\n",
       "        vertical-align: top;\n",
       "    }\n",
       "</style>\n",
       "<table border=\"1\" class=\"dataframe\">\n",
       "  <thead>\n",
       "    <tr style=\"text-align: right;\">\n",
       "      <th></th>\n",
       "      <th>incident_zip</th>\n",
       "      <th>created_date</th>\n",
       "      <th>owning_department</th>\n",
       "      <th>complaint_description</th>\n",
       "      <th>complaint_type</th>\n",
       "      <th>year</th>\n",
       "      <th>month</th>\n",
       "    </tr>\n",
       "  </thead>\n",
       "  <tbody>\n",
       "    <tr>\n",
       "      <th>0</th>\n",
       "      <td>78741</td>\n",
       "      <td>2015-01-20 10:41:48</td>\n",
       "      <td>Animal Services Office</td>\n",
       "      <td>Loose Dog</td>\n",
       "      <td>ACLONAG</td>\n",
       "      <td>2015</td>\n",
       "      <td>1</td>\n",
       "    </tr>\n",
       "    <tr>\n",
       "      <th>1</th>\n",
       "      <td>78757</td>\n",
       "      <td>2016-05-22 10:00:49</td>\n",
       "      <td>Animal Services Office</td>\n",
       "      <td>Loose Dog</td>\n",
       "      <td>ACLONAG</td>\n",
       "      <td>2016</td>\n",
       "      <td>5</td>\n",
       "    </tr>\n",
       "    <tr>\n",
       "      <th>2</th>\n",
       "      <td>78744</td>\n",
       "      <td>2014-01-06 18:04:00</td>\n",
       "      <td>Animal Services Office</td>\n",
       "      <td>Loose Animal (not dog)</td>\n",
       "      <td>ACLOANIM</td>\n",
       "      <td>2014</td>\n",
       "      <td>1</td>\n",
       "    </tr>\n",
       "    <tr>\n",
       "      <th>3</th>\n",
       "      <td>78727</td>\n",
       "      <td>2014-11-15 15:43:41</td>\n",
       "      <td>Austin Code Department</td>\n",
       "      <td>Austin Code - Request Code Officer</td>\n",
       "      <td>CODECOMP</td>\n",
       "      <td>2014</td>\n",
       "      <td>11</td>\n",
       "    </tr>\n",
       "    <tr>\n",
       "      <th>4</th>\n",
       "      <td>78723</td>\n",
       "      <td>2014-07-28 17:33:00</td>\n",
       "      <td>Animal Services Office</td>\n",
       "      <td>Animal - Proper Care</td>\n",
       "      <td>ACPROPER</td>\n",
       "      <td>2014</td>\n",
       "      <td>7</td>\n",
       "    </tr>\n",
       "  </tbody>\n",
       "</table>\n",
       "</div>"
      ],
      "text/plain": [
       "   incident_zip        created_date       owning_department  \\\n",
       "0         78741 2015-01-20 10:41:48  Animal Services Office   \n",
       "1         78757 2016-05-22 10:00:49  Animal Services Office   \n",
       "2         78744 2014-01-06 18:04:00  Animal Services Office   \n",
       "3         78727 2014-11-15 15:43:41  Austin Code Department   \n",
       "4         78723 2014-07-28 17:33:00  Animal Services Office   \n",
       "\n",
       "                complaint_description complaint_type  year  month  \n",
       "0                           Loose Dog        ACLONAG  2015      1  \n",
       "1                           Loose Dog        ACLONAG  2016      5  \n",
       "2              Loose Animal (not dog)       ACLOANIM  2014      1  \n",
       "3  Austin Code - Request Code Officer       CODECOMP  2014     11  \n",
       "4                Animal - Proper Care       ACPROPER  2014      7  "
      ]
     },
     "execution_count": 19,
     "metadata": {},
     "output_type": "execute_result"
    }
   ],
   "source": [
    "#Drop the City and County\n",
    "austin311_df.drop('city',axis=1, inplace=True)\n",
    "austin311_df.drop('county',axis=1, inplace=True)\n",
    "\n",
    "#Change the date to a datetime format.\n",
    "austin311_df['created_date'] = pd.to_datetime(austin311_df['created_date'], format='%Y/%m/%d')\n",
    "\n",
    "#Create columns for year and month. \n",
    "austin311_df['year'] = austin311_df['created_date'].dt.year\n",
    "austin311_df['month'] = austin311_df['created_date'].dt.month\n",
    "#austin311_df['Month'] = austin311_df['Date'].dt.strftime(\"%B\") for adding the text for month.\n",
    "austin311_df.head()"
   ]
  },
  {
   "cell_type": "code",
   "execution_count": 20,
   "metadata": {},
   "outputs": [
    {
     "data": {
      "text/html": [
       "<div>\n",
       "<style>\n",
       "    .dataframe thead tr:only-child th {\n",
       "        text-align: right;\n",
       "    }\n",
       "\n",
       "    .dataframe thead th {\n",
       "        text-align: left;\n",
       "    }\n",
       "\n",
       "    .dataframe tbody tr th {\n",
       "        vertical-align: top;\n",
       "    }\n",
       "</style>\n",
       "<table border=\"1\" class=\"dataframe\">\n",
       "  <thead>\n",
       "    <tr style=\"text-align: right;\">\n",
       "      <th></th>\n",
       "      <th>incident_zip</th>\n",
       "      <th>created_date</th>\n",
       "      <th>owning_department</th>\n",
       "      <th>complaint_description</th>\n",
       "      <th>complaint_type</th>\n",
       "      <th>year</th>\n",
       "      <th>month</th>\n",
       "    </tr>\n",
       "  </thead>\n",
       "  <tbody>\n",
       "    <tr>\n",
       "      <th>0</th>\n",
       "      <td>78741</td>\n",
       "      <td>2015-01-20 10:41:48</td>\n",
       "      <td>Animal Services Office</td>\n",
       "      <td>Loose Dog</td>\n",
       "      <td>ACLONAG</td>\n",
       "      <td>2015</td>\n",
       "      <td>1</td>\n",
       "    </tr>\n",
       "    <tr>\n",
       "      <th>1</th>\n",
       "      <td>78757</td>\n",
       "      <td>2016-05-22 10:00:49</td>\n",
       "      <td>Animal Services Office</td>\n",
       "      <td>Loose Dog</td>\n",
       "      <td>ACLONAG</td>\n",
       "      <td>2016</td>\n",
       "      <td>5</td>\n",
       "    </tr>\n",
       "    <tr>\n",
       "      <th>2</th>\n",
       "      <td>78744</td>\n",
       "      <td>2014-01-06 18:04:00</td>\n",
       "      <td>Animal Services Office</td>\n",
       "      <td>Loose Animal (not dog)</td>\n",
       "      <td>ACLOANIM</td>\n",
       "      <td>2014</td>\n",
       "      <td>1</td>\n",
       "    </tr>\n",
       "    <tr>\n",
       "      <th>3</th>\n",
       "      <td>78727</td>\n",
       "      <td>2014-11-15 15:43:41</td>\n",
       "      <td>Austin Code Department</td>\n",
       "      <td>Austin Code - Request Code Officer</td>\n",
       "      <td>CODECOMP</td>\n",
       "      <td>2014</td>\n",
       "      <td>11</td>\n",
       "    </tr>\n",
       "    <tr>\n",
       "      <th>4</th>\n",
       "      <td>78723</td>\n",
       "      <td>2014-07-28 17:33:00</td>\n",
       "      <td>Animal Services Office</td>\n",
       "      <td>Animal - Proper Care</td>\n",
       "      <td>ACPROPER</td>\n",
       "      <td>2014</td>\n",
       "      <td>7</td>\n",
       "    </tr>\n",
       "  </tbody>\n",
       "</table>\n",
       "</div>"
      ],
      "text/plain": [
       "   incident_zip        created_date       owning_department  \\\n",
       "0         78741 2015-01-20 10:41:48  Animal Services Office   \n",
       "1         78757 2016-05-22 10:00:49  Animal Services Office   \n",
       "2         78744 2014-01-06 18:04:00  Animal Services Office   \n",
       "3         78727 2014-11-15 15:43:41  Austin Code Department   \n",
       "4         78723 2014-07-28 17:33:00  Animal Services Office   \n",
       "\n",
       "                complaint_description complaint_type  year  month  \n",
       "0                           Loose Dog        ACLONAG  2015      1  \n",
       "1                           Loose Dog        ACLONAG  2016      5  \n",
       "2              Loose Animal (not dog)       ACLOANIM  2014      1  \n",
       "3  Austin Code - Request Code Officer       CODECOMP  2014     11  \n",
       "4                Animal - Proper Care       ACPROPER  2014      7  "
      ]
     },
     "execution_count": 20,
     "metadata": {},
     "output_type": "execute_result"
    }
   ],
   "source": [
    "austin311_df.head()"
   ]
  },
  {
   "cell_type": "code",
   "execution_count": 21,
   "metadata": {},
   "outputs": [
    {
     "data": {
      "text/plain": [
       "Animal Services Office                          83959\n",
       "Austin Code Department                          77176\n",
       "Transportation                                  73168\n",
       "Austin Resource Recovery                        62244\n",
       "Public Works                                    42411\n",
       "Austin Energy Department                        17450\n",
       "Parks & Recreation Department                   16114\n",
       "Health & Human Services                         13759\n",
       "Economic Development Department                 12078\n",
       "Austin Water Utility                            10619\n",
       "Watershed Protection                             9021\n",
       "Public Health                                    3838\n",
       "Austin Water                                      781\n",
       "Neighborhood Housing & Community Development      120\n",
       "Austin Fire Department                             63\n",
       "Neighborhood Housing & Community                   50\n",
       "Office of Emergency Management                      1\n",
       "Name: owning_department, dtype: int64"
      ]
     },
     "execution_count": 21,
     "metadata": {},
     "output_type": "execute_result"
    }
   ],
   "source": [
    "austin311_df['owning_department'].value_counts()"
   ]
  },
  {
   "cell_type": "code",
   "execution_count": 63,
   "metadata": {},
   "outputs": [
    {
     "data": {
      "image/png": "[encoded data removed]",
      "text/plain": [
       "<matplotlib.figure.Figure at 0x22e0be16dd8>"
      ]
     },
     "metadata": {},
     "output_type": "display_data"
    }
   ],
   "source": [
    "pd.value_counts(austin311_df['owning_department']).plot.bar(color = \"forestgreen\")\n",
    "# plt.tight_layout()\n",
    "plt.gcf().subplots_adjust(bottom=0.45)\n",
    "plt.title('Austin 311 Calls Dec 2013 - Aug 2017', fontsize=20, color = \"seagreen\")\n",
    "plt.xlabel('Department', fontsize=16, color = \"darkgreen\")\n",
    "plt.ylabel('Number of Calls', fontsize=16, color = \"darkgreen\")\n",
    "plt.savefig(\"overviewbydepartment.png\")\n",
    "plt.show()"
   ]
  },
  {
   "cell_type": "code",
   "execution_count": 23,
   "metadata": {},
   "outputs": [
    {
     "name": "stdout",
     "output_type": "stream",
     "text": [
      "0      Animal Services Office\n",
      "1      Austin Code Department\n",
      "2              Transportation\n",
      "3    Austin Resource Recovery\n",
      "4                Public Works\n",
      "Name: index, dtype: object\n"
     ]
    }
   ],
   "source": [
    "# most common types of issues (count over 30000)\n",
    "top_complaints = austin311_df.owning_department.value_counts().reset_index(name=\"count\").query(\"count > 30000\")[\"index\"]\n",
    "print(top_complaints)"
   ]
  },
  {
   "cell_type": "code",
   "execution_count": 24,
   "metadata": {},
   "outputs": [
    {
     "data": {
      "text/html": [
       "<div>\n",
       "<style>\n",
       "    .dataframe thead tr:only-child th {\n",
       "        text-align: right;\n",
       "    }\n",
       "\n",
       "    .dataframe thead th {\n",
       "        text-align: left;\n",
       "    }\n",
       "\n",
       "    .dataframe tbody tr th {\n",
       "        vertical-align: top;\n",
       "    }\n",
       "</style>\n",
       "<table border=\"1\" class=\"dataframe\">\n",
       "  <thead>\n",
       "    <tr style=\"text-align: right;\">\n",
       "      <th></th>\n",
       "      <th>incident_zip</th>\n",
       "      <th>created_date</th>\n",
       "      <th>owning_department</th>\n",
       "      <th>complaint_description</th>\n",
       "      <th>complaint_type</th>\n",
       "      <th>year</th>\n",
       "      <th>month</th>\n",
       "    </tr>\n",
       "  </thead>\n",
       "  <tbody>\n",
       "    <tr>\n",
       "      <th>0</th>\n",
       "      <td>78741</td>\n",
       "      <td>2015-01-20 10:41:48</td>\n",
       "      <td>Animal Services Office</td>\n",
       "      <td>Loose Dog</td>\n",
       "      <td>ACLONAG</td>\n",
       "      <td>2015</td>\n",
       "      <td>1</td>\n",
       "    </tr>\n",
       "    <tr>\n",
       "      <th>1</th>\n",
       "      <td>78757</td>\n",
       "      <td>2016-05-22 10:00:49</td>\n",
       "      <td>Animal Services Office</td>\n",
       "      <td>Loose Dog</td>\n",
       "      <td>ACLONAG</td>\n",
       "      <td>2016</td>\n",
       "      <td>5</td>\n",
       "    </tr>\n",
       "    <tr>\n",
       "      <th>2</th>\n",
       "      <td>78744</td>\n",
       "      <td>2014-01-06 18:04:00</td>\n",
       "      <td>Animal Services Office</td>\n",
       "      <td>Loose Animal (not dog)</td>\n",
       "      <td>ACLOANIM</td>\n",
       "      <td>2014</td>\n",
       "      <td>1</td>\n",
       "    </tr>\n",
       "    <tr>\n",
       "      <th>4</th>\n",
       "      <td>78723</td>\n",
       "      <td>2014-07-28 17:33:00</td>\n",
       "      <td>Animal Services Office</td>\n",
       "      <td>Animal - Proper Care</td>\n",
       "      <td>ACPROPER</td>\n",
       "      <td>2014</td>\n",
       "      <td>7</td>\n",
       "    </tr>\n",
       "    <tr>\n",
       "      <th>5</th>\n",
       "      <td>78702</td>\n",
       "      <td>2016-06-20 16:44:00</td>\n",
       "      <td>Animal Services Office</td>\n",
       "      <td>Animal - Proper Care</td>\n",
       "      <td>ACPROPER</td>\n",
       "      <td>2016</td>\n",
       "      <td>6</td>\n",
       "    </tr>\n",
       "  </tbody>\n",
       "</table>\n",
       "</div>"
      ],
      "text/plain": [
       "   incident_zip        created_date       owning_department  \\\n",
       "0         78741 2015-01-20 10:41:48  Animal Services Office   \n",
       "1         78757 2016-05-22 10:00:49  Animal Services Office   \n",
       "2         78744 2014-01-06 18:04:00  Animal Services Office   \n",
       "4         78723 2014-07-28 17:33:00  Animal Services Office   \n",
       "5         78702 2016-06-20 16:44:00  Animal Services Office   \n",
       "\n",
       "    complaint_description complaint_type  year  month  \n",
       "0               Loose Dog        ACLONAG  2015      1  \n",
       "1               Loose Dog        ACLONAG  2016      5  \n",
       "2  Loose Animal (not dog)       ACLOANIM  2014      1  \n",
       "4    Animal - Proper Care       ACPROPER  2014      7  \n",
       "5    Animal - Proper Care       ACPROPER  2016      6  "
      ]
     },
     "execution_count": 24,
     "metadata": {},
     "output_type": "execute_result"
    }
   ],
   "source": [
    "#animal services information\n",
    "animal_services = austin311_df[austin311_df['owning_department'].str.contains('Animal Services Office')]\n",
    "animal_services.head()"
   ]
  },
  {
   "cell_type": "code",
   "execution_count": 25,
   "metadata": {},
   "outputs": [
    {
     "data": {
      "text/plain": [
       "Loose Dog                              27352\n",
       "Animal Control - Assistance Request    17857\n",
       "Injured / Sick Animal                  13371\n",
       "Animal - Proper Care                    4959\n",
       "Wildlife Exposure                       4601\n",
       "Animal Bite                             4048\n",
       "Found Animal - Pick Up                  2811\n",
       "Found Animal Report - Keep              2628\n",
       "Dangerous/Vicious Dog Investigation     1674\n",
       "Loose Animal Not Dog                    1344\n",
       "Bat Complaint                            963\n",
       "Coyote Complaints                        749\n",
       "Animal In Vehicle                        744\n",
       "Animal Trapped in Storm Drain            371\n",
       "Loose Animal (not dog)                   336\n",
       "Animal Roadside Sales                     77\n",
       "Dangerous Animal - Except Dogs            69\n",
       "zCoyote Complaints                         3\n",
       "Dead Bird                                  1\n",
       "zz - Coyote Compliants                     1\n",
       "Name: complaint_description, dtype: int64"
      ]
     },
     "execution_count": 25,
     "metadata": {},
     "output_type": "execute_result"
    }
   ],
   "source": [
    "animal_services['complaint_description'].value_counts()"
   ]
  },
  {
   "cell_type": "code",
   "execution_count": 26,
   "metadata": {},
   "outputs": [
    {
     "name": "stderr",
     "output_type": "stream",
     "text": [
      "C:\\Users\\Administrator\\AppData\\Local\\conda\\conda\\envs\\py36\\lib\\site-packages\\ipykernel_launcher.py:2: SettingWithCopyWarning: \n",
      "A value is trying to be set on a copy of a slice from a DataFrame.\n",
      "Try using .loc[row_indexer,col_indexer] = value instead\n",
      "\n",
      "See the caveats in the documentation: http://pandas.pydata.org/pandas-docs/stable/indexing.html#indexing-view-versus-copy\n",
      "  \n",
      "C:\\Users\\Administrator\\AppData\\Local\\conda\\conda\\envs\\py36\\lib\\site-packages\\ipykernel_launcher.py:3: SettingWithCopyWarning: \n",
      "A value is trying to be set on a copy of a slice from a DataFrame.\n",
      "Try using .loc[row_indexer,col_indexer] = value instead\n",
      "\n",
      "See the caveats in the documentation: http://pandas.pydata.org/pandas-docs/stable/indexing.html#indexing-view-versus-copy\n",
      "  This is separate from the ipykernel package so we can avoid doing imports until\n"
     ]
    }
   ],
   "source": [
    "#further cleaning  - duplicate columns due to input error\n",
    "animal_services['complaint_description'] = animal_services['complaint_description'].str.replace(\"z\", \"\")\n",
    "animal_services['complaint_description'] = animal_services['complaint_description'].str.replace(\"zz - Coyote Compliants\", \"Coyote Complaints\")"
   ]
  },
  {
   "cell_type": "code",
   "execution_count": 27,
   "metadata": {
    "collapsed": true
   },
   "outputs": [],
   "source": [
    "#animal services complaint by zip code\n",
    "#animal_services['incident_zip'].value_counts()"
   ]
  },
  {
   "cell_type": "code",
   "execution_count": 28,
   "metadata": {},
   "outputs": [
    {
     "data": {
      "text/plain": [
       "0    78744\n",
       "1    78745\n",
       "2    78741\n",
       "3    78753\n",
       "4    78758\n",
       "5    78704\n",
       "6    78702\n",
       "7    78723\n",
       "8    78748\n",
       "9    78724\n",
       "Name: index, dtype: int64"
      ]
     },
     "execution_count": 28,
     "metadata": {},
     "output_type": "execute_result"
    }
   ],
   "source": [
    "#top zip codes with the most animal services complaints (> 3000)\n",
    "animal_services.incident_zip.value_counts().reset_index(name=\"count\").query(\"count > 3000\")[\"index\"]"
   ]
  },
  {
   "cell_type": "code",
   "execution_count": 29,
   "metadata": {},
   "outputs": [
    {
     "name": "stdout",
     "output_type": "stream",
     "text": [
      "0                              Loose Dog\n",
      "1    Animal Control - Assistance Request\n",
      "2                  Injured / Sick Animal\n",
      "3                   Animal - Proper Care\n",
      "4                      Wildlife Exposure\n",
      "5                            Animal Bite\n",
      "Name: index, dtype: object\n"
     ]
    }
   ],
   "source": [
    "# most common types of animal complaints (count over 3000)\n",
    "topanimal_complaints = animal_services.complaint_description.value_counts().reset_index(name=\"count\").query(\"count > 3000\")[\"index\"]\n",
    "print(topanimal_complaints)"
   ]
  },
  {
   "cell_type": "code",
   "execution_count": 50,
   "metadata": {},
   "outputs": [
    {
     "data": {
      "image/png": "[encoded data removed]",
      "text/plain": [
       "<matplotlib.figure.Figure at 0x22e0bd58a20>"
      ]
     },
     "metadata": {},
     "output_type": "display_data"
    }
   ],
   "source": [
    "pd.value_counts(animal_services['complaint_description']).plot.bar(color = \"forestgreen\")\n",
    "# plt.tight_layout()\n",
    "plt.gcf().subplots_adjust(bottom=0.35)\n",
    "plt.title('Animal Services Calls', fontsize=20, color = \"seagreen\")\n",
    "plt.xlabel('Type of complaint', fontsize=18, color = \"darkgreen\")\n",
    "plt.ylabel('Number of Calls', fontsize=16, color = \"darkgreen\")\n",
    "plt.savefig(\"overviewanimalservices.png\")\n",
    "plt.show()"
   ]
  },
  {
   "cell_type": "code",
   "execution_count": 31,
   "metadata": {},
   "outputs": [
    {
     "data": {
      "text/html": [
       "<div>\n",
       "<style>\n",
       "    .dataframe thead tr:only-child th {\n",
       "        text-align: right;\n",
       "    }\n",
       "\n",
       "    .dataframe thead th {\n",
       "        text-align: left;\n",
       "    }\n",
       "\n",
       "    .dataframe tbody tr th {\n",
       "        vertical-align: top;\n",
       "    }\n",
       "</style>\n",
       "<table border=\"1\" class=\"dataframe\">\n",
       "  <thead>\n",
       "    <tr style=\"text-align: right;\">\n",
       "      <th></th>\n",
       "      <th>incident_zip</th>\n",
       "      <th>created_date</th>\n",
       "      <th>owning_department</th>\n",
       "      <th>complaint_description</th>\n",
       "      <th>complaint_type</th>\n",
       "      <th>year</th>\n",
       "      <th>month</th>\n",
       "    </tr>\n",
       "  </thead>\n",
       "  <tbody>\n",
       "    <tr>\n",
       "      <th>3</th>\n",
       "      <td>78727</td>\n",
       "      <td>2014-11-15 15:43:41</td>\n",
       "      <td>Austin Code Department</td>\n",
       "      <td>Austin Code - Request Code Officer</td>\n",
       "      <td>CODECOMP</td>\n",
       "      <td>2014</td>\n",
       "      <td>11</td>\n",
       "    </tr>\n",
       "    <tr>\n",
       "      <th>6</th>\n",
       "      <td>78744</td>\n",
       "      <td>2015-08-25 11:03:04</td>\n",
       "      <td>Austin Code Department</td>\n",
       "      <td>Austin Code - Request Code Officer</td>\n",
       "      <td>CODECOMP</td>\n",
       "      <td>2015</td>\n",
       "      <td>8</td>\n",
       "    </tr>\n",
       "    <tr>\n",
       "      <th>9</th>\n",
       "      <td>78759</td>\n",
       "      <td>2017-08-01 12:55:03</td>\n",
       "      <td>Austin Code Department</td>\n",
       "      <td>Austin Code - Request Code Officer</td>\n",
       "      <td>CODECOMP</td>\n",
       "      <td>2017</td>\n",
       "      <td>8</td>\n",
       "    </tr>\n",
       "    <tr>\n",
       "      <th>13</th>\n",
       "      <td>78701</td>\n",
       "      <td>2016-08-17 11:46:27</td>\n",
       "      <td>Austin Code Department</td>\n",
       "      <td>Austin Code - Request Code Officer</td>\n",
       "      <td>CODECOMP</td>\n",
       "      <td>2016</td>\n",
       "      <td>8</td>\n",
       "    </tr>\n",
       "    <tr>\n",
       "      <th>18</th>\n",
       "      <td>78705</td>\n",
       "      <td>2016-09-15 13:52:56</td>\n",
       "      <td>Austin Code Department</td>\n",
       "      <td>Austin Code - Request Code Officer</td>\n",
       "      <td>CODECOMP</td>\n",
       "      <td>2016</td>\n",
       "      <td>9</td>\n",
       "    </tr>\n",
       "  </tbody>\n",
       "</table>\n",
       "</div>"
      ],
      "text/plain": [
       "    incident_zip        created_date       owning_department  \\\n",
       "3          78727 2014-11-15 15:43:41  Austin Code Department   \n",
       "6          78744 2015-08-25 11:03:04  Austin Code Department   \n",
       "9          78759 2017-08-01 12:55:03  Austin Code Department   \n",
       "13         78701 2016-08-17 11:46:27  Austin Code Department   \n",
       "18         78705 2016-09-15 13:52:56  Austin Code Department   \n",
       "\n",
       "                 complaint_description complaint_type  year  month  \n",
       "3   Austin Code - Request Code Officer       CODECOMP  2014     11  \n",
       "6   Austin Code - Request Code Officer       CODECOMP  2015      8  \n",
       "9   Austin Code - Request Code Officer       CODECOMP  2017      8  \n",
       "13  Austin Code - Request Code Officer       CODECOMP  2016      8  \n",
       "18  Austin Code - Request Code Officer       CODECOMP  2016      9  "
      ]
     },
     "execution_count": 31,
     "metadata": {},
     "output_type": "execute_result"
    }
   ],
   "source": [
    "#code department info\n",
    "code_department = austin311_df[austin311_df['owning_department'].str.contains('Austin Code Department')]\n",
    "code_department.head()"
   ]
  },
  {
   "cell_type": "code",
   "execution_count": 32,
   "metadata": {},
   "outputs": [
    {
     "name": "stderr",
     "output_type": "stream",
     "text": [
      "C:\\Users\\Administrator\\AppData\\Local\\conda\\conda\\envs\\py36\\lib\\site-packages\\ipykernel_launcher.py:2: SettingWithCopyWarning: \n",
      "A value is trying to be set on a copy of a slice from a DataFrame.\n",
      "Try using .loc[row_indexer,col_indexer] = value instead\n",
      "\n",
      "See the caveats in the documentation: http://pandas.pydata.org/pandas-docs/stable/indexing.html#indexing-view-versus-copy\n",
      "  \n",
      "C:\\Users\\Administrator\\AppData\\Local\\conda\\conda\\envs\\py36\\lib\\site-packages\\ipykernel_launcher.py:3: SettingWithCopyWarning: \n",
      "A value is trying to be set on a copy of a slice from a DataFrame.\n",
      "Try using .loc[row_indexer,col_indexer] = value instead\n",
      "\n",
      "See the caveats in the documentation: http://pandas.pydata.org/pandas-docs/stable/indexing.html#indexing-view-versus-copy\n",
      "  This is separate from the ipykernel package so we can avoid doing imports until\n"
     ]
    }
   ],
   "source": [
    "#further cleaning  - duplicate columns due to input error\n",
    "code_department['complaint_description'] = code_department['complaint_description'].str.replace(\"Austin Code - \", \"\")\n",
    "code_department['complaint_description'] = code_department['complaint_description'].str.replace(\"Code Compliance - \", \"\")"
   ]
  },
  {
   "cell_type": "code",
   "execution_count": 33,
   "metadata": {},
   "outputs": [
    {
     "data": {
      "text/plain": [
       "0    78745\n",
       "1    78723\n",
       "2    78758\n",
       "3    78753\n",
       "4    78702\n",
       "5    78704\n",
       "6    78741\n",
       "7    78744\n",
       "Name: index, dtype: int64"
      ]
     },
     "execution_count": 33,
     "metadata": {},
     "output_type": "execute_result"
    }
   ],
   "source": [
    "#top zip codes with the most code department complaints (> 3000)\n",
    "code_department.incident_zip.value_counts().reset_index(name=\"count\").query(\"count > 3000\")[\"index\"]"
   ]
  },
  {
   "cell_type": "code",
   "execution_count": 34,
   "metadata": {},
   "outputs": [
    {
     "name": "stdout",
     "output_type": "stream",
     "text": [
      "0                   Request Code Officer\n",
      "1                       Signs/Billboards\n",
      "2         Short Term Rental Complaint SR\n",
      "3    Short Term Rental (STR) Appointment\n",
      "4              Construction Ordinance SR\n",
      "Name: index, dtype: object\n"
     ]
    }
   ],
   "source": [
    "# most common types of code complaints (count over 100)\n",
    "topcode_complaints = code_department.complaint_description.value_counts().reset_index(name=\"count\").query(\"count > 100\")[\"index\"]\n",
    "print(topcode_complaints)"
   ]
  },
  {
   "cell_type": "code",
   "execution_count": 65,
   "metadata": {},
   "outputs": [
    {
     "data": {
      "image/png": "[encoded data removed]",
      "text/plain": [
       "<matplotlib.figure.Figure at 0x22e083daf60>"
      ]
     },
     "metadata": {},
     "output_type": "display_data"
    }
   ],
   "source": [
    "pd.value_counts(code_department['complaint_description']).plot.bar(color = \"forestgreen\")\n",
    "# plt.tight_layout()\n",
    "plt.gcf().subplots_adjust(bottom=0.35)\n",
    "plt.title('Code Department Calls', fontsize=20, color = \"seagreen\")\n",
    "plt.xlabel('Department', fontsize=18, color = \"darkgreen\")\n",
    "plt.ylabel('Number of Calls', fontsize=16, color = \"darkgreen\")\n",
    "plt.savefig(\"overviewcodedepartment.png\")\n",
    "plt.show()"
   ]
  },
  {
   "cell_type": "code",
   "execution_count": 36,
   "metadata": {},
   "outputs": [
    {
     "data": {
      "text/html": [
       "<div>\n",
       "<style>\n",
       "    .dataframe thead tr:only-child th {\n",
       "        text-align: right;\n",
       "    }\n",
       "\n",
       "    .dataframe thead th {\n",
       "        text-align: left;\n",
       "    }\n",
       "\n",
       "    .dataframe tbody tr th {\n",
       "        vertical-align: top;\n",
       "    }\n",
       "</style>\n",
       "<table border=\"1\" class=\"dataframe\">\n",
       "  <thead>\n",
       "    <tr style=\"text-align: right;\">\n",
       "      <th></th>\n",
       "      <th>incident_zip</th>\n",
       "      <th>created_date</th>\n",
       "      <th>owning_department</th>\n",
       "      <th>complaint_description</th>\n",
       "      <th>complaint_type</th>\n",
       "      <th>year</th>\n",
       "      <th>month</th>\n",
       "    </tr>\n",
       "  </thead>\n",
       "  <tbody>\n",
       "    <tr>\n",
       "      <th>14</th>\n",
       "      <td>78702</td>\n",
       "      <td>2014-05-15 10:13:41</td>\n",
       "      <td>Transportation</td>\n",
       "      <td>Sign - Traffic Sign Emergency</td>\n",
       "      <td>SIGNTRAF</td>\n",
       "      <td>2014</td>\n",
       "      <td>5</td>\n",
       "    </tr>\n",
       "    <tr>\n",
       "      <th>22</th>\n",
       "      <td>78742</td>\n",
       "      <td>2014-12-26 10:43:49</td>\n",
       "      <td>Transportation</td>\n",
       "      <td>Traffic Signal - Maintenance</td>\n",
       "      <td>TRASIGMA</td>\n",
       "      <td>2014</td>\n",
       "      <td>12</td>\n",
       "    </tr>\n",
       "    <tr>\n",
       "      <th>30</th>\n",
       "      <td>78701</td>\n",
       "      <td>2016-03-15 18:08:07</td>\n",
       "      <td>Transportation</td>\n",
       "      <td>Traffic Signal - Maintenance</td>\n",
       "      <td>TRASIGMA</td>\n",
       "      <td>2016</td>\n",
       "      <td>3</td>\n",
       "    </tr>\n",
       "    <tr>\n",
       "      <th>33</th>\n",
       "      <td>78703</td>\n",
       "      <td>2016-07-17 19:04:00</td>\n",
       "      <td>Transportation</td>\n",
       "      <td>Traffic Signal - Maintenance</td>\n",
       "      <td>TRASIGMA</td>\n",
       "      <td>2016</td>\n",
       "      <td>7</td>\n",
       "    </tr>\n",
       "    <tr>\n",
       "      <th>40</th>\n",
       "      <td>78751</td>\n",
       "      <td>2014-12-10 13:09:40</td>\n",
       "      <td>Transportation</td>\n",
       "      <td>Traffic Signal - Dig Tess Request</td>\n",
       "      <td>TRAFFI10</td>\n",
       "      <td>2014</td>\n",
       "      <td>12</td>\n",
       "    </tr>\n",
       "  </tbody>\n",
       "</table>\n",
       "</div>"
      ],
      "text/plain": [
       "    incident_zip        created_date owning_department  \\\n",
       "14         78702 2014-05-15 10:13:41    Transportation   \n",
       "22         78742 2014-12-26 10:43:49    Transportation   \n",
       "30         78701 2016-03-15 18:08:07    Transportation   \n",
       "33         78703 2016-07-17 19:04:00    Transportation   \n",
       "40         78751 2014-12-10 13:09:40    Transportation   \n",
       "\n",
       "                complaint_description complaint_type  year  month  \n",
       "14      Sign - Traffic Sign Emergency       SIGNTRAF  2014      5  \n",
       "22       Traffic Signal - Maintenance       TRASIGMA  2014     12  \n",
       "30       Traffic Signal - Maintenance       TRASIGMA  2016      3  \n",
       "33       Traffic Signal - Maintenance       TRASIGMA  2016      7  \n",
       "40  Traffic Signal - Dig Tess Request       TRAFFI10  2014     12  "
      ]
     },
     "execution_count": 36,
     "metadata": {},
     "output_type": "execute_result"
    }
   ],
   "source": [
    "#transportation department information\n",
    "transportation = austin311_df[austin311_df['owning_department'].str.contains('Transportation')]\n",
    "transportation.head()"
   ]
  },
  {
   "cell_type": "code",
   "execution_count": 37,
   "metadata": {},
   "outputs": [
    {
     "data": {
      "text/plain": [
       "0    78701\n",
       "1    78704\n",
       "2    78745\n",
       "3    78702\n",
       "4    78758\n",
       "5    78703\n",
       "6    78723\n",
       "Name: index, dtype: int64"
      ]
     },
     "execution_count": 37,
     "metadata": {},
     "output_type": "execute_result"
    }
   ],
   "source": [
    "#top zip codes with the most transportation complaints (> 3000)\n",
    "transportation.incident_zip.value_counts().reset_index(name=\"count\").query(\"count > 3000\")[\"index\"]"
   ]
  },
  {
   "cell_type": "code",
   "execution_count": 38,
   "metadata": {},
   "outputs": [
    {
     "name": "stdout",
     "output_type": "stream",
     "text": [
      "0         Traffic Signal - Maintenance\n",
      "1    Traffic Signal - Dig Tess Request\n",
      "2                           Sign - New\n",
      "3      Sign - Traffic Sign Maintenance\n",
      "4        Sign - Traffic Sign Emergency\n",
      "5                Parking Machine Issue\n",
      "Name: index, dtype: object\n"
     ]
    }
   ],
   "source": [
    "# most common types of transportation complaints (count over 3000)\n",
    "toptrans_complaints = transportation.complaint_description.value_counts().reset_index(name=\"count\").query(\"count > 3000\")[\"index\"]\n",
    "print(toptrans_complaints)"
   ]
  },
  {
   "cell_type": "code",
   "execution_count": 66,
   "metadata": {},
   "outputs": [
    {
     "data": {
      "image/png": "[encoded data removed]",
      "text/plain": [
       "<matplotlib.figure.Figure at 0x22e0aa0f4a8>"
      ]
     },
     "metadata": {},
     "output_type": "display_data"
    }
   ],
   "source": [
    "pd.value_counts(transportation['complaint_description']).plot.bar(color = \"forestgreen\")\n",
    "# plt.tight_layout()\n",
    "plt.gcf().subplots_adjust(bottom=0.45)\n",
    "plt.title('Transportation Calls', fontsize=20, color= \"seagreen\")\n",
    "plt.xlabel('Department', fontsize=18, color = \"forestgreen\")\n",
    "plt.ylabel('Number of Calls', fontsize=16, color = \"forestgreen\")\n",
    "plt.savefig(\"overviewtransportation.png\")\n",
    "plt.show()"
   ]
  },
  {
   "cell_type": "code",
   "execution_count": 40,
   "metadata": {},
   "outputs": [
    {
     "data": {
      "text/html": [
       "<div>\n",
       "<style>\n",
       "    .dataframe thead tr:only-child th {\n",
       "        text-align: right;\n",
       "    }\n",
       "\n",
       "    .dataframe thead th {\n",
       "        text-align: left;\n",
       "    }\n",
       "\n",
       "    .dataframe tbody tr th {\n",
       "        vertical-align: top;\n",
       "    }\n",
       "</style>\n",
       "<table border=\"1\" class=\"dataframe\">\n",
       "  <thead>\n",
       "    <tr style=\"text-align: right;\">\n",
       "      <th></th>\n",
       "      <th>incident_zip</th>\n",
       "      <th>created_date</th>\n",
       "      <th>owning_department</th>\n",
       "      <th>complaint_description</th>\n",
       "      <th>complaint_type</th>\n",
       "      <th>year</th>\n",
       "      <th>month</th>\n",
       "    </tr>\n",
       "  </thead>\n",
       "  <tbody>\n",
       "    <tr>\n",
       "      <th>47</th>\n",
       "      <td>78721</td>\n",
       "      <td>2016-03-13 13:26:48</td>\n",
       "      <td>Austin Resource Recovery</td>\n",
       "      <td>ARR Missed Recycling</td>\n",
       "      <td>SWSRECYC</td>\n",
       "      <td>2016</td>\n",
       "      <td>3</td>\n",
       "    </tr>\n",
       "    <tr>\n",
       "      <th>62</th>\n",
       "      <td>78731</td>\n",
       "      <td>2017-06-20 09:13:47</td>\n",
       "      <td>Austin Resource Recovery</td>\n",
       "      <td>ARR Dead Animal Collection</td>\n",
       "      <td>SWSDEADA</td>\n",
       "      <td>2017</td>\n",
       "      <td>6</td>\n",
       "    </tr>\n",
       "    <tr>\n",
       "      <th>64</th>\n",
       "      <td>78758</td>\n",
       "      <td>2017-06-15 18:32:01</td>\n",
       "      <td>Austin Resource Recovery</td>\n",
       "      <td>ARR Street Sweeping</td>\n",
       "      <td>SWSSTSWE</td>\n",
       "      <td>2017</td>\n",
       "      <td>6</td>\n",
       "    </tr>\n",
       "    <tr>\n",
       "      <th>68</th>\n",
       "      <td>78757</td>\n",
       "      <td>2017-06-29 22:23:20</td>\n",
       "      <td>Austin Resource Recovery</td>\n",
       "      <td>ARR Missed Recycling</td>\n",
       "      <td>SWSRECYC</td>\n",
       "      <td>2017</td>\n",
       "      <td>6</td>\n",
       "    </tr>\n",
       "    <tr>\n",
       "      <th>83</th>\n",
       "      <td>78727</td>\n",
       "      <td>2015-06-06 13:41:42</td>\n",
       "      <td>Austin Resource Recovery</td>\n",
       "      <td>ARR Dead Animal Collection</td>\n",
       "      <td>SWSDEADA</td>\n",
       "      <td>2015</td>\n",
       "      <td>6</td>\n",
       "    </tr>\n",
       "  </tbody>\n",
       "</table>\n",
       "</div>"
      ],
      "text/plain": [
       "    incident_zip        created_date         owning_department  \\\n",
       "47         78721 2016-03-13 13:26:48  Austin Resource Recovery   \n",
       "62         78731 2017-06-20 09:13:47  Austin Resource Recovery   \n",
       "64         78758 2017-06-15 18:32:01  Austin Resource Recovery   \n",
       "68         78757 2017-06-29 22:23:20  Austin Resource Recovery   \n",
       "83         78727 2015-06-06 13:41:42  Austin Resource Recovery   \n",
       "\n",
       "         complaint_description complaint_type  year  month  \n",
       "47        ARR Missed Recycling       SWSRECYC  2016      3  \n",
       "62  ARR Dead Animal Collection       SWSDEADA  2017      6  \n",
       "64         ARR Street Sweeping       SWSSTSWE  2017      6  \n",
       "68        ARR Missed Recycling       SWSRECYC  2017      6  \n",
       "83  ARR Dead Animal Collection       SWSDEADA  2015      6  "
      ]
     },
     "execution_count": 40,
     "metadata": {},
     "output_type": "execute_result"
    }
   ],
   "source": [
    "resource_recovery = austin311_df[austin311_df['owning_department'].str.contains('Austin Resource Recovery')]\n",
    "resource_recovery.head()"
   ]
  },
  {
   "cell_type": "code",
   "execution_count": 41,
   "metadata": {},
   "outputs": [
    {
     "name": "stderr",
     "output_type": "stream",
     "text": [
      "C:\\Users\\Administrator\\AppData\\Local\\conda\\conda\\envs\\py36\\lib\\site-packages\\ipykernel_launcher.py:2: SettingWithCopyWarning: \n",
      "A value is trying to be set on a copy of a slice from a DataFrame.\n",
      "Try using .loc[row_indexer,col_indexer] = value instead\n",
      "\n",
      "See the caveats in the documentation: http://pandas.pydata.org/pandas-docs/stable/indexing.html#indexing-view-versus-copy\n",
      "  \n",
      "C:\\Users\\Administrator\\AppData\\Local\\conda\\conda\\envs\\py36\\lib\\site-packages\\ipykernel_launcher.py:3: SettingWithCopyWarning: \n",
      "A value is trying to be set on a copy of a slice from a DataFrame.\n",
      "Try using .loc[row_indexer,col_indexer] = value instead\n",
      "\n",
      "See the caveats in the documentation: http://pandas.pydata.org/pandas-docs/stable/indexing.html#indexing-view-versus-copy\n",
      "  This is separate from the ipykernel package so we can avoid doing imports until\n"
     ]
    }
   ],
   "source": [
    "#resource recovery also needs further cleaning\n",
    "resource_recovery['complaint_description'] = resource_recovery['complaint_description'].str.replace(\"Austin Code - \", \"\")\n",
    "resource_recovery['complaint_description'] = resource_recovery['complaint_description'].str.replace(\"ARR \", \"\")"
   ]
  },
  {
   "cell_type": "code",
   "execution_count": 42,
   "metadata": {},
   "outputs": [
    {
     "data": {
      "text/plain": [
       "0    78745\n",
       "1    78704\n",
       "2    78702\n",
       "3    78759\n",
       "4    78748\n",
       "5    78731\n",
       "6    78744\n",
       "Name: index, dtype: int64"
      ]
     },
     "execution_count": 42,
     "metadata": {},
     "output_type": "execute_result"
    }
   ],
   "source": [
    "#top number of complaints by zip (> 3000)\n",
    "resource_recovery.incident_zip.value_counts().reset_index(name=\"count\").query(\"count > 3000\")[\"index\"]"
   ]
  },
  {
   "cell_type": "code",
   "execution_count": 43,
   "metadata": {},
   "outputs": [
    {
     "name": "stdout",
     "output_type": "stream",
     "text": [
      "0                   Missed Recycling\n",
      "1             Dead Animal Collection\n",
      "2    Missed Yard Trimmings /Organics\n",
      "3                     Brush and Bulk\n",
      "4                    Street Sweeping\n",
      "5               Request Code Officer\n",
      "Name: index, dtype: object\n"
     ]
    }
   ],
   "source": [
    "# most common types of resource recovery complaints (count over 1000)\n",
    "topresource_complaints = resource_recovery.complaint_description.value_counts().reset_index(name=\"count\").query(\"count > 1000\")[\"index\"]\n",
    "print(topresource_complaints)"
   ]
  },
  {
   "cell_type": "code",
   "execution_count": 67,
   "metadata": {},
   "outputs": [
    {
     "data": {
      "image/png": "[encoded data removed]",
      "text/plain": [
       "<matplotlib.figure.Figure at 0x22e0bea8be0>"
      ]
     },
     "metadata": {},
     "output_type": "display_data"
    }
   ],
   "source": [
    "pd.value_counts(resource_recovery['complaint_description']).plot.bar(color = \"forestgreen\")\n",
    "# plt.tight_layout()\n",
    "plt.gcf().subplots_adjust(bottom=0.45)\n",
    "plt.title('Resource Recovery Calls', fontsize=20, color = \"seagreen\")\n",
    "plt.xlabel('Department', fontsize=18, color = \"darkgreen\")\n",
    "plt.ylabel('Number of Calls', fontsize=16, color = \"darkgreen\")\n",
    "plt.savefig(\"overviewresourcerecovery.png\")\n",
    "plt.show()"
   ]
  },
  {
   "cell_type": "code",
   "execution_count": 45,
   "metadata": {},
   "outputs": [
    {
     "data": {
      "text/html": [
       "<div>\n",
       "<style>\n",
       "    .dataframe thead tr:only-child th {\n",
       "        text-align: right;\n",
       "    }\n",
       "\n",
       "    .dataframe thead th {\n",
       "        text-align: left;\n",
       "    }\n",
       "\n",
       "    .dataframe tbody tr th {\n",
       "        vertical-align: top;\n",
       "    }\n",
       "</style>\n",
       "<table border=\"1\" class=\"dataframe\">\n",
       "  <thead>\n",
       "    <tr style=\"text-align: right;\">\n",
       "      <th></th>\n",
       "      <th>incident_zip</th>\n",
       "      <th>created_date</th>\n",
       "      <th>owning_department</th>\n",
       "      <th>complaint_description</th>\n",
       "      <th>complaint_type</th>\n",
       "      <th>year</th>\n",
       "      <th>month</th>\n",
       "    </tr>\n",
       "  </thead>\n",
       "  <tbody>\n",
       "    <tr>\n",
       "      <th>12</th>\n",
       "      <td>78702</td>\n",
       "      <td>2016-03-09 14:46:45</td>\n",
       "      <td>Public Works</td>\n",
       "      <td>Pavement Failure</td>\n",
       "      <td>SBPAVEFA</td>\n",
       "      <td>2016</td>\n",
       "      <td>3</td>\n",
       "    </tr>\n",
       "    <tr>\n",
       "      <th>41</th>\n",
       "      <td>78704</td>\n",
       "      <td>2015-06-03 14:08:48</td>\n",
       "      <td>Public Works</td>\n",
       "      <td>Obstruction in ROW</td>\n",
       "      <td>OBSTMIDB</td>\n",
       "      <td>2015</td>\n",
       "      <td>6</td>\n",
       "    </tr>\n",
       "    <tr>\n",
       "      <th>42</th>\n",
       "      <td>78705</td>\n",
       "      <td>2016-10-05 11:53:42</td>\n",
       "      <td>Public Works</td>\n",
       "      <td>Curb/Gutter Repair</td>\n",
       "      <td>SBCURBGU</td>\n",
       "      <td>2016</td>\n",
       "      <td>10</td>\n",
       "    </tr>\n",
       "    <tr>\n",
       "      <th>48</th>\n",
       "      <td>78753</td>\n",
       "      <td>2014-02-06 15:53:16</td>\n",
       "      <td>Public Works</td>\n",
       "      <td>Pothole Repair</td>\n",
       "      <td>SBPOTREP</td>\n",
       "      <td>2014</td>\n",
       "      <td>2</td>\n",
       "    </tr>\n",
       "    <tr>\n",
       "      <th>57</th>\n",
       "      <td>78704</td>\n",
       "      <td>2016-04-25 16:20:11</td>\n",
       "      <td>Public Works</td>\n",
       "      <td>Tree Issue ROW/Emergency (PW)</td>\n",
       "      <td>PRTRROWE</td>\n",
       "      <td>2016</td>\n",
       "      <td>4</td>\n",
       "    </tr>\n",
       "  </tbody>\n",
       "</table>\n",
       "</div>"
      ],
      "text/plain": [
       "    incident_zip        created_date owning_department  \\\n",
       "12         78702 2016-03-09 14:46:45      Public Works   \n",
       "41         78704 2015-06-03 14:08:48      Public Works   \n",
       "42         78705 2016-10-05 11:53:42      Public Works   \n",
       "48         78753 2014-02-06 15:53:16      Public Works   \n",
       "57         78704 2016-04-25 16:20:11      Public Works   \n",
       "\n",
       "            complaint_description complaint_type  year  month  \n",
       "12               Pavement Failure       SBPAVEFA  2016      3  \n",
       "41             Obstruction in ROW       OBSTMIDB  2015      6  \n",
       "42             Curb/Gutter Repair       SBCURBGU  2016     10  \n",
       "48                 Pothole Repair       SBPOTREP  2014      2  \n",
       "57  Tree Issue ROW/Emergency (PW)       PRTRROWE  2016      4  "
      ]
     },
     "execution_count": 45,
     "metadata": {},
     "output_type": "execute_result"
    }
   ],
   "source": [
    "public_works = austin311_df[austin311_df['owning_department'].str.contains('Public Works')]\n",
    "public_works.head()"
   ]
  },
  {
   "cell_type": "code",
   "execution_count": 46,
   "metadata": {},
   "outputs": [
    {
     "data": {
      "text/plain": [
       "0    78745\n",
       "1    78704\n",
       "2    78702\n",
       "3    78703\n",
       "4    78744\n",
       "5    78705\n",
       "Name: index, dtype: int64"
      ]
     },
     "execution_count": 46,
     "metadata": {},
     "output_type": "execute_result"
    }
   ],
   "source": [
    "#top number of complaints by zip (> 2000)\n",
    "public_works.incident_zip.value_counts().reset_index(name=\"count\").query(\"count > 2000\")[\"index\"]"
   ]
  },
  {
   "cell_type": "code",
   "execution_count": 47,
   "metadata": {},
   "outputs": [
    {
     "name": "stdout",
     "output_type": "stream",
     "text": [
      "0                        Pothole Repair\n",
      "1                      Debris in Street\n",
      "2                    Obstruction in ROW\n",
      "3       Tree Issue ROW/Maintenance (PW)\n",
      "4         Tree Issue ROW/Emergency (PW)\n",
      "5                       Sidewalk Repair\n",
      "6                      Pavement Failure\n",
      "7    Alley & Unpaved Street Maintenance\n",
      "8                        Mowing Medians\n",
      "Name: index, dtype: object\n"
     ]
    }
   ],
   "source": [
    "# most common types of public works complaints (count over 1000)\n",
    "topworks_complaints = public_works.complaint_description.value_counts().reset_index(name=\"count\").query(\"count > 1000\")[\"index\"]\n",
    "print(topworks_complaints)"
   ]
  },
  {
   "cell_type": "code",
   "execution_count": 68,
   "metadata": {},
   "outputs": [
    {
     "data": {
      "image/png": "[encoded data removed]",
      "text/plain": [
       "<matplotlib.figure.Figure at 0x22e0ae2edd8>"
      ]
     },
     "metadata": {},
     "output_type": "display_data"
    }
   ],
   "source": [
    "pd.value_counts(public_works['complaint_description']).plot.bar(color = \"forestgreen\")\n",
    "plt.gcf().subplots_adjust(bottom=0.45)\n",
    "# plt.tight_layout()\n",
    "plt.title('Public Works Calls', fontsize=20, color = \"seagreen\")\n",
    "plt.xlabel('Department', fontsize=18, color = \"darkgreen\")\n",
    "plt.ylabel('Number of Calls', fontsize=16, color = \"darkgreen\")\n",
    "plt.savefig(\"overviewpublicworks.png\")\n",
    "plt.show()"
   ]
  },
  {
   "cell_type": "code",
   "execution_count": null,
   "metadata": {
    "collapsed": true
   },
   "outputs": [],
   "source": []
  },
  {
   "cell_type": "code",
   "execution_count": null,
   "metadata": {
    "collapsed": true
   },
   "outputs": [],
   "source": []
  },
  {
   "cell_type": "code",
   "execution_count": null,
   "metadata": {
    "collapsed": true
   },
   "outputs": [],
   "source": []
  }
 ],
 "metadata": {
  "kernelspec": {
   "display_name": "Python 3",
   "language": "python",
   "name": "python3"
  },
  "language_info": {
   "codemirror_mode": {
    "name": "ipython",
    "version": 3
   },
   "file_extension": ".py",
   "mimetype": "text/x-python",
   "name": "python",
   "nbconvert_exporter": "python",
   "pygments_lexer": "ipython3",
   "version": "3.6.2"
  }
 },
 "nbformat": 4,
 "nbformat_minor": 2
}
