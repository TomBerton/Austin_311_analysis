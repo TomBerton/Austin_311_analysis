{
 "cells": [
  {
   "cell_type": "code",
   "execution_count": 1,
   "metadata": {
    "collapsed": true
   },
   "outputs": [],
   "source": [
    "#dependencies\n",
    "import pandas as pd\n",
    "import numpy as np\n",
    "import os\n",
    "import csv\n",
    "import matplotlib.pyplot as plt"
   ]
  },
  {
   "cell_type": "code",
   "execution_count": 2,
   "metadata": {},
   "outputs": [
    {
     "data": {
      "text/html": [
       "<div>\n",
       "<style>\n",
       "    .dataframe thead tr:only-child th {\n",
       "        text-align: right;\n",
       "    }\n",
       "\n",
       "    .dataframe thead th {\n",
       "        text-align: left;\n",
       "    }\n",
       "\n",
       "    .dataframe tbody tr th {\n",
       "        vertical-align: top;\n",
       "    }\n",
       "</style>\n",
       "<table border=\"1\" class=\"dataframe\">\n",
       "  <thead>\n",
       "    <tr style=\"text-align: right;\">\n",
       "      <th></th>\n",
       "      <th>incident_zip</th>\n",
       "      <th>owning_department</th>\n",
       "      <th>complaint_description</th>\n",
       "      <th>complaint_type</th>\n",
       "      <th>latitude</th>\n",
       "      <th>longitude</th>\n",
       "      <th>year</th>\n",
       "      <th>month</th>\n",
       "    </tr>\n",
       "  </thead>\n",
       "  <tbody>\n",
       "    <tr>\n",
       "      <th>0</th>\n",
       "      <td>78741</td>\n",
       "      <td>Animal Services Office</td>\n",
       "      <td>Loose Dog</td>\n",
       "      <td>ACLONAG</td>\n",
       "      <td>30.224549</td>\n",
       "      <td>-97.690675</td>\n",
       "      <td>2015</td>\n",
       "      <td>1</td>\n",
       "    </tr>\n",
       "    <tr>\n",
       "      <th>1</th>\n",
       "      <td>78757</td>\n",
       "      <td>Animal Services Office</td>\n",
       "      <td>Loose Dog</td>\n",
       "      <td>ACLONAG</td>\n",
       "      <td>30.350881</td>\n",
       "      <td>-97.747492</td>\n",
       "      <td>2016</td>\n",
       "      <td>5</td>\n",
       "    </tr>\n",
       "    <tr>\n",
       "      <th>2</th>\n",
       "      <td>78744</td>\n",
       "      <td>Animal Services Office</td>\n",
       "      <td>Loose Animal (not dog)</td>\n",
       "      <td>ACLOANIM</td>\n",
       "      <td>30.199263</td>\n",
       "      <td>-97.711366</td>\n",
       "      <td>2014</td>\n",
       "      <td>1</td>\n",
       "    </tr>\n",
       "    <tr>\n",
       "      <th>3</th>\n",
       "      <td>78727</td>\n",
       "      <td>Austin Code Department</td>\n",
       "      <td>Austin Code - Request Code Officer</td>\n",
       "      <td>CODECOMP</td>\n",
       "      <td>30.425112</td>\n",
       "      <td>-97.707188</td>\n",
       "      <td>2014</td>\n",
       "      <td>11</td>\n",
       "    </tr>\n",
       "    <tr>\n",
       "      <th>4</th>\n",
       "      <td>78723</td>\n",
       "      <td>Animal Services Office</td>\n",
       "      <td>Animal - Proper Care</td>\n",
       "      <td>ACPROPER</td>\n",
       "      <td>30.311821</td>\n",
       "      <td>-97.669302</td>\n",
       "      <td>2014</td>\n",
       "      <td>7</td>\n",
       "    </tr>\n",
       "  </tbody>\n",
       "</table>\n",
       "</div>"
      ],
      "text/plain": [
       "   incident_zip       owning_department               complaint_description  \\\n",
       "0         78741  Animal Services Office                           Loose Dog   \n",
       "1         78757  Animal Services Office                           Loose Dog   \n",
       "2         78744  Animal Services Office              Loose Animal (not dog)   \n",
       "3         78727  Austin Code Department  Austin Code - Request Code Officer   \n",
       "4         78723  Animal Services Office                Animal - Proper Care   \n",
       "\n",
       "  complaint_type   latitude  longitude  year  month  \n",
       "0        ACLONAG  30.224549 -97.690675  2015      1  \n",
       "1        ACLONAG  30.350881 -97.747492  2016      5  \n",
       "2       ACLOANIM  30.199263 -97.711366  2014      1  \n",
       "3       CODECOMP  30.425112 -97.707188  2014     11  \n",
       "4       ACPROPER  30.311821 -97.669302  2014      7  "
      ]
     },
     "execution_count": 2,
     "metadata": {},
     "output_type": "execute_result"
    }
   ],
   "source": [
    "#read in cleaned CSV file\n",
    "austin311_df = pd.read_csv('All_Austin_311.csv',low_memory=False)\n",
    "austin311_df.head()"
   ]
  },
  {
   "cell_type": "code",
   "execution_count": 3,
   "metadata": {},
   "outputs": [
    {
     "data": {
      "text/plain": [
       "Animal Services Office                          83957\n",
       "Austin Code Department                          77176\n",
       "Transportation                                  73159\n",
       "Austin Resource Recovery                        62241\n",
       "Public Works                                    42409\n",
       "Austin Energy Department                        17447\n",
       "Parks & Recreation Department                   16111\n",
       "Health & Human Services                         13759\n",
       "Economic Development Department                 12078\n",
       "Austin Water Utility                            10616\n",
       "Watershed Protection                             9021\n",
       "Public Health                                    3838\n",
       "Austin Water                                      781\n",
       "Neighborhood Housing & Community Development      120\n",
       "Austin Fire Department                             63\n",
       "Neighborhood Housing & Community                   50\n",
       "Office of Emergency Management                      1\n",
       "Name: owning_department, dtype: int64"
      ]
     },
     "execution_count": 3,
     "metadata": {},
     "output_type": "execute_result"
    }
   ],
   "source": [
    "#check out how many departments and how many complaints by department \n",
    "austin311_df['owning_department'].value_counts()"
   ]
  },
  {
   "cell_type": "code",
   "execution_count": 4,
   "metadata": {
    "collapsed": true
   },
   "outputs": [],
   "source": [
    "#combine departments with nominal complaints into a category \"other\"\n",
    "austin311_df['owning_department'] = austin311_df['owning_department'].str.replace(\"Public Health\", \"Other\")\n",
    "austin311_df['owning_department'] = austin311_df['owning_department'].str.replace(\"Austin Water\", \"Other\")\n",
    "austin311_df['owning_department'] = austin311_df['owning_department'].str.replace(\"Neighborhood Housing & Community Development\", \"Other\")\n",
    "austin311_df['owning_department'] = austin311_df['owning_department'].str.replace(\"Austin Fire Department\", \"Other\")\n",
    "austin311_df['owning_department'] = austin311_df['owning_department'].str.replace(\"Neighborhood Housing & Community\", \"Other\")\n",
    "austin311_df['owning_department'] = austin311_df['owning_department'].str.replace(\"Office of Emergency Management\", \"Other\")"
   ]
  },
  {
   "cell_type": "code",
   "execution_count": 5,
   "metadata": {},
   "outputs": [
    {
     "data": {
      "text/plain": [
       "Animal Services Office             83957\n",
       "Austin Code Department             77176\n",
       "Transportation                     73159\n",
       "Austin Resource Recovery           62241\n",
       "Public Works                       42409\n",
       "Austin Energy Department           17447\n",
       "Parks & Recreation Department      16111\n",
       "Health & Human Services            13759\n",
       "Economic Development Department    12078\n",
       "Other Utility                      10616\n",
       "Watershed Protection                9021\n",
       "Other                               4853\n",
       "Name: owning_department, dtype: int64"
      ]
     },
     "execution_count": 5,
     "metadata": {},
     "output_type": "execute_result"
    }
   ],
   "source": [
    "#recheck departments to verify new category \"other\"\n",
    "austin311_df['owning_department'].value_counts()"
   ]
  },
  {
   "cell_type": "code",
   "execution_count": 6,
   "metadata": {},
   "outputs": [
    {
     "name": "stdout",
     "output_type": "stream",
     "text": [
      "Current size: [6.0, 4.0]\n"
     ]
    }
   ],
   "source": [
    "# Get current size of plots\n",
    "fig_size = plt.rcParams[\"figure.figsize\"]\n",
    " \n",
    "# Prints: \n",
    "print(\"Current size:\", fig_size)"
   ]
  },
  {
   "cell_type": "code",
   "execution_count": 7,
   "metadata": {
    "collapsed": true
   },
   "outputs": [],
   "source": [
    "# Set figure width to 12 and height to 9\n",
    "fig_size[0] = 12\n",
    "fig_size[1] = 9\n",
    "plt.rcParams[\"figure.figsize\"] = fig_size"
   ]
  },
  {
   "cell_type": "code",
   "execution_count": 8,
   "metadata": {},
   "outputs": [
    {
     "data": {
      "image/png": "[encoded data removed]",
      "text/plain": [
       "<matplotlib.figure.Figure at 0x2001e1c36d8>"
      ]
     },
     "metadata": {},
     "output_type": "display_data"
    }
   ],
   "source": [
    "#plot this information on a bar graph to visualize the results \n",
    "pd.value_counts(austin311_df['owning_department']).plot.bar(color = \"forestgreen\")\n",
    "plt.gcf().subplots_adjust(bottom=0.45)\n",
    "plt.title('Austin 311 Calls 2014 - 2016', fontsize=20, color = \"seagreen\")\n",
    "plt.xlabel('Department', fontsize=16, color = \"darkgreen\")\n",
    "plt.ylabel('Number of Calls', fontsize=16, color = \"darkgreen\")\n",
    "plt.savefig(\"overviewbydepartment.png\")\n",
    "plt.show()"
   ]
  },
  {
   "cell_type": "code",
   "execution_count": 9,
   "metadata": {},
   "outputs": [
    {
     "name": "stdout",
     "output_type": "stream",
     "text": [
      "0      Animal Services Office\n",
      "1      Austin Code Department\n",
      "2              Transportation\n",
      "3    Austin Resource Recovery\n",
      "4                Public Works\n",
      "Name: index, dtype: object\n"
     ]
    }
   ],
   "source": [
    "# identify most common types of issues (count over 30000)\n",
    "top_complaints = austin311_df.owning_department.value_counts().reset_index(name=\"count\").query(\"count > 30000\")[\"index\"]\n",
    "print(top_complaints)"
   ]
  },
  {
   "cell_type": "code",
   "execution_count": 10,
   "metadata": {},
   "outputs": [
    {
     "data": {
      "text/html": [
       "<div>\n",
       "<style>\n",
       "    .dataframe thead tr:only-child th {\n",
       "        text-align: right;\n",
       "    }\n",
       "\n",
       "    .dataframe thead th {\n",
       "        text-align: left;\n",
       "    }\n",
       "\n",
       "    .dataframe tbody tr th {\n",
       "        vertical-align: top;\n",
       "    }\n",
       "</style>\n",
       "<table border=\"1\" class=\"dataframe\">\n",
       "  <thead>\n",
       "    <tr style=\"text-align: right;\">\n",
       "      <th></th>\n",
       "      <th>incident_zip</th>\n",
       "      <th>owning_department</th>\n",
       "      <th>complaint_description</th>\n",
       "      <th>complaint_type</th>\n",
       "      <th>latitude</th>\n",
       "      <th>longitude</th>\n",
       "      <th>year</th>\n",
       "      <th>month</th>\n",
       "    </tr>\n",
       "  </thead>\n",
       "  <tbody>\n",
       "    <tr>\n",
       "      <th>0</th>\n",
       "      <td>78741</td>\n",
       "      <td>Animal Services Office</td>\n",
       "      <td>Loose Dog</td>\n",
       "      <td>ACLONAG</td>\n",
       "      <td>30.224549</td>\n",
       "      <td>-97.690675</td>\n",
       "      <td>2015</td>\n",
       "      <td>1</td>\n",
       "    </tr>\n",
       "    <tr>\n",
       "      <th>1</th>\n",
       "      <td>78757</td>\n",
       "      <td>Animal Services Office</td>\n",
       "      <td>Loose Dog</td>\n",
       "      <td>ACLONAG</td>\n",
       "      <td>30.350881</td>\n",
       "      <td>-97.747492</td>\n",
       "      <td>2016</td>\n",
       "      <td>5</td>\n",
       "    </tr>\n",
       "    <tr>\n",
       "      <th>2</th>\n",
       "      <td>78744</td>\n",
       "      <td>Animal Services Office</td>\n",
       "      <td>Loose Animal (not dog)</td>\n",
       "      <td>ACLOANIM</td>\n",
       "      <td>30.199263</td>\n",
       "      <td>-97.711366</td>\n",
       "      <td>2014</td>\n",
       "      <td>1</td>\n",
       "    </tr>\n",
       "    <tr>\n",
       "      <th>4</th>\n",
       "      <td>78723</td>\n",
       "      <td>Animal Services Office</td>\n",
       "      <td>Animal - Proper Care</td>\n",
       "      <td>ACPROPER</td>\n",
       "      <td>30.311821</td>\n",
       "      <td>-97.669302</td>\n",
       "      <td>2014</td>\n",
       "      <td>7</td>\n",
       "    </tr>\n",
       "    <tr>\n",
       "      <th>5</th>\n",
       "      <td>78702</td>\n",
       "      <td>Animal Services Office</td>\n",
       "      <td>Animal - Proper Care</td>\n",
       "      <td>ACPROPER</td>\n",
       "      <td>30.272079</td>\n",
       "      <td>-97.708163</td>\n",
       "      <td>2016</td>\n",
       "      <td>6</td>\n",
       "    </tr>\n",
       "  </tbody>\n",
       "</table>\n",
       "</div>"
      ],
      "text/plain": [
       "   incident_zip       owning_department   complaint_description  \\\n",
       "0         78741  Animal Services Office               Loose Dog   \n",
       "1         78757  Animal Services Office               Loose Dog   \n",
       "2         78744  Animal Services Office  Loose Animal (not dog)   \n",
       "4         78723  Animal Services Office    Animal - Proper Care   \n",
       "5         78702  Animal Services Office    Animal - Proper Care   \n",
       "\n",
       "  complaint_type   latitude  longitude  year  month  \n",
       "0        ACLONAG  30.224549 -97.690675  2015      1  \n",
       "1        ACLONAG  30.350881 -97.747492  2016      5  \n",
       "2       ACLOANIM  30.199263 -97.711366  2014      1  \n",
       "4       ACPROPER  30.311821 -97.669302  2014      7  \n",
       "5       ACPROPER  30.272079 -97.708163  2016      6  "
      ]
     },
     "execution_count": 10,
     "metadata": {},
     "output_type": "execute_result"
    }
   ],
   "source": [
    "# expland upon the specific types of the animal services information complaints (largest overall count from above)\n",
    "animal_services = austin311_df[austin311_df['owning_department'].str.contains('Animal Services Office')]\n",
    "animal_services.head()"
   ]
  },
  {
   "cell_type": "code",
   "execution_count": 11,
   "metadata": {},
   "outputs": [
    {
     "data": {
      "text/plain": [
       "Loose Dog                              27352\n",
       "Animal Control - Assistance Request    17857\n",
       "Injured / Sick Animal                  13371\n",
       "Animal - Proper Care                    4959\n",
       "Wildlife Exposure                       4601\n",
       "Animal Bite                             4048\n",
       "Found Animal - Pick Up                  2811\n",
       "Found Animal Report - Keep              2626\n",
       "Dangerous/Vicious Dog Investigation     1674\n",
       "Loose Animal Not Dog                    1344\n",
       "Bat Complaint                            963\n",
       "Coyote Complaints                        749\n",
       "Animal In Vehicle                        744\n",
       "Animal Trapped in Storm Drain            371\n",
       "Loose Animal (not dog)                   336\n",
       "Animal Roadside Sales                     77\n",
       "Dangerous Animal - Except Dogs            69\n",
       "zCoyote Complaints                         3\n",
       "zz - Coyote Compliants                     1\n",
       "Dead Bird                                  1\n",
       "Name: complaint_description, dtype: int64"
      ]
     },
     "execution_count": 11,
     "metadata": {},
     "output_type": "execute_result"
    }
   ],
   "source": [
    "#drill down to how many by type of commplaint\n",
    "animal_services['complaint_description'].value_counts()"
   ]
  },
  {
   "cell_type": "code",
   "execution_count": 12,
   "metadata": {
    "collapsed": true
   },
   "outputs": [],
   "source": [
    "#combine coyote complaint types - likely typos\n",
    "pd.options.mode.chained_assignment = None\n",
    "animal_services['complaint_description'] = animal_services['complaint_description'].str.replace(\"zCoyote Complaints\", \"Coyote Complaints\")\n",
    "animal_services['complaint_description'] = animal_services['complaint_description'].str.replace(\"zz - Coyote Compliants\", \"Coyote Complaints\")"
   ]
  },
  {
   "cell_type": "code",
   "execution_count": 13,
   "metadata": {},
   "outputs": [
    {
     "data": {
      "text/plain": [
       "Loose Dog                              27352\n",
       "Animal Control - Assistance Request    17857\n",
       "Injured / Sick Animal                  13371\n",
       "Animal - Proper Care                    4959\n",
       "Wildlife Exposure                       4601\n",
       "Animal Bite                             4048\n",
       "Found Animal - Pick Up                  2811\n",
       "Found Animal Report - Keep              2626\n",
       "Dangerous/Vicious Dog Investigation     1674\n",
       "Loose Animal Not Dog                    1344\n",
       "Bat Complaint                            963\n",
       "Coyote Complaints                        753\n",
       "Animal In Vehicle                        744\n",
       "Animal Trapped in Storm Drain            371\n",
       "Loose Animal (not dog)                   336\n",
       "Animal Roadside Sales                     77\n",
       "Dangerous Animal - Except Dogs            69\n",
       "Dead Bird                                  1\n",
       "Name: complaint_description, dtype: int64"
      ]
     },
     "execution_count": 13,
     "metadata": {},
     "output_type": "execute_result"
    }
   ],
   "source": [
    "#verify\n",
    "animal_services['complaint_description'].value_counts()"
   ]
  },
  {
   "cell_type": "code",
   "execution_count": 14,
   "metadata": {
    "collapsed": true
   },
   "outputs": [],
   "source": [
    "#further cleaning  - duplicate columns due to input error and to consolidate small categories to \"other\"\n",
    "animal_services['complaint_description'] = animal_services['complaint_description'].str.replace(\"Animal Roadside Sales\", \"Other\")\n",
    "animal_services['complaint_description'] = animal_services['complaint_description'].str.replace(\"Dangerous Animal - Except Dogs\", \"Other\")\n",
    "animal_services['complaint_description'] = animal_services['complaint_description'].str.replace(\"Dead Bird\", \"Other\")\n",
    "animal_services['complaint_description'] = animal_services['complaint_description'].str.replace(\"Loose Animal (not dog)\", \"Other\")\n"
   ]
  },
  {
   "cell_type": "code",
   "execution_count": 15,
   "metadata": {},
   "outputs": [
    {
     "data": {
      "text/plain": [
       "Loose Dog                              27352\n",
       "Animal Control - Assistance Request    17857\n",
       "Injured / Sick Animal                  13371\n",
       "Animal - Proper Care                    4959\n",
       "Wildlife Exposure                       4601\n",
       "Animal Bite                             4048\n",
       "Found Animal - Pick Up                  2811\n",
       "Found Animal Report - Keep              2626\n",
       "Dangerous/Vicious Dog Investigation     1674\n",
       "Loose Animal Not Dog                    1344\n",
       "Bat Complaint                            963\n",
       "Coyote Complaints                        753\n",
       "Animal In Vehicle                        744\n",
       "Animal Trapped in Storm Drain            371\n",
       "Loose Animal (not dog)                   336\n",
       "Other                                    147\n",
       "Name: complaint_description, dtype: int64"
      ]
     },
     "execution_count": 15,
     "metadata": {},
     "output_type": "execute_result"
    }
   ],
   "source": [
    "#recheck to verify corrections and consolidation\n",
    "animal_services['complaint_description'].value_counts()"
   ]
  },
  {
   "cell_type": "code",
   "execution_count": 16,
   "metadata": {},
   "outputs": [
    {
     "data": {
      "text/plain": [
       "0    78744\n",
       "1    78745\n",
       "2    78741\n",
       "3    78753\n",
       "4    78758\n",
       "5    78704\n",
       "6    78702\n",
       "7    78723\n",
       "8    78748\n",
       "9    78724\n",
       "Name: index, dtype: int64"
      ]
     },
     "execution_count": 16,
     "metadata": {},
     "output_type": "execute_result"
    }
   ],
   "source": [
    "#top zip codes with the most animal services complaints (> 3000)\n",
    "animal_services.incident_zip.value_counts().reset_index(name=\"count\").query(\"count > 3000\")[\"index\"]"
   ]
  },
  {
   "cell_type": "code",
   "execution_count": 17,
   "metadata": {},
   "outputs": [
    {
     "name": "stdout",
     "output_type": "stream",
     "text": [
      "0                              Loose Dog\n",
      "1    Animal Control - Assistance Request\n",
      "2                  Injured / Sick Animal\n",
      "3                   Animal - Proper Care\n",
      "4                      Wildlife Exposure\n",
      "5                            Animal Bite\n",
      "Name: index, dtype: object\n"
     ]
    }
   ],
   "source": [
    "# check most common types of animal complaints (count over 3000)\n",
    "topanimal_complaints = animal_services.complaint_description.value_counts().reset_index(name=\"count\").query(\"count > 3000\")[\"index\"]\n",
    "print(topanimal_complaints)"
   ]
  },
  {
   "cell_type": "code",
   "execution_count": 18,
   "metadata": {},
   "outputs": [
    {
     "data": {
      "image/png": "[encoded data removed]",
      "text/plain": [
       "<matplotlib.figure.Figure at 0x2001e250cc0>"
      ]
     },
     "metadata": {},
     "output_type": "display_data"
    }
   ],
   "source": [
    "#plot the Animal Services data\n",
    "pd.value_counts(animal_services['complaint_description']).plot.bar(color = \"forestgreen\")\n",
    "plt.gcf().subplots_adjust(bottom=0.35)\n",
    "plt.title('Animal Services Calls 2014 - 2016', fontsize=20, color = \"seagreen\")\n",
    "plt.xlabel('Type of complaint', fontsize=18, color = \"darkgreen\")\n",
    "plt.ylabel('Number of Calls', fontsize=16, color = \"darkgreen\")\n",
    "plt.savefig(\"overviewanimalservices.png\")\n",
    "plt.show()"
   ]
  },
  {
   "cell_type": "code",
   "execution_count": 19,
   "metadata": {},
   "outputs": [
    {
     "data": {
      "text/html": [
       "<div>\n",
       "<style>\n",
       "    .dataframe thead tr:only-child th {\n",
       "        text-align: right;\n",
       "    }\n",
       "\n",
       "    .dataframe thead th {\n",
       "        text-align: left;\n",
       "    }\n",
       "\n",
       "    .dataframe tbody tr th {\n",
       "        vertical-align: top;\n",
       "    }\n",
       "</style>\n",
       "<table border=\"1\" class=\"dataframe\">\n",
       "  <thead>\n",
       "    <tr style=\"text-align: right;\">\n",
       "      <th></th>\n",
       "      <th>incident_zip</th>\n",
       "      <th>owning_department</th>\n",
       "      <th>complaint_description</th>\n",
       "      <th>complaint_type</th>\n",
       "      <th>latitude</th>\n",
       "      <th>longitude</th>\n",
       "      <th>year</th>\n",
       "      <th>month</th>\n",
       "    </tr>\n",
       "  </thead>\n",
       "  <tbody>\n",
       "    <tr>\n",
       "      <th>3</th>\n",
       "      <td>78727</td>\n",
       "      <td>Austin Code Department</td>\n",
       "      <td>Austin Code - Request Code Officer</td>\n",
       "      <td>CODECOMP</td>\n",
       "      <td>30.425112</td>\n",
       "      <td>-97.707188</td>\n",
       "      <td>2014</td>\n",
       "      <td>11</td>\n",
       "    </tr>\n",
       "    <tr>\n",
       "      <th>6</th>\n",
       "      <td>78744</td>\n",
       "      <td>Austin Code Department</td>\n",
       "      <td>Austin Code - Request Code Officer</td>\n",
       "      <td>CODECOMP</td>\n",
       "      <td>30.178479</td>\n",
       "      <td>-97.763169</td>\n",
       "      <td>2015</td>\n",
       "      <td>8</td>\n",
       "    </tr>\n",
       "    <tr>\n",
       "      <th>9</th>\n",
       "      <td>78759</td>\n",
       "      <td>Austin Code Department</td>\n",
       "      <td>Austin Code - Request Code Officer</td>\n",
       "      <td>CODECOMP</td>\n",
       "      <td>30.429089</td>\n",
       "      <td>-97.765658</td>\n",
       "      <td>2017</td>\n",
       "      <td>8</td>\n",
       "    </tr>\n",
       "    <tr>\n",
       "      <th>12</th>\n",
       "      <td>78701</td>\n",
       "      <td>Austin Code Department</td>\n",
       "      <td>Austin Code - Request Code Officer</td>\n",
       "      <td>CODECOMP</td>\n",
       "      <td>30.261816</td>\n",
       "      <td>-97.741129</td>\n",
       "      <td>2016</td>\n",
       "      <td>8</td>\n",
       "    </tr>\n",
       "    <tr>\n",
       "      <th>17</th>\n",
       "      <td>78705</td>\n",
       "      <td>Austin Code Department</td>\n",
       "      <td>Austin Code - Request Code Officer</td>\n",
       "      <td>CODECOMP</td>\n",
       "      <td>30.286623</td>\n",
       "      <td>-97.748503</td>\n",
       "      <td>2016</td>\n",
       "      <td>9</td>\n",
       "    </tr>\n",
       "  </tbody>\n",
       "</table>\n",
       "</div>"
      ],
      "text/plain": [
       "    incident_zip       owning_department               complaint_description  \\\n",
       "3          78727  Austin Code Department  Austin Code - Request Code Officer   \n",
       "6          78744  Austin Code Department  Austin Code - Request Code Officer   \n",
       "9          78759  Austin Code Department  Austin Code - Request Code Officer   \n",
       "12         78701  Austin Code Department  Austin Code - Request Code Officer   \n",
       "17         78705  Austin Code Department  Austin Code - Request Code Officer   \n",
       "\n",
       "   complaint_type   latitude  longitude  year  month  \n",
       "3        CODECOMP  30.425112 -97.707188  2014     11  \n",
       "6        CODECOMP  30.178479 -97.763169  2015      8  \n",
       "9        CODECOMP  30.429089 -97.765658  2017      8  \n",
       "12       CODECOMP  30.261816 -97.741129  2016      8  \n",
       "17       CODECOMP  30.286623 -97.748503  2016      9  "
      ]
     },
     "execution_count": 19,
     "metadata": {},
     "output_type": "execute_result"
    }
   ],
   "source": [
    "#code department info\n",
    "code_department = austin311_df[austin311_df['owning_department'].str.contains('Austin Code Department')]\n",
    "code_department.head()"
   ]
  },
  {
   "cell_type": "code",
   "execution_count": 20,
   "metadata": {},
   "outputs": [
    {
     "data": {
      "text/plain": [
       "Austin Code - Request Code Officer                   71861\n",
       "Austin Code - Signs/Billboards                        2345\n",
       "Austin Code - Short Term Rental Complaint SR          1691\n",
       "Austin Code - Short Term Rental (STR) Appointment      804\n",
       "Short Term Rental Complaint SR                         278\n",
       "Austin Code - Construction Ordinance SR                158\n",
       "Austin Code - Construction Rest Break Complaint         36\n",
       "Austin Code - Woodridge Apt                              2\n",
       "Code Compliance - Signs/Billboards                       1\n",
       "Name: complaint_description, dtype: int64"
      ]
     },
     "execution_count": 20,
     "metadata": {},
     "output_type": "execute_result"
    }
   ],
   "source": [
    "#Check types and numbers of code complaints\n",
    "code_department['complaint_description'].value_counts()"
   ]
  },
  {
   "cell_type": "code",
   "execution_count": 21,
   "metadata": {
    "collapsed": true
   },
   "outputs": [],
   "source": [
    "#further cleaning  - duplicate columns due to input error\n",
    "code_department['complaint_description'] = code_department['complaint_description'].str.replace(\"Austin Code - \", \"\")\n",
    "code_department['complaint_description'] = code_department['complaint_description'].str.replace(\"Code Compliance - \", \"\")\n"
   ]
  },
  {
   "cell_type": "code",
   "execution_count": 22,
   "metadata": {},
   "outputs": [
    {
     "data": {
      "text/plain": [
       "Request Code Officer                   71861\n",
       "Signs/Billboards                        2346\n",
       "Short Term Rental Complaint SR          1969\n",
       "Short Term Rental (STR) Appointment      804\n",
       "Construction Ordinance SR                158\n",
       "Construction Rest Break Complaint         36\n",
       "Woodridge Apt                              2\n",
       "Name: complaint_description, dtype: int64"
      ]
     },
     "execution_count": 22,
     "metadata": {},
     "output_type": "execute_result"
    }
   ],
   "source": [
    "#Verify \n",
    "code_department['complaint_description'].value_counts()"
   ]
  },
  {
   "cell_type": "code",
   "execution_count": 23,
   "metadata": {},
   "outputs": [
    {
     "data": {
      "text/plain": [
       "0    78745\n",
       "1    78723\n",
       "2    78758\n",
       "3    78753\n",
       "4    78702\n",
       "5    78704\n",
       "6    78741\n",
       "7    78744\n",
       "Name: index, dtype: int64"
      ]
     },
     "execution_count": 23,
     "metadata": {},
     "output_type": "execute_result"
    }
   ],
   "source": [
    "#top zip codes with the most code department complaints (> 3000)\n",
    "code_department.incident_zip.value_counts().reset_index(name=\"count\").query(\"count > 3000\")[\"index\"]"
   ]
  },
  {
   "cell_type": "code",
   "execution_count": 24,
   "metadata": {},
   "outputs": [
    {
     "name": "stdout",
     "output_type": "stream",
     "text": [
      "0                   Request Code Officer\n",
      "1                       Signs/Billboards\n",
      "2         Short Term Rental Complaint SR\n",
      "3    Short Term Rental (STR) Appointment\n",
      "4              Construction Ordinance SR\n",
      "Name: index, dtype: object\n"
     ]
    }
   ],
   "source": [
    "# most common types of code complaints (count over 100)\n",
    "topcode_complaints = code_department.complaint_description.value_counts().reset_index(name=\"count\").query(\"count > 100\")[\"index\"]\n",
    "print(topcode_complaints)"
   ]
  },
  {
   "cell_type": "code",
   "execution_count": 25,
   "metadata": {},
   "outputs": [
    {
     "data": {
      "image/png": "[encoded data removed]",
      "text/plain": [
       "<matplotlib.figure.Figure at 0x2001e38fe48>"
      ]
     },
     "metadata": {},
     "output_type": "display_data"
    }
   ],
   "source": [
    "#plot Code Department data\n",
    "pd.value_counts(code_department['complaint_description']).plot.bar(color = \"forestgreen\")\n",
    "plt.gcf().subplots_adjust(bottom=0.35)\n",
    "plt.title('Code Department Calls 2014 - 2016', fontsize=20, color = \"seagreen\")\n",
    "plt.xlabel('Department', fontsize=18, color = \"darkgreen\")\n",
    "plt.ylabel('Number of Calls', fontsize=16, color = \"darkgreen\")\n",
    "plt.savefig(\"overviewcodedepartment.png\")\n",
    "plt.show()"
   ]
  },
  {
   "cell_type": "code",
   "execution_count": 26,
   "metadata": {},
   "outputs": [
    {
     "data": {
      "text/html": [
       "<div>\n",
       "<style>\n",
       "    .dataframe thead tr:only-child th {\n",
       "        text-align: right;\n",
       "    }\n",
       "\n",
       "    .dataframe thead th {\n",
       "        text-align: left;\n",
       "    }\n",
       "\n",
       "    .dataframe tbody tr th {\n",
       "        vertical-align: top;\n",
       "    }\n",
       "</style>\n",
       "<table border=\"1\" class=\"dataframe\">\n",
       "  <thead>\n",
       "    <tr style=\"text-align: right;\">\n",
       "      <th></th>\n",
       "      <th>incident_zip</th>\n",
       "      <th>owning_department</th>\n",
       "      <th>complaint_description</th>\n",
       "      <th>complaint_type</th>\n",
       "      <th>latitude</th>\n",
       "      <th>longitude</th>\n",
       "      <th>year</th>\n",
       "      <th>month</th>\n",
       "    </tr>\n",
       "  </thead>\n",
       "  <tbody>\n",
       "    <tr>\n",
       "      <th>13</th>\n",
       "      <td>78702</td>\n",
       "      <td>Transportation</td>\n",
       "      <td>Sign - Traffic Sign Emergency</td>\n",
       "      <td>SIGNTRAF</td>\n",
       "      <td>30.256105</td>\n",
       "      <td>-97.718914</td>\n",
       "      <td>2014</td>\n",
       "      <td>5</td>\n",
       "    </tr>\n",
       "    <tr>\n",
       "      <th>20</th>\n",
       "      <td>78742</td>\n",
       "      <td>Transportation</td>\n",
       "      <td>Traffic Signal - Maintenance</td>\n",
       "      <td>TRASIGMA</td>\n",
       "      <td>30.236827</td>\n",
       "      <td>-97.686029</td>\n",
       "      <td>2014</td>\n",
       "      <td>12</td>\n",
       "    </tr>\n",
       "    <tr>\n",
       "      <th>27</th>\n",
       "      <td>78701</td>\n",
       "      <td>Transportation</td>\n",
       "      <td>Traffic Signal - Maintenance</td>\n",
       "      <td>TRASIGMA</td>\n",
       "      <td>30.263381</td>\n",
       "      <td>-97.744572</td>\n",
       "      <td>2016</td>\n",
       "      <td>3</td>\n",
       "    </tr>\n",
       "    <tr>\n",
       "      <th>29</th>\n",
       "      <td>78703</td>\n",
       "      <td>Transportation</td>\n",
       "      <td>Traffic Signal - Maintenance</td>\n",
       "      <td>TRASIGMA</td>\n",
       "      <td>30.283211</td>\n",
       "      <td>-97.776779</td>\n",
       "      <td>2016</td>\n",
       "      <td>7</td>\n",
       "    </tr>\n",
       "    <tr>\n",
       "      <th>36</th>\n",
       "      <td>78751</td>\n",
       "      <td>Transportation</td>\n",
       "      <td>Traffic Signal - Dig Tess Request</td>\n",
       "      <td>TRAFFI10</td>\n",
       "      <td>30.318741</td>\n",
       "      <td>-97.726349</td>\n",
       "      <td>2014</td>\n",
       "      <td>12</td>\n",
       "    </tr>\n",
       "  </tbody>\n",
       "</table>\n",
       "</div>"
      ],
      "text/plain": [
       "    incident_zip owning_department              complaint_description  \\\n",
       "13         78702    Transportation      Sign - Traffic Sign Emergency   \n",
       "20         78742    Transportation       Traffic Signal - Maintenance   \n",
       "27         78701    Transportation       Traffic Signal - Maintenance   \n",
       "29         78703    Transportation       Traffic Signal - Maintenance   \n",
       "36         78751    Transportation  Traffic Signal - Dig Tess Request   \n",
       "\n",
       "   complaint_type   latitude  longitude  year  month  \n",
       "13       SIGNTRAF  30.256105 -97.718914  2014      5  \n",
       "20       TRASIGMA  30.236827 -97.686029  2014     12  \n",
       "27       TRASIGMA  30.263381 -97.744572  2016      3  \n",
       "29       TRASIGMA  30.283211 -97.776779  2016      7  \n",
       "36       TRAFFI10  30.318741 -97.726349  2014     12  "
      ]
     },
     "execution_count": 26,
     "metadata": {},
     "output_type": "execute_result"
    }
   ],
   "source": [
    "#transportation department information\n",
    "transportation = austin311_df[austin311_df['owning_department'].str.contains('Transportation')]\n",
    "transportation.head()"
   ]
  },
  {
   "cell_type": "code",
   "execution_count": 27,
   "metadata": {},
   "outputs": [
    {
     "data": {
      "text/plain": [
       "Traffic Signal - Maintenance                26071\n",
       "Traffic Signal - Dig Tess Request            8757\n",
       "Sign - New                                   4230\n",
       "Sign - Traffic Sign Maintenance              4169\n",
       "Sign - Traffic Sign Emergency                3511\n",
       "Parking Machine Issue                        3095\n",
       "Concerns in the ROW                          2560\n",
       "View Obstruction at Intersection             2289\n",
       "Traffic Signal - New/Change                  2140\n",
       "Sign - Street Name                           2056\n",
       "Road Markings/Striping - Maintenance         1787\n",
       "Sign - Parking Sign Maintenance              1505\n",
       "Traffic Engineering - General                1379\n",
       "Traffic Calming                              1257\n",
       "School Zone Flasher - Timing/Maintenance     1189\n",
       "Road Markings/Striping - New                 1060\n",
       "Bicycle Issues                                997\n",
       "Construction Items- ROW                       938\n",
       "Lane/Road Closure Notification                909\n",
       "Construction items in ROW                     863\n",
       "Sidewalk/Curb Ramp/Route - NEW                761\n",
       "Parking Ticket Complaint                      402\n",
       "Speed Limit - Changes/Signs                   308\n",
       "Sign - School Zone Sign Maintenance           250\n",
       "Parking Violation Enforcement                 231\n",
       "School Issues - Crossing Guards               168\n",
       "Construction/Permitting- ROW                  125\n",
       "Vendor Permit - ROW                            58\n",
       "Parking Permit- ROW                            42\n",
       "Residential Parking Permit Enforcement         16\n",
       "Valet Permit - ROW                             15\n",
       "Traffic Engineering - Jurisdiction Issue        9\n",
       "Filming Permit - ROW                            4\n",
       "Utility Coordination - ROW                      4\n",
       "Newspaper Rack- ROW                             3\n",
       "Emergency Road Closure Report                   1\n",
       "Name: complaint_description, dtype: int64"
      ]
     },
     "execution_count": 27,
     "metadata": {},
     "output_type": "execute_result"
    }
   ],
   "source": [
    "#Check types and numbers of transportation complaints\n",
    "transportation['complaint_description'].value_counts()"
   ]
  },
  {
   "cell_type": "code",
   "execution_count": 28,
   "metadata": {
    "collapsed": true
   },
   "outputs": [],
   "source": [
    "#consolidate all \"right of way\" concerns\n",
    "transportation['complaint_description'] = transportation['complaint_description'].str.replace(\"Newspaper Rack- ROW\", \"Right of Way Concerns\")\n",
    "transportation['complaint_description'] = transportation['complaint_description'].str.replace(\"Filming Permit - ROW\", \"Right of Way Concerns\")\n",
    "transportation['complaint_description'] = transportation['complaint_description'].str.replace(\"Utility Coordination - ROW\", \"Right of Way Concerns\")\n",
    "transportation['complaint_description'] = transportation['complaint_description'].str.replace(\"Valet Permit - ROW\", \"Right of Way Concerns\")\n",
    "transportation['complaint_description'] = transportation['complaint_description'].str.replace(\"Parking Permit- ROW\", \"Right of Way Concerns\")\n",
    "transportation['complaint_description'] = transportation['complaint_description'].str.replace(\"Vendor Permit - ROW\", \"Right of Way Concerns\")\n",
    "transportation['complaint_description'] = transportation['complaint_description'].str.replace(\"Construction/Permitting- ROW\", \"Right of Way Concerns\")\n",
    "transportation['complaint_description'] = transportation['complaint_description'].str.replace(\"Construction items in ROW\", \"Right of Way Concerns\")\n",
    "transportation['complaint_description'] = transportation['complaint_description'].str.replace(\"Concerns in the ROW\", \"Right of Way Concerns\")"
   ]
  },
  {
   "cell_type": "code",
   "execution_count": 29,
   "metadata": {},
   "outputs": [
    {
     "data": {
      "text/plain": [
       "Traffic Signal - Maintenance                26071\n",
       "Traffic Signal - Dig Tess Request            8757\n",
       "Sign - New                                   4230\n",
       "Sign - Traffic Sign Maintenance              4169\n",
       "Right of Way Concerns                        3674\n",
       "Sign - Traffic Sign Emergency                3511\n",
       "Parking Machine Issue                        3095\n",
       "View Obstruction at Intersection             2289\n",
       "Traffic Signal - New/Change                  2140\n",
       "Sign - Street Name                           2056\n",
       "Road Markings/Striping - Maintenance         1787\n",
       "Sign - Parking Sign Maintenance              1505\n",
       "Traffic Engineering - General                1379\n",
       "Traffic Calming                              1257\n",
       "School Zone Flasher - Timing/Maintenance     1189\n",
       "Road Markings/Striping - New                 1060\n",
       "Bicycle Issues                                997\n",
       "Construction Items- ROW                       938\n",
       "Lane/Road Closure Notification                909\n",
       "Sidewalk/Curb Ramp/Route - NEW                761\n",
       "Parking Ticket Complaint                      402\n",
       "Speed Limit - Changes/Signs                   308\n",
       "Sign - School Zone Sign Maintenance           250\n",
       "Parking Violation Enforcement                 231\n",
       "School Issues - Crossing Guards               168\n",
       "Residential Parking Permit Enforcement         16\n",
       "Traffic Engineering - Jurisdiction Issue        9\n",
       "Emergency Road Closure Report                   1\n",
       "Name: complaint_description, dtype: int64"
      ]
     },
     "execution_count": 29,
     "metadata": {},
     "output_type": "execute_result"
    }
   ],
   "source": [
    "#verify\n",
    "transportation['complaint_description'].value_counts()"
   ]
  },
  {
   "cell_type": "code",
   "execution_count": 30,
   "metadata": {
    "collapsed": true
   },
   "outputs": [],
   "source": [
    "#consolidate insignificant numbers of individual complaint types to \"other\"\n",
    "transportation['complaint_description'] = transportation['complaint_description'].str.replace(\"Emergency Road Closure Report\", \"Other\")\n",
    "transportation['complaint_description'] = transportation['complaint_description'].str.replace(\"Traffic Engineering - Jurisdiction Issue\", \"Other\")\n",
    "transportation['complaint_description'] = transportation['complaint_description'].str.replace(\"Residential Parking Permit Enforcement\", \"Other\")"
   ]
  },
  {
   "cell_type": "code",
   "execution_count": 31,
   "metadata": {},
   "outputs": [
    {
     "data": {
      "text/plain": [
       "Traffic Signal - Maintenance                26071\n",
       "Traffic Signal - Dig Tess Request            8757\n",
       "Sign - New                                   4230\n",
       "Sign - Traffic Sign Maintenance              4169\n",
       "Right of Way Concerns                        3674\n",
       "Sign - Traffic Sign Emergency                3511\n",
       "Parking Machine Issue                        3095\n",
       "View Obstruction at Intersection             2289\n",
       "Traffic Signal - New/Change                  2140\n",
       "Sign - Street Name                           2056\n",
       "Road Markings/Striping - Maintenance         1787\n",
       "Sign - Parking Sign Maintenance              1505\n",
       "Traffic Engineering - General                1379\n",
       "Traffic Calming                              1257\n",
       "School Zone Flasher - Timing/Maintenance     1189\n",
       "Road Markings/Striping - New                 1060\n",
       "Bicycle Issues                                997\n",
       "Construction Items- ROW                       938\n",
       "Lane/Road Closure Notification                909\n",
       "Sidewalk/Curb Ramp/Route - NEW                761\n",
       "Parking Ticket Complaint                      402\n",
       "Speed Limit - Changes/Signs                   308\n",
       "Sign - School Zone Sign Maintenance           250\n",
       "Parking Violation Enforcement                 231\n",
       "School Issues - Crossing Guards               168\n",
       "Other                                          26\n",
       "Name: complaint_description, dtype: int64"
      ]
     },
     "execution_count": 31,
     "metadata": {},
     "output_type": "execute_result"
    }
   ],
   "source": [
    "#Verify\n",
    "transportation['complaint_description'].value_counts()"
   ]
  },
  {
   "cell_type": "code",
   "execution_count": 32,
   "metadata": {},
   "outputs": [
    {
     "data": {
      "text/plain": [
       "0    78701\n",
       "1    78704\n",
       "2    78745\n",
       "3    78702\n",
       "4    78758\n",
       "5    78703\n",
       "6    78723\n",
       "Name: index, dtype: int64"
      ]
     },
     "execution_count": 32,
     "metadata": {},
     "output_type": "execute_result"
    }
   ],
   "source": [
    "#top zip codes with the most transportation complaints (> 3000)\n",
    "transportation.incident_zip.value_counts().reset_index(name=\"count\").query(\"count > 3000\")[\"index\"]"
   ]
  },
  {
   "cell_type": "code",
   "execution_count": 33,
   "metadata": {},
   "outputs": [
    {
     "name": "stdout",
     "output_type": "stream",
     "text": [
      "0         Traffic Signal - Maintenance\n",
      "1    Traffic Signal - Dig Tess Request\n",
      "2                           Sign - New\n",
      "3      Sign - Traffic Sign Maintenance\n",
      "4                Right of Way Concerns\n",
      "5        Sign - Traffic Sign Emergency\n",
      "6                Parking Machine Issue\n",
      "Name: index, dtype: object\n"
     ]
    }
   ],
   "source": [
    "# most common types of transportation complaints (count over 3000)\n",
    "toptrans_complaints = transportation.complaint_description.value_counts().reset_index(name=\"count\").query(\"count > 3000\")[\"index\"]\n",
    "print(toptrans_complaints)"
   ]
  },
  {
   "cell_type": "code",
   "execution_count": 34,
   "metadata": {},
   "outputs": [
    {
     "data": {
      "image/png": "[encoded data removed]",
      "text/plain": [
       "<matplotlib.figure.Figure at 0x2001e39efd0>"
      ]
     },
     "metadata": {},
     "output_type": "display_data"
    }
   ],
   "source": [
    "#Plot the transportation calls\n",
    "pd.value_counts(transportation['complaint_description']).plot.bar(color = \"forestgreen\")\n",
    "plt.gcf().subplots_adjust(bottom=0.45)\n",
    "plt.title('Transportation Calls', fontsize=20, color= \"seagreen\")\n",
    "plt.xlabel('Department', fontsize=18, color = \"forestgreen\")\n",
    "plt.ylabel('Number of Calls', fontsize=16, color = \"forestgreen\")\n",
    "plt.savefig(\"overviewtransportation.png\")\n",
    "plt.show()"
   ]
  },
  {
   "cell_type": "code",
   "execution_count": 35,
   "metadata": {},
   "outputs": [
    {
     "data": {
      "text/html": [
       "<div>\n",
       "<style>\n",
       "    .dataframe thead tr:only-child th {\n",
       "        text-align: right;\n",
       "    }\n",
       "\n",
       "    .dataframe thead th {\n",
       "        text-align: left;\n",
       "    }\n",
       "\n",
       "    .dataframe tbody tr th {\n",
       "        vertical-align: top;\n",
       "    }\n",
       "</style>\n",
       "<table border=\"1\" class=\"dataframe\">\n",
       "  <thead>\n",
       "    <tr style=\"text-align: right;\">\n",
       "      <th></th>\n",
       "      <th>incident_zip</th>\n",
       "      <th>owning_department</th>\n",
       "      <th>complaint_description</th>\n",
       "      <th>complaint_type</th>\n",
       "      <th>latitude</th>\n",
       "      <th>longitude</th>\n",
       "      <th>year</th>\n",
       "      <th>month</th>\n",
       "    </tr>\n",
       "  </thead>\n",
       "  <tbody>\n",
       "    <tr>\n",
       "      <th>43</th>\n",
       "      <td>78721</td>\n",
       "      <td>Austin Resource Recovery</td>\n",
       "      <td>ARR Missed Recycling</td>\n",
       "      <td>SWSRECYC</td>\n",
       "      <td>30.278679</td>\n",
       "      <td>-97.690474</td>\n",
       "      <td>2016</td>\n",
       "      <td>3</td>\n",
       "    </tr>\n",
       "    <tr>\n",
       "      <th>55</th>\n",
       "      <td>78731</td>\n",
       "      <td>Austin Resource Recovery</td>\n",
       "      <td>ARR Dead Animal Collection</td>\n",
       "      <td>SWSDEADA</td>\n",
       "      <td>30.367478</td>\n",
       "      <td>-97.759874</td>\n",
       "      <td>2017</td>\n",
       "      <td>6</td>\n",
       "    </tr>\n",
       "    <tr>\n",
       "      <th>56</th>\n",
       "      <td>78758</td>\n",
       "      <td>Austin Resource Recovery</td>\n",
       "      <td>ARR Street Sweeping</td>\n",
       "      <td>SWSSTSWE</td>\n",
       "      <td>30.393850</td>\n",
       "      <td>-97.717670</td>\n",
       "      <td>2017</td>\n",
       "      <td>6</td>\n",
       "    </tr>\n",
       "    <tr>\n",
       "      <th>60</th>\n",
       "      <td>78757</td>\n",
       "      <td>Austin Resource Recovery</td>\n",
       "      <td>ARR Missed Recycling</td>\n",
       "      <td>SWSRECYC</td>\n",
       "      <td>30.351236</td>\n",
       "      <td>-97.724405</td>\n",
       "      <td>2017</td>\n",
       "      <td>6</td>\n",
       "    </tr>\n",
       "    <tr>\n",
       "      <th>72</th>\n",
       "      <td>78727</td>\n",
       "      <td>Austin Resource Recovery</td>\n",
       "      <td>ARR Dead Animal Collection</td>\n",
       "      <td>SWSDEADA</td>\n",
       "      <td>30.412723</td>\n",
       "      <td>-97.722786</td>\n",
       "      <td>2015</td>\n",
       "      <td>6</td>\n",
       "    </tr>\n",
       "  </tbody>\n",
       "</table>\n",
       "</div>"
      ],
      "text/plain": [
       "    incident_zip         owning_department       complaint_description  \\\n",
       "43         78721  Austin Resource Recovery        ARR Missed Recycling   \n",
       "55         78731  Austin Resource Recovery  ARR Dead Animal Collection   \n",
       "56         78758  Austin Resource Recovery         ARR Street Sweeping   \n",
       "60         78757  Austin Resource Recovery        ARR Missed Recycling   \n",
       "72         78727  Austin Resource Recovery  ARR Dead Animal Collection   \n",
       "\n",
       "   complaint_type   latitude  longitude  year  month  \n",
       "43       SWSRECYC  30.278679 -97.690474  2016      3  \n",
       "55       SWSDEADA  30.367478 -97.759874  2017      6  \n",
       "56       SWSSTSWE  30.393850 -97.717670  2017      6  \n",
       "60       SWSRECYC  30.351236 -97.724405  2017      6  \n",
       "72       SWSDEADA  30.412723 -97.722786  2015      6  "
      ]
     },
     "execution_count": 35,
     "metadata": {},
     "output_type": "execute_result"
    }
   ],
   "source": [
    "#Resource Recovery department information\n",
    "resource_recovery = austin311_df[austin311_df['owning_department'].str.contains('Austin Resource Recovery')]\n",
    "resource_recovery.head()"
   ]
  },
  {
   "cell_type": "code",
   "execution_count": 36,
   "metadata": {},
   "outputs": [
    {
     "data": {
      "text/plain": [
       "ARR Missed Recycling                                 20358\n",
       "ARR Dead Animal Collection                           19406\n",
       "ARR Missed Yard Trimmings /Organics                  12733\n",
       "ARR Brush and Bulk                                    5066\n",
       "ARR Street Sweeping                                   2441\n",
       "Austin Code - Request Code Officer                    1667\n",
       "ARR Missed Yard Trimmings/Compost                      175\n",
       "Ordinance Universal Recycling                          103\n",
       "Austin Code - Signs/Billboards                          95\n",
       "Austin Code - Short Term Rental (STR) Appointment       92\n",
       "Ordinance Single-Use Carryout Bags                      63\n",
       "ARR Dumpster                                            41\n",
       "Austin Code - Construction Ordinance SR                  1\n",
       "Name: complaint_description, dtype: int64"
      ]
     },
     "execution_count": 36,
     "metadata": {},
     "output_type": "execute_result"
    }
   ],
   "source": [
    "# Check number of each type of Resource Recovery complaint\n",
    "resource_recovery['complaint_description'].value_counts()"
   ]
  },
  {
   "cell_type": "code",
   "execution_count": 37,
   "metadata": {
    "collapsed": true
   },
   "outputs": [],
   "source": [
    "#resource recovery also needs further cleaning\n",
    "resource_recovery['complaint_description'] = resource_recovery['complaint_description'].str.replace(\"Austin Code - \", \"\")\n",
    "resource_recovery['complaint_description'] = resource_recovery['complaint_description'].str.replace(\"ARR \", \"\")"
   ]
  },
  {
   "cell_type": "code",
   "execution_count": 38,
   "metadata": {},
   "outputs": [
    {
     "data": {
      "text/plain": [
       "Missed Recycling                       20358\n",
       "Dead Animal Collection                 19406\n",
       "Missed Yard Trimmings /Organics        12733\n",
       "Brush and Bulk                          5066\n",
       "Street Sweeping                         2441\n",
       "Request Code Officer                    1667\n",
       "Missed Yard Trimmings/Compost            175\n",
       "Ordinance Universal Recycling            103\n",
       "Signs/Billboards                          95\n",
       "Short Term Rental (STR) Appointment       92\n",
       "Ordinance Single-Use Carryout Bags        63\n",
       "Dumpster                                  41\n",
       "Construction Ordinance SR                  1\n",
       "Name: complaint_description, dtype: int64"
      ]
     },
     "execution_count": 38,
     "metadata": {},
     "output_type": "execute_result"
    }
   ],
   "source": [
    "#Verify\n",
    "resource_recovery['complaint_description'].value_counts()"
   ]
  },
  {
   "cell_type": "code",
   "execution_count": 39,
   "metadata": {},
   "outputs": [
    {
     "data": {
      "text/plain": [
       "Missed Recycling                      20358\n",
       "Dead Animal Collection                19406\n",
       "Missed Yard Trimmings /Organics       12733\n",
       "Brush and Bulk                         5066\n",
       "Street Sweeping                        2441\n",
       "Request Code Officer                   1667\n",
       "Missed Yard Trimmings/Compost           175\n",
       "Ordinance Universal Recycling           103\n",
       "Signs/Billboards                         95\n",
       "Ordinance Single-Use Carryout Bags       63\n",
       "Dumpster                                 41\n",
       "Construction Ordinance SR                 1\n",
       "Name: complaint_description, dtype: int64"
      ]
     },
     "execution_count": 39,
     "metadata": {},
     "output_type": "execute_result"
    }
   ],
   "source": [
    "#Remove Short Term Rental appointment as it appears to be entered incorrectly (should be under Code Department) and verify\n",
    "resource_recovery = resource_recovery[~resource_recovery[\"complaint_description\"].isin([\"Short Term Rental (STR) Appointment\"])]\n",
    "resource_recovery[\"complaint_description\"].value_counts()"
   ]
  },
  {
   "cell_type": "code",
   "execution_count": 40,
   "metadata": {
    "collapsed": true
   },
   "outputs": [],
   "source": [
    "#resource_recovery consolidate small types to \"other\"\n",
    "resource_recovery['complaint_description'] = resource_recovery['complaint_description'].str.replace(\"Construction Ordinance SR\", \"Other\")\n",
    "resource_recovery['complaint_description'] = resource_recovery['complaint_description'].str.replace(\"Dumpster\", \"Other\")\n",
    "resource_recovery['complaint_description'] = resource_recovery['complaint_description'].str.replace(\"Ordinance Single-Use Carryout Bags\", \"Other\")\n",
    "resource_recovery['complaint_description'] = resource_recovery['complaint_description'].str.replace(\"Signs/Billboards\", \"Other\")\n",
    "resource_recovery['complaint_description'] = resource_recovery['complaint_description'].str.replace(\"Ordinance Universal Recycling\", \"Other\")\n",
    "resource_recovery['complaint_description'] = resource_recovery['complaint_description'].str.replace(\"Construction Ordinance SR\", \"Other\")\n",
    "resource_recovery['complaint_description'] = resource_recovery['complaint_description'].str.replace(\"Missed Yard Trimmings/Compost\", \"Other\")"
   ]
  },
  {
   "cell_type": "code",
   "execution_count": 41,
   "metadata": {},
   "outputs": [
    {
     "data": {
      "text/plain": [
       "Missed Recycling                   20358\n",
       "Dead Animal Collection             19406\n",
       "Missed Yard Trimmings /Organics    12733\n",
       "Brush and Bulk                      5066\n",
       "Street Sweeping                     2441\n",
       "Request Code Officer                1667\n",
       "Other                                478\n",
       "Name: complaint_description, dtype: int64"
      ]
     },
     "execution_count": 41,
     "metadata": {},
     "output_type": "execute_result"
    }
   ],
   "source": [
    "#Verify\n",
    "resource_recovery['complaint_description'].value_counts()"
   ]
  },
  {
   "cell_type": "code",
   "execution_count": 42,
   "metadata": {},
   "outputs": [
    {
     "data": {
      "text/plain": [
       "0    78745\n",
       "1    78704\n",
       "2    78702\n",
       "3    78759\n",
       "4    78748\n",
       "5    78731\n",
       "6    78744\n",
       "Name: index, dtype: int64"
      ]
     },
     "execution_count": 42,
     "metadata": {},
     "output_type": "execute_result"
    }
   ],
   "source": [
    "#top number of complaints by zip (> 3000)\n",
    "resource_recovery.incident_zip.value_counts().reset_index(name=\"count\").query(\"count > 3000\")[\"index\"]"
   ]
  },
  {
   "cell_type": "code",
   "execution_count": 43,
   "metadata": {},
   "outputs": [
    {
     "name": "stdout",
     "output_type": "stream",
     "text": [
      "0                   Missed Recycling\n",
      "1             Dead Animal Collection\n",
      "2    Missed Yard Trimmings /Organics\n",
      "3                     Brush and Bulk\n",
      "4                    Street Sweeping\n",
      "5               Request Code Officer\n",
      "Name: index, dtype: object\n"
     ]
    }
   ],
   "source": [
    "# most common types of resource recovery complaints (count over 1000)\n",
    "topresource_complaints = resource_recovery.complaint_description.value_counts().reset_index(name=\"count\").query(\"count > 1000\")[\"index\"]\n",
    "print(topresource_complaints)"
   ]
  },
  {
   "cell_type": "code",
   "execution_count": 44,
   "metadata": {},
   "outputs": [
    {
     "data": {
      "image/png": "[encoded data removed]",
      "text/plain": [
       "<matplotlib.figure.Figure at 0x20020dbfcf8>"
      ]
     },
     "metadata": {},
     "output_type": "display_data"
    }
   ],
   "source": [
    "#plot resource recovery calls\n",
    "pd.value_counts(resource_recovery['complaint_description']).plot.bar(color = \"forestgreen\")\n",
    "plt.gcf().subplots_adjust(bottom=0.45)\n",
    "plt.title('Resource Recovery Calls', fontsize=20, color = \"seagreen\")\n",
    "plt.xlabel('Department', fontsize=18, color = \"darkgreen\")\n",
    "plt.ylabel('Number of Calls', fontsize=16, color = \"darkgreen\")\n",
    "plt.savefig(\"overviewresourcerecovery.png\")\n",
    "plt.show()"
   ]
  },
  {
   "cell_type": "code",
   "execution_count": 45,
   "metadata": {},
   "outputs": [
    {
     "data": {
      "text/html": [
       "<div>\n",
       "<style>\n",
       "    .dataframe thead tr:only-child th {\n",
       "        text-align: right;\n",
       "    }\n",
       "\n",
       "    .dataframe thead th {\n",
       "        text-align: left;\n",
       "    }\n",
       "\n",
       "    .dataframe tbody tr th {\n",
       "        vertical-align: top;\n",
       "    }\n",
       "</style>\n",
       "<table border=\"1\" class=\"dataframe\">\n",
       "  <thead>\n",
       "    <tr style=\"text-align: right;\">\n",
       "      <th></th>\n",
       "      <th>incident_zip</th>\n",
       "      <th>owning_department</th>\n",
       "      <th>complaint_description</th>\n",
       "      <th>complaint_type</th>\n",
       "      <th>latitude</th>\n",
       "      <th>longitude</th>\n",
       "      <th>year</th>\n",
       "      <th>month</th>\n",
       "    </tr>\n",
       "  </thead>\n",
       "  <tbody>\n",
       "    <tr>\n",
       "      <th>11</th>\n",
       "      <td>78702</td>\n",
       "      <td>Public Works</td>\n",
       "      <td>Pavement Failure</td>\n",
       "      <td>SBPAVEFA</td>\n",
       "      <td>30.251916</td>\n",
       "      <td>-97.704277</td>\n",
       "      <td>2016</td>\n",
       "      <td>3</td>\n",
       "    </tr>\n",
       "    <tr>\n",
       "      <th>37</th>\n",
       "      <td>78704</td>\n",
       "      <td>Public Works</td>\n",
       "      <td>Obstruction in ROW</td>\n",
       "      <td>OBSTMIDB</td>\n",
       "      <td>30.250338</td>\n",
       "      <td>-97.750677</td>\n",
       "      <td>2015</td>\n",
       "      <td>6</td>\n",
       "    </tr>\n",
       "    <tr>\n",
       "      <th>38</th>\n",
       "      <td>78705</td>\n",
       "      <td>Public Works</td>\n",
       "      <td>Curb/Gutter Repair</td>\n",
       "      <td>SBCURBGU</td>\n",
       "      <td>30.296566</td>\n",
       "      <td>-97.735247</td>\n",
       "      <td>2016</td>\n",
       "      <td>10</td>\n",
       "    </tr>\n",
       "    <tr>\n",
       "      <th>44</th>\n",
       "      <td>78753</td>\n",
       "      <td>Public Works</td>\n",
       "      <td>Pothole Repair</td>\n",
       "      <td>SBPOTREP</td>\n",
       "      <td>30.359977</td>\n",
       "      <td>-97.691842</td>\n",
       "      <td>2014</td>\n",
       "      <td>2</td>\n",
       "    </tr>\n",
       "    <tr>\n",
       "      <th>51</th>\n",
       "      <td>78704</td>\n",
       "      <td>Public Works</td>\n",
       "      <td>Tree Issue ROW/Emergency (PW)</td>\n",
       "      <td>PRTRROWE</td>\n",
       "      <td>30.260343</td>\n",
       "      <td>-97.755710</td>\n",
       "      <td>2016</td>\n",
       "      <td>4</td>\n",
       "    </tr>\n",
       "  </tbody>\n",
       "</table>\n",
       "</div>"
      ],
      "text/plain": [
       "    incident_zip owning_department          complaint_description  \\\n",
       "11         78702      Public Works               Pavement Failure   \n",
       "37         78704      Public Works             Obstruction in ROW   \n",
       "38         78705      Public Works             Curb/Gutter Repair   \n",
       "44         78753      Public Works                 Pothole Repair   \n",
       "51         78704      Public Works  Tree Issue ROW/Emergency (PW)   \n",
       "\n",
       "   complaint_type   latitude  longitude  year  month  \n",
       "11       SBPAVEFA  30.251916 -97.704277  2016      3  \n",
       "37       OBSTMIDB  30.250338 -97.750677  2015      6  \n",
       "38       SBCURBGU  30.296566 -97.735247  2016     10  \n",
       "44       SBPOTREP  30.359977 -97.691842  2014      2  \n",
       "51       PRTRROWE  30.260343 -97.755710  2016      4  "
      ]
     },
     "execution_count": 45,
     "metadata": {},
     "output_type": "execute_result"
    }
   ],
   "source": [
    "#Review Public works complaints\n",
    "public_works = austin311_df[austin311_df['owning_department'].str.contains('Public Works')]\n",
    "public_works.head()"
   ]
  },
  {
   "cell_type": "code",
   "execution_count": 46,
   "metadata": {},
   "outputs": [
    {
     "data": {
      "text/plain": [
       "Pothole Repair                        9088\n",
       "Debris in Street                      5986\n",
       "Obstruction in ROW                    5387\n",
       "Tree Issue ROW/Maintenance (PW)       4791\n",
       "Tree Issue ROW/Emergency (PW)         4233\n",
       "Sidewalk Repair                       3604\n",
       "Pavement Failure                      3214\n",
       "Alley & Unpaved Street Maintenance    1565\n",
       "Mowing Medians                        1563\n",
       "Curb/Gutter Repair                     725\n",
       "Street Resurfacing Inquiry             691\n",
       "School Zone - New/Review/Changes       349\n",
       "Guardrail Repair                       301\n",
       "Barricade Request                      213\n",
       "Sidewalk/Curb Ramp/Route - NEW         183\n",
       "Bridge Repair                          134\n",
       "Roadway Spillage                       112\n",
       "Bicycle Issues                          97\n",
       "Road Sanding Request                    53\n",
       "Guardrail - New                         34\n",
       "Tree Issue ROW/Maintenance (PARD)       28\n",
       "School Issues - Crossing Guards         26\n",
       "Tree Issue ROW/Emergency (PARD)         24\n",
       "Fence Repair - MOPAC                     8\n",
       "Name: complaint_description, dtype: int64"
      ]
     },
     "execution_count": 46,
     "metadata": {},
     "output_type": "execute_result"
    }
   ],
   "source": [
    "#type and number of public works complaints\n",
    "public_works['complaint_description'].value_counts()"
   ]
  },
  {
   "cell_type": "code",
   "execution_count": 47,
   "metadata": {},
   "outputs": [
    {
     "data": {
      "text/plain": [
       "0    78745\n",
       "1    78704\n",
       "2    78702\n",
       "3    78703\n",
       "4    78744\n",
       "5    78705\n",
       "Name: index, dtype: int64"
      ]
     },
     "execution_count": 47,
     "metadata": {},
     "output_type": "execute_result"
    }
   ],
   "source": [
    "#top number of complaints by zip (> 2000)\n",
    "public_works.incident_zip.value_counts().reset_index(name=\"count\").query(\"count > 2000\")[\"index\"]"
   ]
  },
  {
   "cell_type": "code",
   "execution_count": 48,
   "metadata": {},
   "outputs": [
    {
     "name": "stdout",
     "output_type": "stream",
     "text": [
      "0                        Pothole Repair\n",
      "1                      Debris in Street\n",
      "2                    Obstruction in ROW\n",
      "3       Tree Issue ROW/Maintenance (PW)\n",
      "4         Tree Issue ROW/Emergency (PW)\n",
      "5                       Sidewalk Repair\n",
      "6                      Pavement Failure\n",
      "7    Alley & Unpaved Street Maintenance\n",
      "8                        Mowing Medians\n",
      "Name: index, dtype: object\n"
     ]
    }
   ],
   "source": [
    "# most common types of public works complaints (count over 1000)\n",
    "topworks_complaints = public_works.complaint_description.value_counts().reset_index(name=\"count\").query(\"count > 1000\")[\"index\"]\n",
    "print(topworks_complaints)"
   ]
  },
  {
   "cell_type": "code",
   "execution_count": 49,
   "metadata": {},
   "outputs": [
    {
     "data": {
      "image/png": "[encoded data removed]",
      "text/plain": [
       "<matplotlib.figure.Figure at 0x20020d26668>"
      ]
     },
     "metadata": {},
     "output_type": "display_data"
    }
   ],
   "source": [
    "#plot public works complaints\n",
    "pd.value_counts(public_works['complaint_description']).plot.bar(color = \"forestgreen\")\n",
    "plt.gcf().subplots_adjust(bottom=0.45)\n",
    "plt.title('Public Works Calls', fontsize=20, color = \"seagreen\")\n",
    "plt.xlabel('Department', fontsize=18, color = \"darkgreen\")\n",
    "plt.ylabel('Number of Calls', fontsize=16, color = \"darkgreen\")\n",
    "plt.savefig(\"overviewpublicworks.png\")\n",
    "plt.show()"
   ]
  },
  {
   "cell_type": "code",
   "execution_count": null,
   "metadata": {
    "collapsed": true
   },
   "outputs": [],
   "source": []
  },
  {
   "cell_type": "code",
   "execution_count": null,
   "metadata": {
    "collapsed": true
   },
   "outputs": [],
   "source": []
  },
  {
   "cell_type": "code",
   "execution_count": null,
   "metadata": {
    "collapsed": true
   },
   "outputs": [],
   "source": []
  }
 ],
 "metadata": {
  "kernelspec": {
   "display_name": "Python 3",
   "language": "python",
   "name": "python3"
  },
  "language_info": {
   "codemirror_mode": {
    "name": "ipython",
    "version": 3
   },
   "file_extension": ".py",
   "mimetype": "text/x-python",
   "name": "python",
   "nbconvert_exporter": "python",
   "pygments_lexer": "ipython3",
   "version": "3.6.2"
  }
 },
 "nbformat": 4,
 "nbformat_minor": 2
}
